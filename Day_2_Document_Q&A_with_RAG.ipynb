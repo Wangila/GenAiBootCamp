{
  "metadata": {
    "kernelspec": {
      "name": "python3",
      "display_name": "Python 3",
      "language": "python"
    },
    "language_info": {
      "name": "python",
      "version": "3.10.14",
      "mimetype": "text/x-python",
      "codemirror_mode": {
        "name": "ipython",
        "version": 3
      },
      "pygments_lexer": "ipython3",
      "nbconvert_exporter": "python",
      "file_extension": ".py"
    },
    "colab": {
      "name": "Day 2 - Document Q&A with RAG",
      "provenance": [],
      "include_colab_link": true
    },
    "kaggle": {
      "accelerator": "none",
      "dataSources": [],
      "dockerImageVersionId": 30786,
      "isInternetEnabled": true,
      "language": "python",
      "sourceType": "notebook",
      "isGpuEnabled": false
    }
  },
  "nbformat_minor": 0,
  "nbformat": 4,
  "cells": [
    {
      "cell_type": "markdown",
      "metadata": {
        "id": "view-in-github",
        "colab_type": "text"
      },
      "source": [
        "<a href=\"https://colab.research.google.com/github/Wangila/GenAiBootCamp/blob/master/Day_2_Document_Q%26A_with_RAG.ipynb\" target=\"_parent\"><img src=\"https://colab.research.google.com/assets/colab-badge.svg\" alt=\"Open In Colab\"/></a>"
      ]
    },
    {
      "cell_type": "markdown",
      "source": [
        "##### Copyright 2025 Google LLC."
      ],
      "metadata": {
        "id": "Tce3stUlHN0L"
      }
    },
    {
      "cell_type": "code",
      "source": [
        "# @title Licensed under the Apache License, Version 2.0 (the \"License\");\n",
        "# you may not use this file except in compliance with the License.\n",
        "# You may obtain a copy of the License at\n",
        "#\n",
        "# https://www.apache.org/licenses/LICENSE-2.0\n",
        "#\n",
        "# Unless required by applicable law or agreed to in writing, software\n",
        "# distributed under the License is distributed on an \"AS IS\" BASIS,\n",
        "# WITHOUT WARRANTIES OR CONDITIONS OF ANY KIND, either express or implied.\n",
        "# See the License for the specific language governing permissions and\n",
        "# limitations under the License."
      ],
      "metadata": {
        "cellView": "form",
        "id": "tuOe1ymfHZPu",
        "jupyter": {
          "source_hidden": true
        },
        "trusted": true,
        "execution": {
          "iopub.status.busy": "2025-03-31T10:16:36.651458Z",
          "iopub.execute_input": "2025-03-31T10:16:36.652127Z",
          "iopub.status.idle": "2025-03-31T10:16:36.658808Z",
          "shell.execute_reply.started": "2025-03-31T10:16:36.652068Z",
          "shell.execute_reply": "2025-03-31T10:16:36.657348Z"
        }
      },
      "outputs": [],
      "execution_count": null
    },
    {
      "cell_type": "markdown",
      "source": [
        "# Day 2 - Document Q&A with RAG using Chroma\n",
        "\n",
        "Welcome back to the Kaggle 5-day Generative AI course!\n",
        "\n",
        "**NOTE**: The Day 1 notebook contains lots of information for getting set up with Kaggle Notebooks. If you are having any issues, please [check out the troubleshooting steps there](https://www.kaggle.com/code/markishere/day-1-prompting#Get-started-with-Kaggle-notebooks).\n",
        "\n",
        "Two big limitations of LLMs are 1) that they only \"know\" the information that they were trained on, and 2) that they have limited input context windows. A way to address both of these limitations is to use a technique called Retrieval Augmented Generation, or RAG. A RAG system has three stages:\n",
        "\n",
        "1. Indexing\n",
        "2. Retrieval\n",
        "3. Generation\n",
        "\n",
        "Indexing happens ahead of time, and allows you to quickly look up relevant information at query-time. When a query comes in, you retrieve relevant documents, combine them with your instructions and the user's query, and have the LLM generate a tailored answer in natural language using the supplied information. This allows you to provide information that the model hasn't seen before, such as product-specific knowledge or live weather updates.\n",
        "\n",
        "In this notebook you will use the Gemini API to create a vector database, retrieve answers to questions from the database and generate a final answer. You will use [Chroma](https://docs.trychroma.com/), an open-source vector database. With Chroma, you can store embeddings alongside metadata, embed documents and queries, and search your documents.\n",
        "\n",
        "## For help\n",
        "\n",
        "**Common issues are covered in the [FAQ and troubleshooting guide](https://www.kaggle.com/code/markishere/day-0-troubleshooting-and-faqs).**\n"
      ],
      "metadata": {
        "id": "CsVPnR8VbXE6"
      }
    },
    {
      "cell_type": "markdown",
      "source": [
        "## Setup\n",
        "\n",
        "First, install ChromaDB and the Gemini API Python SDK."
      ],
      "metadata": {
        "id": "akuOzK4dJl3j"
      }
    },
    {
      "cell_type": "code",
      "source": [
        "!pip uninstall -qqy jupyterlab kfp  # Remove unused conflicting packages\n",
        "!pip install -qU \"google-genai==1.7.0\" \"chromadb==0.6.3\""
      ],
      "metadata": {
        "id": "JbXe7Oodc5dP",
        "trusted": true,
        "execution": {
          "iopub.status.busy": "2025-03-31T10:16:36.660907Z",
          "iopub.execute_input": "2025-03-31T10:16:36.661311Z",
          "iopub.status.idle": "2025-03-31T10:16:49.935275Z",
          "shell.execute_reply.started": "2025-03-31T10:16:36.661277Z",
          "shell.execute_reply": "2025-03-31T10:16:49.933397Z"
        },
        "outputId": "c2ceed9c-d636-4ba5-fe01-92c9d2704562",
        "colab": {
          "base_uri": "https://localhost:8080/"
        }
      },
      "outputs": [
        {
          "output_type": "stream",
          "name": "stdout",
          "text": [
            "\u001b[33mWARNING: Skipping jupyterlab as it is not installed.\u001b[0m\u001b[33m\n",
            "\u001b[0m\u001b[33mWARNING: Skipping kfp as it is not installed.\u001b[0m\u001b[33m\n",
            "\u001b[2K     \u001b[90m━━━━━━━━━━━━━━━━━━━━━━━━━━━━━━━━━━━━━━━━\u001b[0m \u001b[32m67.3/67.3 kB\u001b[0m \u001b[31m3.0 MB/s\u001b[0m eta \u001b[36m0:00:00\u001b[0m\n",
            "\u001b[?25h  Installing build dependencies ... \u001b[?25l\u001b[?25hdone\n",
            "  Getting requirements to build wheel ... \u001b[?25l\u001b[?25hdone\n",
            "  Preparing metadata (pyproject.toml) ... \u001b[?25l\u001b[?25hdone\n",
            "\u001b[2K   \u001b[90m━━━━━━━━━━━━━━━━━━━━━━━━━━━━━━━━━━━━━━━━\u001b[0m \u001b[32m144.7/144.7 kB\u001b[0m \u001b[31m6.4 MB/s\u001b[0m eta \u001b[36m0:00:00\u001b[0m\n",
            "\u001b[2K   \u001b[90m━━━━━━━━━━━━━━━━━━━━━━━━━━━━━━━━━━━━━━━━\u001b[0m \u001b[32m611.1/611.1 kB\u001b[0m \u001b[31m20.7 MB/s\u001b[0m eta \u001b[36m0:00:00\u001b[0m\n",
            "\u001b[2K   \u001b[90m━━━━━━━━━━━━━━━━━━━━━━━━━━━━━━━━━━━━━━━━\u001b[0m \u001b[32m2.4/2.4 MB\u001b[0m \u001b[31m55.4 MB/s\u001b[0m eta \u001b[36m0:00:00\u001b[0m\n",
            "\u001b[2K   \u001b[90m━━━━━━━━━━━━━━━━━━━━━━━━━━━━━━━━━━━━━━━━\u001b[0m \u001b[32m284.2/284.2 kB\u001b[0m \u001b[31m16.6 MB/s\u001b[0m eta \u001b[36m0:00:00\u001b[0m\n",
            "\u001b[2K   \u001b[90m━━━━━━━━━━━━━━━━━━━━━━━━━━━━━━━━━━━━━━━━\u001b[0m \u001b[32m95.2/95.2 kB\u001b[0m \u001b[31m5.9 MB/s\u001b[0m eta \u001b[36m0:00:00\u001b[0m\n",
            "\u001b[2K   \u001b[90m━━━━━━━━━━━━━━━━━━━━━━━━━━━━━━━━━━━━━━━━\u001b[0m \u001b[32m2.0/2.0 MB\u001b[0m \u001b[31m65.5 MB/s\u001b[0m eta \u001b[36m0:00:00\u001b[0m\n",
            "\u001b[2K   \u001b[90m━━━━━━━━━━━━━━━━━━━━━━━━━━━━━━━━━━━━━━━━\u001b[0m \u001b[32m101.6/101.6 kB\u001b[0m \u001b[31m6.3 MB/s\u001b[0m eta \u001b[36m0:00:00\u001b[0m\n",
            "\u001b[2K   \u001b[90m━━━━━━━━━━━━━━━━━━━━━━━━━━━━━━━━━━━━━━━━\u001b[0m \u001b[32m16.4/16.4 MB\u001b[0m \u001b[31m84.9 MB/s\u001b[0m eta \u001b[36m0:00:00\u001b[0m\n",
            "\u001b[2K   \u001b[90m━━━━━━━━━━━━━━━━━━━━━━━━━━━━━━━━━━━━━━━━\u001b[0m \u001b[32m65.8/65.8 kB\u001b[0m \u001b[31m3.2 MB/s\u001b[0m eta \u001b[36m0:00:00\u001b[0m\n",
            "\u001b[2K   \u001b[90m━━━━━━━━━━━━━━━━━━━━━━━━━━━━━━━━━━━━━━━━\u001b[0m \u001b[32m55.9/55.9 kB\u001b[0m \u001b[31m2.7 MB/s\u001b[0m eta \u001b[36m0:00:00\u001b[0m\n",
            "\u001b[2K   \u001b[90m━━━━━━━━━━━━━━━━━━━━━━━━━━━━━━━━━━━━━━━━\u001b[0m \u001b[32m194.9/194.9 kB\u001b[0m \u001b[31m8.9 MB/s\u001b[0m eta \u001b[36m0:00:00\u001b[0m\n",
            "\u001b[2K   \u001b[90m━━━━━━━━━━━━━━━━━━━━━━━━━━━━━━━━━━━━━━━━\u001b[0m \u001b[32m118.9/118.9 kB\u001b[0m \u001b[31m7.0 MB/s\u001b[0m eta \u001b[36m0:00:00\u001b[0m\n",
            "\u001b[2K   \u001b[90m━━━━━━━━━━━━━━━━━━━━━━━━━━━━━━━━━━━━━━━━\u001b[0m \u001b[32m92.0/92.0 kB\u001b[0m \u001b[31m5.6 MB/s\u001b[0m eta \u001b[36m0:00:00\u001b[0m\n",
            "\u001b[2K   \u001b[90m━━━━━━━━━━━━━━━━━━━━━━━━━━━━━━━━━━━━━━━━\u001b[0m \u001b[32m62.5/62.5 kB\u001b[0m \u001b[31m3.3 MB/s\u001b[0m eta \u001b[36m0:00:00\u001b[0m\n",
            "\u001b[2K   \u001b[90m━━━━━━━━━━━━━━━━━━━━━━━━━━━━━━━━━━━━━━━━\u001b[0m \u001b[32m459.8/459.8 kB\u001b[0m \u001b[31m22.5 MB/s\u001b[0m eta \u001b[36m0:00:00\u001b[0m\n",
            "\u001b[2K   \u001b[90m━━━━━━━━━━━━━━━━━━━━━━━━━━━━━━━━━━━━━━━━\u001b[0m \u001b[32m72.0/72.0 kB\u001b[0m \u001b[31m3.9 MB/s\u001b[0m eta \u001b[36m0:00:00\u001b[0m\n",
            "\u001b[2K   \u001b[90m━━━━━━━━━━━━━━━━━━━━━━━━━━━━━━━━━━━━━━━━\u001b[0m \u001b[32m4.0/4.0 MB\u001b[0m \u001b[31m77.4 MB/s\u001b[0m eta \u001b[36m0:00:00\u001b[0m\n",
            "\u001b[2K   \u001b[90m━━━━━━━━━━━━━━━━━━━━━━━━━━━━━━━━━━━━━━━━\u001b[0m \u001b[32m454.8/454.8 kB\u001b[0m \u001b[31m22.5 MB/s\u001b[0m eta \u001b[36m0:00:00\u001b[0m\n",
            "\u001b[2K   \u001b[90m━━━━━━━━━━━━━━━━━━━━━━━━━━━━━━━━━━━━━━━━\u001b[0m \u001b[32m46.0/46.0 kB\u001b[0m \u001b[31m2.7 MB/s\u001b[0m eta \u001b[36m0:00:00\u001b[0m\n",
            "\u001b[2K   \u001b[90m━━━━━━━━━━━━━━━━━━━━━━━━━━━━━━━━━━━━━━━━\u001b[0m \u001b[32m86.8/86.8 kB\u001b[0m \u001b[31m5.4 MB/s\u001b[0m eta \u001b[36m0:00:00\u001b[0m\n",
            "\u001b[?25h  Building wheel for pypika (pyproject.toml) ... \u001b[?25l\u001b[?25hdone\n"
          ]
        }
      ],
      "execution_count": 1
    },
    {
      "cell_type": "code",
      "source": [
        "from google import genai\n",
        "from google.genai import types\n",
        "\n",
        "from openai import OpenAI\n",
        "\n",
        "from IPython.display import Markdown\n",
        "\n",
        "genai.__version__"
      ],
      "metadata": {
        "id": "muuhsDmmKdHi",
        "trusted": true,
        "execution": {
          "iopub.status.busy": "2025-03-31T10:16:49.937134Z",
          "iopub.execute_input": "2025-03-31T10:16:49.937544Z",
          "iopub.status.idle": "2025-03-31T10:16:49.946481Z",
          "shell.execute_reply.started": "2025-03-31T10:16:49.937504Z",
          "shell.execute_reply": "2025-03-31T10:16:49.945312Z"
        },
        "outputId": "d48f75b9-dc88-489b-9601-28e3788279ae",
        "colab": {
          "base_uri": "https://localhost:8080/",
          "height": 35
        }
      },
      "outputs": [
        {
          "output_type": "execute_result",
          "data": {
            "text/plain": [
              "'1.7.0'"
            ],
            "application/vnd.google.colaboratory.intrinsic+json": {
              "type": "string"
            }
          },
          "metadata": {},
          "execution_count": 3
        }
      ],
      "execution_count": 3
    },
    {
      "cell_type": "markdown",
      "source": [
        "### Set up your API key\n",
        "\n",
        "To run the following cell, your API key must be stored it in a [Kaggle secret](https://www.kaggle.com/discussions/product-feedback/114053) named `GOOGLE_API_KEY`.\n",
        "\n",
        "If you don't already have an API key, you can grab one from [AI Studio](https://aistudio.google.com/app/apikey). You can find [detailed instructions in the docs](https://ai.google.dev/gemini-api/docs/api-key).\n",
        "\n",
        "To make the key available through Kaggle secrets, choose `Secrets` from the `Add-ons` menu and follow the instructions to add your key or enable it for this notebook."
      ],
      "metadata": {
        "id": "FQOGMejVu-6D"
      }
    },
    {
      "cell_type": "code",
      "source": [
        "#from kaggle_secrets import UserSecretsClient\n",
        "\n",
        "#GOOGLE_API_KEY = UserSecretsClient().get_secret(\"GOOGLE_API_KEY\")\n",
        "\n",
        "from google.colab import userdata\n",
        "GOOGLE_API_KEY = userdata.get('GOOGLE_API_KEY')\n",
        "OPENAI_API_KEY = userdata.get('OPENAI_API_KEY')"
      ],
      "metadata": {
        "id": "ysayz8skEfBW",
        "trusted": true,
        "execution": {
          "iopub.status.busy": "2025-03-31T10:16:49.948797Z",
          "iopub.execute_input": "2025-03-31T10:16:49.949215Z",
          "iopub.status.idle": "2025-03-31T10:16:50.118845Z",
          "shell.execute_reply.started": "2025-03-31T10:16:49.949169Z",
          "shell.execute_reply": "2025-03-31T10:16:50.117652Z"
        }
      },
      "outputs": [],
      "execution_count": 5
    },
    {
      "cell_type": "markdown",
      "source": [
        "If you received an error response along the lines of `No user secrets exist for kernel id ...`, then you need to add your API key via `Add-ons`, `Secrets` **and** enable it.\n",
        "\n",
        "![Screenshot of the checkbox to enable GOOGLE_API_KEY secret](https://storage.googleapis.com/kaggle-media/Images/5gdai_sc_3.png)"
      ],
      "metadata": {
        "id": "52b101760a45"
      }
    },
    {
      "cell_type": "markdown",
      "source": [
        "### Explore available models\n",
        "\n",
        "You will be using the [`embedContent`](https://ai.google.dev/api/embeddings#method:-models.embedcontent) API method to calculate embeddings in this guide. Find a model that supports it through the [`models.list`](https://ai.google.dev/api/models#method:-models.list) endpoint. You can also find more information about the embedding models on [the models page](https://ai.google.dev/gemini-api/docs/models/gemini#text-embedding).\n",
        "\n",
        "`text-embedding-004` is the most recent generally-available embedding model, so you will use it for this exercise, but try out the experimental `gemini-embedding-exp-03-07` model too."
      ],
      "metadata": {
        "id": "fegnGFpMS4AI"
      }
    },
    {
      "cell_type": "code",
      "source": [
        "client = genai.Client(api_key=GOOGLE_API_KEY)\n",
        "\n",
        "openai_client = OpenAI(api_key=OPENAI_API_KEY)\n",
        "\n",
        "for m in client.models.list():\n",
        "    if \"embedContent\" in m.supported_actions:\n",
        "        print(m.name)"
      ],
      "metadata": {
        "id": "Km5d13_FS2Q_",
        "trusted": true,
        "execution": {
          "iopub.status.busy": "2025-03-31T10:16:50.120293Z",
          "iopub.execute_input": "2025-03-31T10:16:50.120623Z",
          "iopub.status.idle": "2025-03-31T10:16:50.227307Z",
          "shell.execute_reply.started": "2025-03-31T10:16:50.120592Z",
          "shell.execute_reply": "2025-03-31T10:16:50.225849Z"
        },
        "outputId": "4e4967b9-144f-448c-a645-b38b2e304070",
        "colab": {
          "base_uri": "https://localhost:8080/"
        }
      },
      "outputs": [
        {
          "output_type": "stream",
          "name": "stdout",
          "text": [
            "models/embedding-001\n",
            "models/text-embedding-004\n",
            "models/gemini-embedding-exp-03-07\n",
            "models/gemini-embedding-exp\n"
          ]
        }
      ],
      "execution_count": 7
    },
    {
      "cell_type": "markdown",
      "source": [
        "### Data\n",
        "\n",
        "Here is a small set of documents you will use to create an embedding database."
      ],
      "metadata": {
        "id": "3XWKXoXwOGxS"
      }
    },
    {
      "cell_type": "code",
      "source": [
        "DOCUMENT1 = \"Operating the Climate Control System  Your Googlecar has a climate control system that allows you to adjust the temperature and airflow in the car. To operate the climate control system, use the buttons and knobs located on the center console.  Temperature: The temperature knob controls the temperature inside the car. Turn the knob clockwise to increase the temperature or counterclockwise to decrease the temperature. Airflow: The airflow knob controls the amount of airflow inside the car. Turn the knob clockwise to increase the airflow or counterclockwise to decrease the airflow. Fan speed: The fan speed knob controls the speed of the fan. Turn the knob clockwise to increase the fan speed or counterclockwise to decrease the fan speed. Mode: The mode button allows you to select the desired mode. The available modes are: Auto: The car will automatically adjust the temperature and airflow to maintain a comfortable level. Cool: The car will blow cool air into the car. Heat: The car will blow warm air into the car. Defrost: The car will blow warm air onto the windshield to defrost it.\"\n",
        "DOCUMENT2 = 'Your Googlecar has a large touchscreen display that provides access to a variety of features, including navigation, entertainment, and climate control. To use the touchscreen display, simply touch the desired icon.  For example, you can touch the \"Navigation\" icon to get directions to your destination or touch the \"Music\" icon to play your favorite songs.'\n",
        "DOCUMENT3 = \"Shifting Gears Your Googlecar has an automatic transmission. To shift gears, simply move the shift lever to the desired position.  Park: This position is used when you are parked. The wheels are locked and the car cannot move. Reverse: This position is used to back up. Neutral: This position is used when you are stopped at a light or in traffic. The car is not in gear and will not move unless you press the gas pedal. Drive: This position is used to drive forward. Low: This position is used for driving in snow or other slippery conditions.\"\n",
        "\n",
        "documents = [DOCUMENT1, DOCUMENT2, DOCUMENT3]"
      ],
      "metadata": {
        "id": "k8nsbhFJKmG-",
        "trusted": true,
        "execution": {
          "iopub.status.busy": "2025-03-31T10:16:50.22879Z",
          "iopub.execute_input": "2025-03-31T10:16:50.229159Z",
          "iopub.status.idle": "2025-03-31T10:16:50.236403Z",
          "shell.execute_reply.started": "2025-03-31T10:16:50.229123Z",
          "shell.execute_reply": "2025-03-31T10:16:50.234812Z"
        }
      },
      "outputs": [],
      "execution_count": 8
    },
    {
      "cell_type": "markdown",
      "source": [
        "## Creating the embedding database with ChromaDB\n",
        "\n",
        "Create a [custom function](https://docs.trychroma.com/guides/embeddings#custom-embedding-functions) to generate embeddings with the Gemini API. In this task, you are implementing a retrieval system, so the `task_type` for generating the *document* embeddings is `retrieval_document`. Later, you will use `retrieval_query` for the *query* embeddings. Check out the [API reference](https://ai.google.dev/api/embeddings#v1beta.TaskType) for the full list of supported tasks.\n",
        "\n",
        "Key words: Documents are the items that are in the database. They are inserted first, and later retrieved. Queries are the textual search terms and can be simple keywords or textual descriptions of the desired documents."
      ],
      "metadata": {
        "id": "yDzxArLeOexD"
      }
    },
    {
      "cell_type": "code",
      "source": [
        "from chromadb import Documents, EmbeddingFunction, Embeddings\n",
        "from google.api_core import retry\n",
        "\n",
        "from google.genai import types\n",
        "\n",
        "\n",
        "# Define a helper to retry when per-minute quota is reached.\n",
        "is_retriable = lambda e: (isinstance(e, genai.errors.APIError) and e.code in {429, 503})\n",
        "\n",
        "\n",
        "class GeminiEmbeddingFunction(EmbeddingFunction):\n",
        "    # Specify whether to generate embeddings for documents, or queries\n",
        "    document_mode = True\n",
        "\n",
        "    @retry.Retry(predicate=is_retriable)\n",
        "    def __call__(self, input: Documents) -> Embeddings:\n",
        "        if self.document_mode:\n",
        "            embedding_task = \"retrieval_document\"\n",
        "        else:\n",
        "            embedding_task = \"retrieval_query\"\n",
        "\n",
        "        response = client.models.embed_content(\n",
        "            model=\"models/text-embedding-004\",\n",
        "            contents=input,\n",
        "            config=types.EmbedContentConfig(\n",
        "                task_type=embedding_task,\n",
        "            ),\n",
        "        )\n",
        "        print(response.embeddings)\n",
        "        return [e.values for e in response.embeddings]"
      ],
      "metadata": {
        "id": "mF7Uu1kCQsT0",
        "trusted": true,
        "execution": {
          "iopub.status.busy": "2025-03-31T10:16:50.238448Z",
          "iopub.execute_input": "2025-03-31T10:16:50.239046Z",
          "iopub.status.idle": "2025-03-31T10:16:50.251166Z",
          "shell.execute_reply.started": "2025-03-31T10:16:50.238957Z",
          "shell.execute_reply": "2025-03-31T10:16:50.250044Z"
        }
      },
      "outputs": [],
      "execution_count": 25
    },
    {
      "cell_type": "markdown",
      "source": [
        "Now create a [Chroma database client](https://docs.trychroma.com/getting-started) that uses the `GeminiEmbeddingFunction` and populate the database with the documents you defined above."
      ],
      "metadata": {
        "id": "HrDWLyopPNBf"
      }
    },
    {
      "cell_type": "code",
      "source": [
        "import chromadb\n",
        "\n",
        "DB_NAME = \"googlecardb\"\n",
        "\n",
        "embed_fn = GeminiEmbeddingFunction()\n",
        "embed_fn.document_mode = True\n",
        "\n",
        "chroma_client = chromadb.Client()\n",
        "db = chroma_client.get_or_create_collection(name=DB_NAME, embedding_function=embed_fn)\n",
        "\n",
        "db.add(documents=documents, ids=[str(i) for i in range(len(documents))])"
      ],
      "metadata": {
        "id": "OITXgxZlLoXU",
        "trusted": true,
        "execution": {
          "iopub.status.busy": "2025-03-31T10:16:50.252971Z",
          "iopub.execute_input": "2025-03-31T10:16:50.253935Z",
          "iopub.status.idle": "2025-03-31T10:16:50.502306Z",
          "shell.execute_reply.started": "2025-03-31T10:16:50.253884Z",
          "shell.execute_reply": "2025-03-31T10:16:50.501198Z"
        },
        "outputId": "217c603b-d0fb-40e7-e005-ac2b17978a3d",
        "colab": {
          "base_uri": "https://localhost:8080/"
        }
      },
      "outputs": [
        {
          "output_type": "stream",
          "name": "stderr",
          "text": [
            "WARNING:chromadb.segment.impl.vector.local_hnsw:Add of existing embedding ID: 0\n",
            "WARNING:chromadb.segment.impl.vector.local_hnsw:Add of existing embedding ID: 1\n",
            "WARNING:chromadb.segment.impl.vector.local_hnsw:Add of existing embedding ID: 2\n",
            "WARNING:chromadb.segment.impl.metadata.sqlite:Insert of existing embedding ID: 0\n",
            "WARNING:chromadb.segment.impl.metadata.sqlite:Insert of existing embedding ID: 1\n",
            "WARNING:chromadb.segment.impl.metadata.sqlite:Insert of existing embedding ID: 2\n"
          ]
        },
        {
          "output_type": "stream",
          "name": "stdout",
          "text": [
            "[ContentEmbedding(values=[0.018999664, 0.007505306, -0.026920348, -0.009788496, -0.008698533, -0.01270609, 0.029855978, 0.0068126535, -0.005145747, 0.03528856, -0.080699705, 0.0753531, 0.085884914, 0.013007069, -0.0027789134, -0.1059366, -0.0039895866, -0.007909263, -0.06783344, 0.00093794294, -0.033166163, 0.02918978, -0.04373313, -0.020324767, -0.04039348, -0.040367387, 0.043708324, 0.043529626, -0.053056896, -0.007603801, 0.110596254, 0.029387018, -0.0026905537, -0.027770951, 0.035652157, 0.008062481, -0.0069889273, -0.041958824, -0.0122357225, -0.07439792, -0.08683938, 0.014548706, 0.016431682, 0.049527474, 0.005965134, -0.032907054, -0.045974605, 0.06057007, 0.036971413, -0.036784396, 0.032337997, 0.0055741607, -0.0260149, 0.037289616, 0.0010992952, 0.022246001, -0.034185756, -0.0133831445, 0.038448144, 0.010151037, -0.04133582, 0.015030852, -0.041633822, 0.027716435, 0.017782815, -0.05601687, -0.012898407, -0.046332654, -0.0046893856, -0.016161418, 0.0464589, 0.049706776, -0.017681504, 0.027505592, -0.047708385, -0.030204823, -0.035836853, -0.014920839, 0.016487198, 0.050824933, -0.028004834, 0.06997369, 0.05956968, 0.032165617, -0.009670711, -0.020159323, 0.0669857, 0.015149698, -0.07962463, -0.004133033, 0.07461893, 0.0067225406, -0.01845138, 0.02879203, 0.07013051, 0.015589369, -0.11637192, -0.07995488, 0.055081878, 0.074337736, 0.026895199, 0.056532286, -0.010931468, -0.049719453, 0.02153982, 0.024962917, 0.009701742, -0.0020072996, -0.05235076, 0.05450862, 0.022085117, -0.050779924, 0.015193754, 0.03408604, 0.029414862, -0.022720397, -0.044491306, 0.041927006, 0.013388339, -0.008030102, -0.030213805, -0.015276872, -0.017933777, 0.041267972, 0.04287945, 0.018612018, 0.06629004, 0.016805584, -0.007446787, -0.07885526, -0.0010182625, -0.053041402, -0.017729713, 0.043361098, -0.028768659, 0.043727998, 0.065190144, 0.014244812, 0.030447273, -0.0151222, 0.009450434, -0.013913007, -0.07503489, 0.007159027, -0.02024012, 0.0015840431, 0.025029568, -0.021985367, -0.052546363, 0.02954919, 0.028041016, 0.015915636, 0.0048396215, 0.03422566, 0.026194759, -0.017908538, -0.009592006, -0.0130515965, 0.054565553, 0.04188855, 0.11559836, -0.021516588, 0.0015569498, 0.04043748, -0.04023143, 0.079341955, -6.487355e-05, -0.04366006, -0.016776033, -0.055472344, -0.0118653, -0.050360505, 0.025349373, -0.0712578, 0.009617385, -0.008392611, -0.025366936, -0.037532456, -0.022513868, 0.02077739, 0.097455435, -0.03560787, -0.009077471, -0.035197627, 0.0050064917, 0.008928414, -0.022305677, 0.016087191, 0.04478349, 0.019499369, 0.042240877, 0.043663338, 0.04178015, 0.0066199354, 0.0032858122, 0.013458777, 0.046067465, -0.0056881304, 0.029160159, -0.038997065, 0.025173368, 0.02418644, -0.020611811, -0.008494813, -0.07961572, 0.0031410893, -0.0003031569, -0.07825094, -0.0050130803, 0.00565631, 0.012449515, -0.011116381, -0.027138136, -0.027043497, -0.06621225, 0.01716235, 0.018397056, -0.031023512, 0.027583294, -0.03417431, 0.0072836448, -0.059289336, 0.13103476, 0.0029386268, 0.032731608, 0.022310274, -0.040748358, 0.013554268, -0.044932798, -0.006067176, -0.0032480867, 0.0287277, -0.02088412, 0.0039773183, -0.0077929497, 0.049300883, 0.049514044, -0.0370474, 0.03408771, 0.007443395, 0.027470604, 0.04588429, 0.042308386, 0.023414869, 0.014845102, -0.023772353, 0.06476317, 0.01572776, -0.042645775, -0.083654806, -0.032871146, -0.03682083, -0.020703508, 0.0046957564, -0.030431516, -0.021908129, -0.0031325745, 0.03339503, 0.032117322, -0.017284479, 0.030774225, 0.039155737, -0.03570356, 0.0056698364, 0.019800171, -0.10993937, -0.038060717, 0.009856825, -0.054488588, -0.024143819, 0.024429476, 0.0017726844, 0.002963957, -0.021233566, -0.01252413, 0.017017266, -0.062188353, -0.010762173, -0.005094122, -0.013565805, 0.038576655, 0.05115705, 0.021852147, -0.041499544, 0.033441838, -0.039300416, 0.006155073, 0.0031288592, -0.06000405, 0.0010470061, 0.03843335, -0.0119297365, -0.03659123, -0.043824673, 0.053017057, -0.009584787, 0.049735185, 0.015153262, 0.018913884, -0.0418483, 0.015253233, 0.047784913, 0.0068865297, 0.029637052, 0.042829506, -0.042000454, 0.0050381497, -0.028958973, -0.009474501, -0.0007198046, -0.020481965, 0.017109774, -0.016994681, -0.0151602775, 0.01406484, 0.043357752, -0.12811673, 0.01962454, -0.0009793828, -0.014997293, 0.031194132, -0.039826907, -0.031709578, -0.010353991, 0.029033279, 0.017146474, -0.02189436, -0.0012079211, 0.020221671, -0.05829202, 8.7063645e-06, -0.027048657, -0.0837526, -0.003736912, -0.070031404, 0.03477143, -0.01658836, 0.037106246, 0.008219444, 0.03547738, 0.016199486, 0.07050776, 0.0088353995, 0.021849424, -0.055029925, 0.00011991352, 0.035032015, 0.04991915, 0.020890877, -0.012114096, 0.03341306, 0.03320109, 0.04110246, 0.015202477, -0.0020779683, -0.049446125, 0.054636255, -0.019153873, 0.04894604, -0.030614879, -0.014694756, 0.02599724, 0.0018934637, -0.008853965, 0.014383757, -0.02834537, 0.026075738, -0.007985811, 0.0198936, 0.015527588, -0.008874742, 0.023127995, 0.030372959, 0.021478899, 0.003269801, 0.038728166, -0.013222076, 0.011249662, -0.0050336146, -0.047597304, -0.017867623, -0.057102308, 0.031124698, -0.005310517, 0.015755039, 0.05201511, -0.057206947, 0.0051530106, 0.032997046, 0.022640616, -0.030707804, 0.018792564, -0.018699348, 0.023318043, -0.01827386, -0.00024686303, -0.08526219, 0.02531482, 0.002061768, -0.03895784, -0.0022311541, -0.04102569, 0.045550812, -0.07244247, 0.0050826888, 0.04421901, 0.0017366185, 0.016351303, 0.009094411, 0.010411403, -0.004868892, -0.026364652, 0.007879918, 0.008303377, -0.010175381, -0.024761174, 0.066776276, 0.0489273, 0.023846157, -0.06422498, 0.008060811, 0.047938284, 0.060047377, 0.025641693, -0.010694968, -0.031771652, -0.030029826, 0.03231852, -0.015696527, 0.039817926, 0.011123701, 0.037705753, -0.05900207, 0.0066588316, 0.015550859, -0.039816838, -0.0021961462, -0.031736445, 0.009280878, -0.015792131, -0.036082197, 0.022348063, 0.07263265, 0.008549335, -0.019650847, 0.040191323, -0.03063659, -0.019676276, -0.03831996, 0.014820661, -0.020241002, -0.018908711, 0.035041444, 0.03498515, -0.015373424, -0.008050873, -0.00079832564, 0.05381292, 0.04283475, -0.023320727, 0.017674545, -0.039126273, 0.025315836, -0.0054334993, 0.032750618, 0.011654736, 0.02723443, -0.04211635, 0.019819718, -0.030251816, 0.06008518, -0.0392581, 0.05697274, 0.04164356, -0.054544784, -0.008627974, 0.057335474, -0.008943143, -0.03723949, 0.004127849, -0.0129805785, 0.058599442, 0.041051537, -0.007881409, 0.06914158, 0.018289208, -0.07591321, 0.03914828, 0.010031023, 0.022737777, 0.0038071037, 0.023149889, 0.024206871, -0.013706824, -0.0058252504, 0.01765401, 0.051395286, -0.04778247, -0.055487394, 0.011820231, 0.0627044, 0.01870415, -0.068063356, -0.04020982, -0.01181574, 0.031737756, -0.04045585, -0.022988627, 1.0908124e-05, 0.072742, -0.011647201, -0.023753319, -0.033858832, -0.02198441, -0.006560503, -0.014876289, -0.044199884, 0.050260227, 0.038467545, 0.019818509, -0.060609095, 0.021078138, 0.00461732, 0.041940287, -0.054251898, 0.029118305, 0.047336575, 0.018199781, 0.015285751, -0.020803478, -0.053684905, 0.06358426, 0.027376255, 0.04963397, 0.030974774, 0.010127774, -0.03449622, 0.048586484, 0.015126144, 0.014945987, 0.04139296, -0.037643194, 0.015607499, 0.011508224, 0.029035894, 0.02451418, 0.028092228, -0.012836755, 0.0031441075, 0.06412186, -0.022279367, -0.050375726, 0.04788624, 0.033629175, -0.05387123, -0.008945169, 0.027814662, -0.011645169, -0.0057820007, 0.018678768, 0.009931213, -0.0026569306, -0.017014321, -0.015506351, 0.024158875, -0.0017898936, 0.066445105, -0.0011472763, -0.032890607, -0.001495536, -0.0028216278, -0.07605586, -0.0015563747, -0.004915285, -0.02195456, 0.02755647, -0.012549779, -0.016863814, -0.020720428, -0.023681292, -0.030704323, 0.00631877, 0.03432445, 0.017026214, 0.049269784, 0.029308258, 0.00410188, 0.020933792, 0.07198577, 0.0010596602, -0.014768909, -0.03472458, -0.021648783, -0.009951418, 0.012985349, -0.0054805097, -0.07701902, 0.011216751, -0.015183944, -0.01839104, -0.019732356, -0.01489723, 0.08462499, 0.0063514085, 0.0203219, -0.019408405, -0.0108773485, -0.045731366, -0.044852607, 0.025661793, 0.01935369, 0.01007757, 0.0071802363, -0.03550995, -0.045500264, -0.007883349, -0.049344376, 0.02368262, 0.005818333, -0.007790571, -0.013106382, 0.028964562, 0.095362484, 0.004622719, -0.022867367, -0.030015027, 0.008509951, 0.029522996, -0.020028183, -0.030639274, 0.0037019008, 0.051704004, 0.03782894, -0.045286596, -0.030414432, -0.06332558, -0.012112178, -0.0022658594, 0.04001453, -0.07687499, -0.039661206, -0.024045818, -0.012292109, -0.0036598751, -0.05634897, -0.02045863, 0.0026190032, -0.004198724, 0.02295468, -0.038176272, -0.040691245, 0.055896666, -0.022830782, -0.0079990635, -0.006711471, 0.023945728, -0.027123626, 0.03324492, -0.0033120331, -0.01459047, -0.014899326, -0.053893037, 0.00852979, 0.024137132, 0.028382394, 0.027551549, -0.009444559, 0.029134361, 0.007877808, -0.035022948, -0.017373875, 0.0061117886, -0.051776297, 0.0042211455, -0.078578055, -0.016739149, 0.0243431, -0.019107554, 0.006805731, -0.0088581955, 0.0104752835, 0.03030498, 0.022653868, -0.008994597, 0.03974543, -0.0119835865, 0.053651933, -0.017352927, 0.016013067, 0.05740318, 0.01700676, -0.047141805, -0.0016714475, 0.056509875, 0.025739867, 0.04744099, -0.0068219905, 0.027635943, -0.03981974, -0.0070771654, 0.053332873, -0.021563016, -0.06253051, -0.0647532, 0.009415849, 0.035541195, 0.057855994, 0.017172733, -0.018220058, 0.00090189144, -0.03215032, 0.003914237, 0.03679677, 0.027163517, 0.019721579, 0.021160223, 0.041535206, -0.069232404, -0.027535653, 0.009730422, -0.070899196, 0.009295809, -0.019794147, 0.029206095, 0.048075795, 0.018026005, -0.06516465, -0.029808186, -0.02917808, 0.07607031, 0.048793595, -0.033164293, 0.016145812, -0.0001314512, -0.026725596, -0.0064208866, -0.014814273, 0.022072064, 0.0028175847, -0.002312192, -0.014817462, 0.04406552, -0.09121876, 0.060437776, -0.010424828, 0.010679962, 0.073339805, -0.014676905, -0.015110497, -0.018709969, -0.025127748, -0.014552018, 0.021657191, 0.02549675, 0.021557137, -0.0055997074, -0.0073650684, 0.012390452, -0.018685332, 0.008609098, -0.022518234, -0.009645362, -0.011772107, -0.040840104, -0.025208563, 0.006126398, 0.027209563, 0.010489496], statistics=None), ContentEmbedding(values=[0.017109267, 0.027210727, -0.051769227, -0.041305818, -0.005753458, 0.0018604012, 0.036020346, 0.000866486, -0.0087644765, 0.027305242, -0.056784473, 0.010395916, 0.03300462, 0.007485413, 0.00019316407, -0.109322235, -0.008689415, 0.014338006, -0.11257654, 0.0021092996, -0.031967316, 0.020748518, 0.01047975, -0.036015086, -0.018326938, -0.02403153, 0.015221059, 0.0326231, -0.030980477, -0.006030808, 0.054131187, 0.08530957, -0.011488189, 0.0027917447, 0.061507884, 0.0046352944, -0.011506895, -0.04302804, 0.048152782, -0.060913246, -0.06870819, 0.014387374, -0.010900323, 0.028358135, -0.014095645, -0.015612989, -0.03089945, 0.06969054, 0.019948747, -0.02738887, 0.01837233, 0.009613775, -0.05106957, 0.0115427235, -0.004065386, 0.03769133, -0.033143576, -0.03752397, 0.045302104, -0.008838433, -0.016166499, 0.039883513, 0.0042150426, 0.009711259, 0.019893177, -0.046218306, -0.03207294, -0.05404138, -0.02602221, -0.004166637, 0.023788096, 0.07752262, -0.013920795, 0.014099349, -0.054438844, -0.028917454, -0.056394923, 0.0005584834, -0.006136257, 0.07425495, -0.02993908, 0.025916677, 0.039392646, 0.054933485, -0.015674198, -0.009347398, 0.022313021, -0.012239871, -0.09691674, -0.0013149913, 0.06481052, -0.0009138013, 0.05814548, 0.012924652, 0.05176146, 0.008971967, -0.12576237, -0.10610569, 0.049041137, 0.07914123, 0.009297869, 0.056726906, 0.0014658485, -0.060321517, 0.050208542, 0.0071178847, 0.010791077, 0.018590081, -0.033702455, 0.0076521835, 0.014031683, -0.065226994, -0.02249797, 0.016487263, 0.04605608, -0.03269411, -0.03957113, 0.04335153, -0.018280968, -0.02849012, 0.0030395272, 0.0010600155, -0.022486696, 0.051499777, 0.037231002, 0.034971427, 0.04537391, -0.0049962136, -0.032019533, -0.08012558, -0.015517749, -0.021520117, -0.058857147, 0.05408846, -0.048052557, 0.03348093, 0.05634818, 0.008364217, 0.046205506, 0.016799597, 0.014400673, 0.008348336, -0.04802314, -0.0011934891, -0.029309092, -0.036143135, -0.01157344, 0.027907932, -0.059554327, 0.03837766, 0.045724172, 0.01748052, -0.0023855006, 0.02034, -0.025046809, -0.0029961783, -0.009496877, -0.009733967, 0.017352901, -0.0024373361, 0.0838786, -0.042817265, 0.009272589, 0.013217703, 0.0124847265, 0.078838564, -0.0013873548, -0.021958193, -0.04054273, -0.019784147, 0.019888997, -0.02718281, 0.01675338, -0.0679802, 0.019205501, -0.029179046, -0.05156644, -0.052287493, 0.0009676346, 0.056070153, 0.11387177, 0.0013058371, 0.021104816, -0.03313982, 0.0067281416, 0.032463886, -0.047962878, 0.021762155, 0.049712986, 0.060754035, 0.032560747, 0.03360503, 0.05046803, 0.028363347, -0.01609326, 0.001246168, 0.025965875, -0.042934455, -0.0030859513, -0.020045241, 0.022395276, 0.04344951, -0.019973684, -0.047463626, -0.023003906, -0.025803475, -0.016562456, -0.09072708, 0.016212486, -0.0021157924, -0.022646217, 0.013183995, -0.004360331, -0.042271663, -0.038715925, 0.011269211, 0.03947602, 0.0074052005, 0.03383459, -0.0017025102, 0.026358755, -0.014439454, 0.09439331, 0.018243145, 0.04127929, 0.05309067, -0.05657912, -0.01313741, -0.018545024, 0.0005496552, -0.021712836, 0.0022802877, -0.069139756, 0.019074373, -0.022632636, 0.028438805, 0.03271864, -0.022565054, 0.002801918, 0.010200379, 0.028881788, 0.0557368, 0.02826298, 0.07898697, 0.027040906, -0.03908325, 0.056544937, -0.021257948, -0.02002294, -0.072460316, -0.038605765, 0.0044914214, -0.028173152, 0.02365553, -0.040574, 0.02118101, -0.006708152, 0.04248443, -0.012453932, -0.0058749085, 0.025193604, 0.015694566, -0.03268335, -0.0057371296, -0.059456795, -0.08367213, -0.04991815, 0.008115768, -0.052258793, -0.033000004, 0.028273417, -0.0077515915, -0.011099743, -0.039873462, -0.047103707, 0.026955618, -0.04128249, -0.01737638, 0.0022533147, -0.014442301, 0.044200033, 0.018880034, 0.026392952, -0.0070501035, 0.031906392, -0.029137641, -0.0032923429, -0.010856203, -0.05916421, -0.013547395, 0.040569328, -0.025294062, -0.018553324, -0.0048013167, 0.022775702, 0.017629335, 0.022736738, 0.04926492, 0.04728621, -0.058685176, 0.00051836576, 0.034734093, -0.033325627, 0.0116664525, 0.020584535, -0.02218563, -0.021221114, -0.04947661, 0.0013974182, -0.01314077, -0.021265104, -0.011019698, 0.015937306, -0.043144114, 0.010371291, 0.025965042, -0.1295223, 0.0016790276, 0.01833297, -0.022181578, -0.00025969496, -0.008006365, -0.048006102, -0.0341983, 0.014701323, 0.035109565, -0.034702085, -0.019321967, 0.044450328, -0.03806446, 0.007117027, -0.004040395, -0.019727908, 0.016328251, -0.060839552, 0.06716128, -0.01710509, 0.03583098, 0.011613661, 0.032107472, 0.041346878, 0.0516774, 0.032042768, 0.0047751106, -0.043428734, -0.02037823, -0.015036063, 0.04421373, 0.005106575, -0.038195513, 0.013885055, 0.049235668, 0.034341116, 0.030466272, 0.00012584557, -0.032338843, 0.081730306, -0.019394232, 0.07584859, -0.06564475, 0.01377702, 0.033247646, -0.05510641, 0.009048238, 0.01369061, -0.028779186, 0.0021076398, -0.012293581, 0.024690602, 0.033820048, -0.02357702, 0.010100045, 0.012012946, 0.03975188, 0.0033261895, 0.041219622, -0.020996518, -0.0067185955, 0.034076937, -0.052361242, -0.019772902, -0.09609257, 0.016487509, -0.016289994, 0.054408655, 0.077434845, -0.08327269, 0.032826044, 0.007000075, -0.0046998737, -0.040216815, 0.03509499, -0.02710516, 0.008852763, -0.009279491, -0.014917828, -0.052379306, -0.01241932, -0.005065648, -0.046153434, 0.029171979, -0.029298916, 0.046025876, -0.05048815, 0.007589666, 0.030983303, 0.038858566, 0.00977582, 0.0024343473, -0.041290622, -0.030492527, -0.026720164, 0.0011773136, -0.030312331, -0.026025834, -0.022066632, 0.032703925, 0.024894612, 0.0038461257, -0.04054479, -0.010737687, 0.028573178, 0.06198753, 0.020022713, -0.011537046, -0.092551716, -0.021369936, 0.022028577, -0.028316842, -0.018675318, 0.05545476, 0.036712028, -0.06580142, -0.0032395944, -0.052294645, -0.034559943, -0.012012692, 0.0068053347, 0.013513889, -0.030165078, -0.030081233, -0.015206944, 0.06569454, 0.033568345, -0.0154837575, 0.041761853, 0.010651232, -0.037999526, 0.0012482095, -0.00039988235, 0.017583435, -0.054833695, -0.0030463994, -0.0126802055, -0.025408665, 0.02261495, 0.0019312077, 0.028815722, 0.017322408, 0.016405663, -0.0078387065, -0.04085716, 0.03169938, -0.021467298, 0.010511794, -0.014643939, 0.021412598, -0.06491323, -0.044596113, 0.009602366, 0.06322071, -0.019476684, 0.08031902, 0.040898092, -0.058050912, -0.031750355, 0.04910818, 0.024163797, -0.018241316, 0.014192944, -0.013914125, 0.063225, 0.008574616, 0.046862964, 0.07122734, -0.055952027, -0.04233194, 0.03425003, 0.012048349, -0.0051509393, -0.0065512145, -0.015572434, -0.006679625, -0.044235557, -0.0052174367, 0.03764396, 0.06132178, -0.04044636, -0.02454714, -0.030720076, 0.06345743, 0.021948276, -0.10879643, -0.053857524, -0.0045898943, 0.004135736, -0.063455395, -0.037009865, 0.059827197, 0.050332464, -0.0018922213, -0.003998635, -0.011251358, 0.0111881, -0.032286584, 0.0054448107, -0.06802018, 0.033531446, 0.035861056, -0.0100698685, -0.01678671, 0.010582342, -0.010376548, -0.012221799, -0.0022766963, 0.02739922, 0.07715573, -0.004227661, -0.0014301287, -0.030296342, -0.009858535, 0.07466651, 0.050366335, 0.049902305, 0.012800319, 0.008396422, -0.043833245, 0.027203709, 0.038367637, 0.0033233895, 0.03946438, -0.055332024, -0.022217, -0.0077275387, 0.035055455, 0.018114727, 0.04122465, -0.0032209344, -0.011955184, 0.054186873, 0.000678657, -0.032512497, 0.029591465, 0.021994475, -0.06806878, -0.014696657, 0.007260495, -0.0084581515, -0.026083, -0.023223681, 0.007736049, 0.020983508, -0.019864308, -0.022343837, -0.031775676, -0.014438479, 0.067430794, 0.0120875295, -0.013225334, -0.00985141, 0.03329318, -0.039443254, -0.0045404346, 0.010335619, -0.03934171, 0.026723124, -0.042109806, 0.007981226, 0.023232402, -0.057904843, 0.0028625366, -0.000332902, 0.04537508, 0.0858901, 0.060012925, -0.004701837, 0.003674559, -0.0029304386, 0.04923394, -0.010193233, -0.053032555, -0.0213369, -0.02568458, -0.0024634178, 0.0012795096, -0.02294713, -0.060106557, 0.07591583, -0.036620755, -0.021836974, 0.014377451, -0.009654489, 0.098263614, 0.011322422, 0.011635654, -0.033379816, -0.03447114, -0.035721146, -0.0056109754, -0.012570861, 0.0043213833, 0.026824089, -0.04001908, -0.01454841, -0.028401911, -0.00813751, -0.0217483, 0.010496679, -0.004924366, -0.016916057, 0.016638527, 0.044878364, 0.08974347, -0.0048394864, -0.041393388, -0.01720046, -0.01118091, 0.017280363, -0.023671519, 0.016910277, 0.0017708363, 0.06573939, 0.043844678, -0.08943188, -0.008531791, -0.06304363, 0.014231933, 0.018088445, 0.018882904, -0.02612934, -0.06663352, -0.010176642, 0.021002313, -0.020804001, -0.042847447, -0.0043737646, -0.005815333, 0.014361908, 0.027172353, 0.006683535, -0.0315727, 0.029411858, -0.0424459, -0.02352115, 0.004769523, 0.026359895, -0.0134574305, 0.005656999, -0.00038480668, 0.005856633, 0.02904591, -0.036793318, 0.039503206, 0.016186135, 0.018212704, 0.0009196822, -0.010192177, 0.02572517, 0.025632942, -0.040531244, 0.0064423718, 0.00074918306, -0.0046086228, -0.010760333, -0.086418204, -0.011262342, 0.031776935, -0.020084113, -0.014670043, 0.015899012, 0.021042468, -0.002727611, 0.012918307, -0.012517087, 0.044672746, -0.020609051, 0.06786077, 0.022311188, -0.022040214, 0.032193035, -0.008134244, -0.0041180016, 0.016990613, 0.00058405154, 0.028358836, 0.008650707, 0.009950749, 0.001804751, -0.04939395, -0.011571731, -0.006461494, -0.00451238, -0.036721557, -0.05773209, 0.024010316, -0.002810163, 0.023620663, -0.0054780412, -0.040063087, -0.025747765, -0.023986557, 0.008040148, 0.04416287, -0.0035461516, -0.007128611, -0.012984795, 0.035574935, -0.09485162, 0.00287774, 0.023894532, -0.034227416, -0.015035521, -0.03887964, 0.030943824, 0.029045898, -0.009352622, -0.077205256, 0.01491705, -0.016322745, 0.055037696, 0.055006538, -0.016688073, 0.010279083, -0.008060764, -0.013192093, -0.00848474, 7.37167e-05, 0.015746797, -0.0016436538, 0.014258395, 0.017805647, 0.04028623, -0.13079982, 0.04504646, -0.005871185, 0.015895773, 0.031697843, -0.007155586, -0.009800295, -0.023226779, -0.038132302, -0.01787516, 0.033188146, 0.028415687, 0.02740175, 0.016312143, 0.0001203177, 0.012601492, 0.0066261063, -0.015961867, -0.023089593, -0.0120036695, 0.009291581, -0.0012886674, -0.025188737, -0.007958017, 0.009861592, -0.02022778], statistics=None), ContentEmbedding(values=[0.021629963, 0.0071716406, -0.016469687, 0.0127073685, -0.02629561, -0.0010369802, 0.05248569, 0.009387798, -0.036717113, 0.066204, -0.02173163, 0.03813461, 0.020267043, 0.0187455, 0.011451762, -0.0545368, -0.059170377, -0.02296504, -0.08709557, -0.0155840665, -0.005128739, 0.023796773, 0.0009889681, -0.030359091, -0.06525006, -0.031706274, 0.04385873, 0.024271354, -0.07713017, -0.020716753, 0.093681835, 0.023818526, 0.029964382, -0.00893575, 0.04606881, -0.022713948, 0.008108594, -0.017205233, 0.013942358, -0.06831755, -0.07098784, 0.02826834, -0.026828121, 0.04055294, 0.018442664, 0.012018727, -0.059881877, 0.049160015, -0.017216815, -0.00883952, 0.010150328, -0.0003191906, -0.015146702, 0.05924978, -0.015816908, -0.025488202, -0.014405947, -0.0088338, 0.014195184, 0.016449148, -0.026389787, 0.021161845, -0.025441194, 0.06943484, 0.025779512, -0.06837544, -0.053766023, -0.04936999, -0.029602105, 0.009870054, 0.04707177, 0.02725319, -0.004098633, 0.004982439, -0.05236464, -0.08603959, 0.009724899, 0.011157861, 0.028448123, 0.07085853, -0.02493739, 0.013387119, 0.042019516, 0.043553315, -0.027717803, 0.031025434, 0.036498055, 0.018519724, -0.03657947, 0.0075959805, 0.053783037, 0.018246284, 0.007651945, 0.03624841, 0.10053633, 0.019562878, -0.11175014, -0.06249869, 0.052747175, 0.060572103, -0.0020236096, 0.05150469, -0.017191194, -0.05853591, 0.04303286, 0.04157268, -0.0064438586, 0.016088486, -0.03444959, -0.0033573776, 0.004381365, -0.06364172, -0.016805025, -0.0137844095, 0.017982727, -0.0059221615, -0.022834977, 0.023660121, -0.015806787, -0.02571369, -0.011046169, 0.008898379, -0.009684999, 0.017612668, 0.07335482, 0.045811825, 0.059164762, -0.0061341855, 0.0022575625, -0.089140534, 0.078152366, -0.06052382, -0.019979015, 0.039126676, -0.013821933, 0.04311822, 0.059770107, -0.027197232, -0.010679756, -0.018950412, 0.01062035, 0.0016324552, -0.030481711, -0.0010224447, -0.023425454, -0.020154882, 0.019800285, -0.008506257, -0.04420377, -0.010630331, 0.021963682, 0.015816424, 0.027426055, 0.051799405, -0.017528709, 0.03709513, -0.015459355, -0.0024025778, 0.022105977, 0.023841642, 0.13852043, -0.055793032, 0.021707745, 0.020875948, -0.0138806915, 0.07062109, 0.023131084, -0.0458393, -0.0053683766, -0.0419714, -0.029269416, -0.039835826, 0.010371001, -0.076805726, 0.021202592, 0.033530906, -0.015215243, -0.015200197, -0.018052056, 0.036203228, 0.082901835, 0.009088171, -0.026459144, -0.04885063, 0.006768402, 0.031119555, -0.053129345, 0.05137627, 0.024670918, 0.037226904, 0.05381391, 0.017893562, 0.040832404, 0.02412886, 0.04940817, 0.03270504, 0.020551274, -0.025049841, 0.011997757, -0.01587401, 0.050145455, 0.022140177, -0.010056411, -0.05442132, -0.016360193, 0.033583995, -0.018756187, -0.04331878, 0.024870379, 0.013970691, 0.012081149, -0.005120224, -0.037517108, -0.029117081, -0.01818434, 0.0008652349, 0.020041563, -0.0052146926, -0.0003939536, -0.03550908, 0.02756471, 0.0054510995, 0.15652232, 0.014518133, 0.032143258, 0.035439182, -0.06794499, 0.034691032, -0.037406687, -0.017563166, -0.004460537, 0.01760591, 0.0072989156, -0.020187186, -0.03116496, 0.025093276, -0.027252682, -0.017764654, 0.0074811946, -0.005060008, -0.009111904, 0.002676621, 0.041230556, 0.023519639, 0.006186806, -0.021389237, 0.052678585, -0.004798064, -0.032902047, -0.06706607, -0.053571217, -0.023702817, -0.025032898, -0.029334847, -0.010904233, -0.02496863, 0.017651761, 0.020212222, -0.016616905, 0.00026507268, 0.016744437, 0.03671702, 0.035582673, -0.028118167, -0.012928788, -0.08628517, -0.05704056, -0.0040675877, -0.047481194, -0.019086126, -0.01948283, 0.008802004, 0.0061171916, -0.027619136, -0.02638919, -0.021129234, -0.016087936, 0.006022398, -0.004303535, -0.028025532, -0.019630436, 0.052137297, 0.0066293706, -0.0019111418, 0.02425218, -0.038274318, 0.006901259, 0.00923517, -0.056933187, -0.0046042767, 0.031073613, -0.009400001, -0.0053825392, -0.029387133, 0.028286967, 0.034454055, 0.059849773, 0.04575742, 0.007967512, -0.029022995, 0.015712542, 0.037577268, -0.01803519, 0.025336366, 0.016127309, -0.03699629, -0.00561748, -0.013937132, 0.0072444477, -0.02041675, -0.029420167, 0.02362358, 0.0062696235, -0.0112991845, -0.011988101, -0.021079842, -0.15876493, -0.021672504, 0.019104311, -0.02185281, 0.008285395, -0.020318223, 0.015615884, -0.051441513, -0.004174991, 0.026755754, -0.009574445, 0.003310298, 0.009136619, -0.028049272, -0.0009619404, -0.023960581, -0.07083159, 0.024577448, -0.060963973, 0.01793507, -0.02059299, 0.040266216, 0.020666355, 0.054969758, 0.0067653107, 0.071671255, 0.015173129, -0.011027999, 0.002221726, -0.0005107758, 0.072812416, 0.013104741, 0.01984683, -0.06301713, 0.040791985, 0.02303733, 0.053947624, 0.031041883, -0.027423622, -0.027694775, 0.07580034, -0.00030629916, 0.030896971, -0.06094987, 0.0010450091, 0.008243906, -0.038948655, 0.02176084, 0.016387245, -0.008680483, 0.016733283, -0.0034255746, 0.02356698, 0.014544065, -0.0008318772, 0.044424765, -0.01720788, 0.04942696, -0.011838065, -0.03558752, -0.0682796, -0.00013139303, 0.021477723, -0.021659981, 0.0068316744, -0.044336986, 0.02785901, -0.012276522, 0.026547993, 0.077180095, -0.06403595, 0.03364685, 0.06492621, -0.028186517, -0.020971201, -0.00046727253, -0.046308484, 0.02506862, -0.017207542, -0.003708161, -0.072041795, -0.025605, -0.012287554, -0.012359148, -0.023739023, -0.0634583, 0.004526569, -0.072434776, 0.016158424, 0.022992095, 0.0031159625, 0.018571587, 0.008234819, -0.027128955, -0.014135357, -0.02739991, -0.01609558, -0.010562099, -0.013625169, -0.04278368, 0.04279955, 0.05679257, 0.03057119, -0.02696973, -0.051655635, 0.044107456, 0.09096943, 0.024731979, -0.0047967155, -0.040745247, -0.022512814, 0.026758842, 0.00013396815, -0.0274162, 0.01075938, 0.024491819, -0.031602707, 0.031326134, -0.0049737007, -0.01914128, -0.020404631, -0.019555962, -0.0344321, -0.049845643, -0.07726729, -0.05545137, 0.073633716, 0.008830239, 0.03545324, 0.026855825, -0.024010122, 0.05181017, -0.030347362, -0.009175685, -0.013881303, -0.029158568, 0.013925027, -0.006164046, 0.009132245, 0.025332788, -0.013523186, 0.04747996, -0.0069189062, 0.023377221, 0.01039918, -0.03428773, 0.015214107, -0.01869807, 0.043029107, 0.0064705806, 0.052934345, -0.06542407, 0.0009499855, -0.0367714, 0.06373413, -0.05081996, 0.08250378, 0.022309452, -0.04838423, -0.0048395754, 0.06644825, 0.014088042, -0.025701635, 0.043329094, -0.015215549, 0.048121292, 0.026549404, 0.002682193, 0.05361764, 0.022221446, -0.035820123, 0.042592425, 0.0049852403, 0.030721974, -0.007177286, 0.08237983, 0.03907432, -0.0061762426, 0.011897679, 0.03087069, 0.027337233, -0.025906183, -0.026894096, -0.027207837, 0.07261335, 0.0045629656, -0.021724073, -0.015500245, -0.02484006, 0.014899904, -0.087658286, -0.021939382, -0.004871862, 0.0010967924, 0.030614637, -0.014823933, -0.035294075, 0.026969723, -0.035872713, -0.005165202, -0.042699117, 0.05999463, 0.030141298, -0.0006942562, -0.043575015, 0.011640091, 0.025846463, 0.058141004, -0.043381914, 0.00081504363, 0.06303408, -0.032935508, 0.034336843, -0.04257068, -0.020671733, 0.089393094, 0.025395596, 0.05423631, -0.0032129027, 0.0129379425, -0.03501419, 0.036093038, -0.011860403, 0.013496306, 0.021750826, -0.059136294, 0.032562066, 0.02464429, 0.064374894, 0.021062614, 0.002513995, -0.026735917, 0.010870712, 0.055343173, 0.04776722, -0.037160613, -0.0035313508, 0.033022434, -0.07758948, -0.019591998, 0.043459855, -0.030281022, -0.019086342, 0.028756447, -0.014086052, 0.018473968, -0.033660475, -0.017740607, 0.0066320547, -0.016613722, 0.065432176, 0.027352322, -0.05191118, 0.007323288, -0.015224886, -0.06344628, -0.019783393, -0.018688656, -0.0013518275, 0.0554329, -0.051928066, 0.0040554297, 0.0136087965, -0.046619717, -0.008808231, 0.037553094, 0.031014236, 0.02435023, 0.050649434, 0.056881156, 0.007678144, 0.021029795, 0.051837116, 0.026082508, -0.053930216, 0.05142494, -0.0058270725, 0.013827183, 0.0043918076, -0.021075297, -0.10948208, -0.024591133, 0.0057868264, 0.02632315, -0.00841755, 0.019726867, 0.07182252, -0.017138101, -0.0025231347, -0.008646104, -0.034845773, -0.058402896, -0.05436142, -0.019703535, 0.032601435, -0.010027602, -0.010743809, -0.012545036, -0.020887844, -0.009278714, -0.019797832, 0.020268664, -0.0013819719, 0.014499583, -0.03438401, 0.0010726881, 0.087438874, -0.027201788, 0.003928776, -0.059254847, 0.02154426, 0.009775088, -0.0028792173, 0.0068008155, 0.00054419326, 0.032913618, 0.025855972, -0.06284961, -0.036193393, -0.05512486, 0.029008508, 0.015319837, -0.012739477, -0.0399973, -0.050419684, -0.03512729, -0.025114648, -0.02908433, -0.042599518, -0.0126273595, 0.037808757, 0.012234237, 0.0062234914, 0.0108720735, -0.02956232, 0.011410296, -0.010431513, -0.008576298, 0.0008138217, -0.01809022, -0.026566146, 0.06647757, 0.022653002, 0.0002289071, -0.014028046, -0.015677484, 0.009346089, 0.015482171, -0.028888281, -0.0063236877, -0.028041936, 0.04362362, 0.0067724, -0.025065936, -5.61299e-05, 0.011277037, -0.005366042, 0.0031317084, -0.07835372, 0.0095140925, 0.04431738, -0.026634345, 0.004486887, 0.030112408, 0.018599814, 0.0018216409, 0.03408621, -0.034346532, -0.00490113, -0.01590538, 0.05747368, 0.042098794, -0.040086277, 0.03876921, -0.027477067, -0.028979246, 0.011503804, 0.014136844, -0.014160459, 0.036337018, -0.012575185, 0.0057609435, -0.04066936, -0.009988951, 0.04744633, -0.0059604268, -0.065328345, -0.056280058, 0.029001338, 0.027519643, 0.029203586, 0.010499862, 9.253456e-05, -0.04051095, -0.020170184, -0.010766296, 0.05598931, 0.046439197, 0.02519943, -0.0023584825, 0.02465598, -0.058007773, 0.05457033, 0.035462473, 0.004339484, 0.037323378, -0.047681674, 0.012907515, 0.014308622, 4.3127216e-05, -0.07355779, -0.025203865, -0.034030747, 0.050170172, 0.05868882, -0.038196426, 0.04707284, 0.00351633, -0.021951975, -0.054491565, -0.019393595, 0.011721165, 0.017964989, 0.0027847819, -0.015716827, 0.01616206, -0.11356416, 0.020306353, 0.020127403, 0.06558182, 0.0044059865, -0.0014437962, -0.030297121, -0.023266664, -0.030987566, -0.049412876, 0.031027768, 0.0069506383, 0.010612621, -0.012214398, 0.030079981, -0.009761194, -0.019379063, 0.01953487, -0.028848184, 0.011545159, 0.005690762, 0.031228948, -0.016971659, -0.00011774952, 0.018151008, 0.015187112], statistics=None)]\n"
          ]
        }
      ],
      "execution_count": 26
    },
    {
      "cell_type": "markdown",
      "source": [
        "Confirm that the data was inserted by looking at the database."
      ],
      "metadata": {
        "id": "2QbwFgfXp-fL"
      }
    },
    {
      "cell_type": "code",
      "source": [
        "db.count()\n",
        "# You can peek at the data too.\n",
        "# db.peek(1)"
      ],
      "metadata": {
        "id": "kQ9PHUL_l-hf",
        "trusted": true,
        "execution": {
          "iopub.status.busy": "2025-03-31T10:16:50.503897Z",
          "iopub.execute_input": "2025-03-31T10:16:50.504826Z",
          "iopub.status.idle": "2025-03-31T10:16:50.516278Z",
          "shell.execute_reply.started": "2025-03-31T10:16:50.504775Z",
          "shell.execute_reply": "2025-03-31T10:16:50.514808Z"
        },
        "outputId": "19e12ed4-ad1f-4060-b4cf-e5a972c50f51",
        "colab": {
          "base_uri": "https://localhost:8080/"
        }
      },
      "outputs": [
        {
          "output_type": "execute_result",
          "data": {
            "text/plain": [
              "3"
            ]
          },
          "metadata": {},
          "execution_count": 14
        }
      ],
      "execution_count": 14
    },
    {
      "cell_type": "code",
      "source": [
        "#OpenAI\n",
        "class OpenAIEmbeddingFunction(EmbeddingFunction):\n",
        "    # Specify whether to generate embeddings for documents, or queries\n",
        "    document_mode = True\n",
        "\n",
        "    @retry.Retry(predicate=is_retriable)\n",
        "    def __call__(self, input: Documents) -> Embeddings:\n",
        "        if self.document_mode:\n",
        "            embedding_task = \"retrieval_document\"\n",
        "        else:\n",
        "            embedding_task = \"retrieval_query\"\n",
        "\n",
        "        response = openai_client.embeddings.create(\n",
        "            model=\"text-embedding-ada-002\",\n",
        "            input=input\n",
        "        )\n",
        "\n",
        "        return [data.embedding for data in response.data]\n"
      ],
      "metadata": {
        "id": "d1S_jkfQKWFk"
      },
      "execution_count": 33,
      "outputs": []
    },
    {
      "cell_type": "code",
      "source": [
        "OPENAI_DB_NAME = \"openaingooglecardb\"\n",
        "openai_embed_fn = OpenAIEmbeddingFunction()\n",
        "openai_embed_fn.document_mode = True\n",
        "\n",
        "chroma_client = chromadb.Client()\n",
        "openai_db = chroma_client.get_or_create_collection(name=OPENAI_DB_NAME, embedding_function=openai_embed_fn)\n",
        "\n",
        "openai_db.add(documents=documents, ids=[str(i) for i in range(len(documents))])"
      ],
      "metadata": {
        "id": "s1CBEJWuPJjM",
        "outputId": "586e3aa2-7b55-469d-d0ff-1f5affad9b38",
        "colab": {
          "base_uri": "https://localhost:8080/"
        }
      },
      "execution_count": 36,
      "outputs": [
        {
          "output_type": "stream",
          "name": "stderr",
          "text": [
            "WARNING:chromadb.segment.impl.vector.local_hnsw:Add of existing embedding ID: 0\n",
            "WARNING:chromadb.segment.impl.vector.local_hnsw:Add of existing embedding ID: 1\n",
            "WARNING:chromadb.segment.impl.vector.local_hnsw:Add of existing embedding ID: 2\n",
            "WARNING:chromadb.segment.impl.metadata.sqlite:Insert of existing embedding ID: 0\n",
            "WARNING:chromadb.segment.impl.metadata.sqlite:Insert of existing embedding ID: 1\n",
            "WARNING:chromadb.segment.impl.metadata.sqlite:Insert of existing embedding ID: 2\n"
          ]
        }
      ]
    },
    {
      "cell_type": "code",
      "source": [
        "openai_db.count()\n",
        "# You can peek at the data too.\n",
        "openai_db.peek(1)"
      ],
      "metadata": {
        "id": "eMo5PilaWKLE",
        "outputId": "38c8efbc-c16f-4a19-cbf5-64437ca2079f",
        "colab": {
          "base_uri": "https://localhost:8080/"
        }
      },
      "execution_count": 38,
      "outputs": [
        {
          "output_type": "execute_result",
          "data": {
            "text/plain": [
              "{'ids': ['0'],\n",
              " 'embeddings': array([[ 0.0077432 ,  0.02108265,  0.00550277, ...,  0.02172738,\n",
              "         -0.01601508, -0.00289806]]),\n",
              " 'documents': ['Operating the Climate Control System  Your Googlecar has a climate control system that allows you to adjust the temperature and airflow in the car. To operate the climate control system, use the buttons and knobs located on the center console.  Temperature: The temperature knob controls the temperature inside the car. Turn the knob clockwise to increase the temperature or counterclockwise to decrease the temperature. Airflow: The airflow knob controls the amount of airflow inside the car. Turn the knob clockwise to increase the airflow or counterclockwise to decrease the airflow. Fan speed: The fan speed knob controls the speed of the fan. Turn the knob clockwise to increase the fan speed or counterclockwise to decrease the fan speed. Mode: The mode button allows you to select the desired mode. The available modes are: Auto: The car will automatically adjust the temperature and airflow to maintain a comfortable level. Cool: The car will blow cool air into the car. Heat: The car will blow warm air into the car. Defrost: The car will blow warm air onto the windshield to defrost it.'],\n",
              " 'uris': None,\n",
              " 'data': None,\n",
              " 'metadatas': [None],\n",
              " 'included': [<IncludeEnum.embeddings: 'embeddings'>,\n",
              "  <IncludeEnum.documents: 'documents'>,\n",
              "  <IncludeEnum.metadatas: 'metadatas'>]}"
            ]
          },
          "metadata": {},
          "execution_count": 38
        }
      ]
    },
    {
      "cell_type": "markdown",
      "source": [
        "## Retrieval: Find relevant documents\n",
        "\n",
        "To search the Chroma database, call the `query` method. Note that you also switch to the `retrieval_query` mode of embedding generation.\n"
      ],
      "metadata": {
        "id": "Tu5zRErgsQ8u"
      }
    },
    {
      "cell_type": "code",
      "source": [
        "# Switch to query mode when generating embeddings.\n",
        "embed_fn.document_mode = False\n",
        "\n",
        "# Search the Chroma DB using the specified query.\n",
        "query = \"How do you use the touchscreen to play music?\"\n",
        "\n",
        "result = db.query(query_texts=[query], n_results=1)\n",
        "[all_passages] = result[\"documents\"]\n",
        "\n",
        "Markdown(all_passages[0])"
      ],
      "metadata": {
        "id": "gQdJMbTSLtKE",
        "trusted": true,
        "execution": {
          "iopub.status.busy": "2025-03-31T10:16:50.528639Z",
          "iopub.execute_input": "2025-03-31T10:16:50.529481Z",
          "iopub.status.idle": "2025-03-31T10:16:50.75471Z",
          "shell.execute_reply.started": "2025-03-31T10:16:50.529442Z",
          "shell.execute_reply": "2025-03-31T10:16:50.753363Z"
        },
        "outputId": "d9f5a4a9-1f45-4245-e062-3b7f2e33cf6b",
        "colab": {
          "base_uri": "https://localhost:8080/",
          "height": 81
        }
      },
      "outputs": [
        {
          "output_type": "execute_result",
          "data": {
            "text/plain": [
              "<IPython.core.display.Markdown object>"
            ],
            "text/markdown": "Your Googlecar has a large touchscreen display that provides access to a variety of features, including navigation, entertainment, and climate control. To use the touchscreen display, simply touch the desired icon.  For example, you can touch the \"Navigation\" icon to get directions to your destination or touch the \"Music\" icon to play your favorite songs."
          },
          "metadata": {},
          "execution_count": 43
        }
      ],
      "execution_count": 43
    },
    {
      "cell_type": "code",
      "source": [
        "#OpenAI\n",
        "# Switch to query mode when generating embeddings.\n",
        "openai_embed_fn.document_mode = False\n",
        "\n",
        "# Search the Chroma DB using the specified query.\n",
        "query = \"How do you use the touchscreen to play music?\"\n",
        "\n",
        "result = openai_db.query(query_texts=[query], n_results=1)\n",
        "[openaai_all_passages] = result[\"documents\"]\n",
        "\n",
        "Markdown(openaai_all_passages[0])"
      ],
      "metadata": {
        "id": "o6-wUV46WowL",
        "outputId": "eef753cb-343f-434c-faba-459bcb4a6cc9",
        "colab": {
          "base_uri": "https://localhost:8080/",
          "height": 81
        }
      },
      "execution_count": 44,
      "outputs": [
        {
          "output_type": "execute_result",
          "data": {
            "text/plain": [
              "<IPython.core.display.Markdown object>"
            ],
            "text/markdown": "Your Googlecar has a large touchscreen display that provides access to a variety of features, including navigation, entertainment, and climate control. To use the touchscreen display, simply touch the desired icon.  For example, you can touch the \"Navigation\" icon to get directions to your destination or touch the \"Music\" icon to play your favorite songs."
          },
          "metadata": {},
          "execution_count": 44
        }
      ]
    },
    {
      "cell_type": "markdown",
      "source": [
        "## Augmented generation: Answer the question\n",
        "\n",
        "Now that you have found a relevant passage from the set of documents (the *retrieval* step), you can now assemble a generation prompt to have the Gemini API *generate* a final answer. Note that in this example only a single passage was retrieved. In practice, especially when the size of your underlying data is large, you will want to retrieve more than one result and let the Gemini model determine what passages are relevant in answering the question. For this reason it's OK if some retrieved passages are not directly related to the question - this generation step should ignore them."
      ],
      "metadata": {
        "id": "s8PNRMpOQkm5"
      }
    },
    {
      "cell_type": "code",
      "source": [
        "query_oneline = query.replace(\"\\n\", \" \")\n",
        "\n",
        "# This prompt is where you can specify any guidance on tone, or what topics the model should stick to, or avoid.\n",
        "prompt = f\"\"\"You are a helpful and informative bot that answers questions using text from the reference passage included below.\n",
        "Be sure to respond in a complete sentence, being comprehensive, including all relevant background information.\n",
        "However, you are talking to a non-technical audience, so be sure to break down complicated concepts and\n",
        "strike a friendly and converstional tone. If the passage is irrelevant to the answer, you may ignore it.\n",
        "\n",
        "QUESTION: {query_oneline}\n",
        "\"\"\"\n",
        "\n",
        "# Add the retrieved documents to the prompt.\n",
        "for passage in all_passages:\n",
        "    passage_oneline = passage.replace(\"\\n\", \" \")\n",
        "    prompt += f\"PASSAGE: {passage_oneline}\\n\"\n",
        "\n",
        "print(prompt)"
      ],
      "metadata": {
        "id": "b6_Y-GOymaXu",
        "trusted": true,
        "execution": {
          "iopub.status.busy": "2025-03-31T10:16:50.756108Z",
          "iopub.execute_input": "2025-03-31T10:16:50.756448Z",
          "iopub.status.idle": "2025-03-31T10:16:50.764894Z",
          "shell.execute_reply.started": "2025-03-31T10:16:50.756418Z",
          "shell.execute_reply": "2025-03-31T10:16:50.763356Z"
        },
        "outputId": "e5ea6604-2e80-4828-893c-f838a7e265ea",
        "colab": {
          "base_uri": "https://localhost:8080/"
        }
      },
      "outputs": [
        {
          "output_type": "stream",
          "name": "stdout",
          "text": [
            "You are a helpful and informative bot that answers questions using text from the reference passage included below.\n",
            "Be sure to respond in a complete sentence, being comprehensive, including all relevant background information.\n",
            "However, you are talking to a non-technical audience, so be sure to break down complicated concepts and\n",
            "strike a friendly and converstional tone. If the passage is irrelevant to the answer, you may ignore it.\n",
            "\n",
            "QUESTION: How do you use the touchscreen to play music?\n",
            "PASSAGE: Your Googlecar has a large touchscreen display that provides access to a variety of features, including navigation, entertainment, and climate control. To use the touchscreen display, simply touch the desired icon.  For example, you can touch the \"Navigation\" icon to get directions to your destination or touch the \"Music\" icon to play your favorite songs.\n",
            "\n"
          ]
        }
      ],
      "execution_count": 50
    },
    {
      "cell_type": "markdown",
      "source": [
        "Now use the `generate_content` method to to generate an answer to the question."
      ],
      "metadata": {
        "id": "VRy6yXzcPxLB"
      }
    },
    {
      "cell_type": "code",
      "source": [
        "answer = client.models.generate_content(\n",
        "    model=\"gemini-2.0-flash\",\n",
        "    contents=prompt)\n",
        "\n",
        "Markdown(answer.text)"
      ],
      "metadata": {
        "id": "EwfyxFM6Giy9",
        "trusted": true,
        "execution": {
          "iopub.status.busy": "2025-03-31T10:16:50.766357Z",
          "iopub.execute_input": "2025-03-31T10:16:50.766776Z",
          "iopub.status.idle": "2025-03-31T10:16:51.305502Z",
          "shell.execute_reply.started": "2025-03-31T10:16:50.76674Z",
          "shell.execute_reply": "2025-03-31T10:16:51.304106Z"
        },
        "outputId": "d657dfd6-c398-44d4-dc94-6fe3b08fb691",
        "colab": {
          "base_uri": "https://localhost:8080/",
          "height": 46
        }
      },
      "outputs": [
        {
          "output_type": "execute_result",
          "data": {
            "text/plain": [
              "<IPython.core.display.Markdown object>"
            ],
            "text/markdown": "If you want to listen to music in your Googlecar, just touch the \"Music\" icon on the touchscreen display, and you can start playing your favorite songs!\n"
          },
          "metadata": {},
          "execution_count": 46
        }
      ],
      "execution_count": 46
    },
    {
      "cell_type": "code",
      "source": [
        "#OpenAI\n",
        "# This prompt is where you can specify any guidance on tone, or what topics the model should stick to, or avoid.\n",
        "openai_prompt = f\"\"\"You are a helpful and informative bot that answers questions using text from the reference passage included below.\n",
        "Be sure to respond in a complete sentence, being comprehensive, including all relevant background information.\n",
        "However, you are talking to a non-technical audience, so be sure to break down complicated concepts and\n",
        "strike a friendly and converstional tone. If the passage is irrelevant to the answer, you may ignore it.\n",
        "\n",
        "QUESTION: {query_oneline}\n",
        "\"\"\"\n",
        "# Add the retrieved documents to the prompt.\n",
        "for passage in openaai_all_passages:\n",
        "    openai_passage_oneline = passage.replace(\"\\n\", \" \")\n",
        "    openai_prompt += f\"PASSAGE: {openai_passage_oneline}\\n\"\n",
        "\n",
        "print(openai_prompt)"
      ],
      "metadata": {
        "id": "UG6CZ1jxY1s7",
        "outputId": "691d1fda-5496-4e3b-93c6-59ec639bd672",
        "colab": {
          "base_uri": "https://localhost:8080/"
        }
      },
      "execution_count": 58,
      "outputs": [
        {
          "output_type": "stream",
          "name": "stdout",
          "text": [
            "You are a helpful and informative bot that answers questions using text from the reference passage included below.\n",
            "Be sure to respond in a complete sentence, being comprehensive, including all relevant background information.\n",
            "However, you are talking to a non-technical audience, so be sure to break down complicated concepts and\n",
            "strike a friendly and converstional tone. If the passage is irrelevant to the answer, you may ignore it.\n",
            "\n",
            "QUESTION: How do you use the touchscreen to play music?\n",
            "PASSAGE: Your Googlecar has a large touchscreen display that provides access to a variety of features, including navigation, entertainment, and climate control. To use the touchscreen display, simply touch the desired icon.  For example, you can touch the \"Navigation\" icon to get directions to your destination or touch the \"Music\" icon to play your favorite songs.\n",
            "\n"
          ]
        }
      ]
    },
    {
      "cell_type": "code",
      "source": [
        "answer = openai_client.responses.create(\n",
        "    model=\"gpt-4.1\",\n",
        "    input=openai_prompt)\n",
        "\n",
        "Markdown(answer.output_text)"
      ],
      "metadata": {
        "id": "M1Zavs9hZyyC",
        "outputId": "dc4110f0-6098-4ad7-d8c7-8fb0ba06b229",
        "colab": {
          "base_uri": "https://localhost:8080/",
          "height": 64
        }
      },
      "execution_count": 59,
      "outputs": [
        {
          "output_type": "execute_result",
          "data": {
            "text/plain": [
              "<IPython.core.display.Markdown object>"
            ],
            "text/markdown": "To play music using the touchscreen in your Googlecar, all you need to do is touch the \"Music\" icon on the large display. This will let you access and play your favorite songs. It’s as simple as tapping the screen where you see the music option!"
          },
          "metadata": {},
          "execution_count": 59
        }
      ]
    },
    {
      "cell_type": "markdown",
      "source": [
        "## Next steps\n",
        "\n",
        "Congrats on building a Retrieval-Augmented Generation app!\n",
        "\n",
        "To learn more about using embeddings in the Gemini API, check out the [Intro to embeddings](https://ai.google.dev/gemini-api/docs/embeddings) or to learn more fundamentals, study the [embeddings chapter](https://developers.google.com/machine-learning/crash-course/embeddings) of the Machine Learning Crash Course.\n",
        "\n",
        "For a hosted RAG system, check out the [Semantic Retrieval service](https://ai.google.dev/gemini-api/docs/semantic_retrieval) in the Gemini API. You can implement question-answering on your own documents in a single request, or host a database for even faster responses.\n",
        "\n",
        "*- [Mark McD](https://linktr.ee/markmcd)*"
      ],
      "metadata": {
        "id": "ThTbjAJ7eGP5"
      }
    }
  ]
}