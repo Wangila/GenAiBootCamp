{
  "metadata": {
    "kernelspec": {
      "name": "python3",
      "display_name": "Python 3",
      "language": "python"
    },
    "language_info": {
      "name": "python",
      "version": "3.10.12",
      "mimetype": "text/x-python",
      "codemirror_mode": {
        "name": "ipython",
        "version": 3
      },
      "pygments_lexer": "ipython3",
      "nbconvert_exporter": "python",
      "file_extension": ".py"
    },
    "colab": {
      "provenance": [],
      "name": "Day 1 - Evaluation and structured output",
      "include_colab_link": true
    },
    "kaggle": {
      "accelerator": "none",
      "dataSources": [],
      "dockerImageVersionId": 30918,
      "isInternetEnabled": true,
      "language": "python",
      "sourceType": "notebook",
      "isGpuEnabled": false
    }
  },
  "nbformat_minor": 0,
  "nbformat": 4,
  "cells": [
    {
      "cell_type": "markdown",
      "metadata": {
        "id": "view-in-github",
        "colab_type": "text"
      },
      "source": [
        "<a href=\"https://colab.research.google.com/github/Wangila/GenAiBootCamp/blob/master/Day_1_Evaluation_and_structured_output.ipynb\" target=\"_parent\"><img src=\"https://colab.research.google.com/assets/colab-badge.svg\" alt=\"Open In Colab\"/></a>"
      ]
    },
    {
      "cell_type": "markdown",
      "source": [
        "Copyright 2025 Google LLC."
      ],
      "metadata": {
        "id": "NAno69YDdJMX"
      }
    },
    {
      "cell_type": "code",
      "source": [
        "# @title Licensed under the Apache License, Version 2.0 (the \"License\");\n",
        "# you may not use this file except in compliance with the License.\n",
        "# You may obtain a copy of the License at\n",
        "#\n",
        "# https://www.apache.org/licenses/LICENSE-2.0\n",
        "#\n",
        "# Unless required by applicable law or agreed to in writing, software\n",
        "# distributed under the License is distributed on an \"AS IS\" BASIS,\n",
        "# WITHOUT WARRANTIES OR CONDITIONS OF ANY KIND, either express or implied.\n",
        "# See the License for the specific language governing permissions and\n",
        "# limitations under the License."
      ],
      "metadata": {
        "trusted": true,
        "jupyter": {
          "source_hidden": true
        },
        "execution": {
          "iopub.status.busy": "2025-03-31T09:30:24.536663Z",
          "iopub.execute_input": "2025-03-31T09:30:24.536995Z",
          "iopub.status.idle": "2025-03-31T09:30:24.541068Z",
          "shell.execute_reply.started": "2025-03-31T09:30:24.536968Z",
          "shell.execute_reply": "2025-03-31T09:30:24.540074Z"
        },
        "id": "8D0t4mXUdJMY"
      },
      "outputs": [],
      "execution_count": null
    },
    {
      "cell_type": "markdown",
      "source": [
        "# Day 1 - Evaluation and structured output\n",
        "\n",
        "## Overview\n",
        "\n",
        "Welcome back to the Kaggle 5-day Generative AI course. In this notebook, you'll learn some techniques for evaluating the output of a language model. As part of the evaluation, you will also use Gemini's structured data capability to produce evaluation results as instances of Python types.\n",
        "\n",
        "Note: This notebook is more code-heavy than the first Day 1 notebook ([Prompting](https://www.kaggle.com/code/markishere/day-1-prompting/)). This notebook is not a prerequisite for days 2 and beyond, so feel free to skip over it, or come back later in the week. If you have not yet tried the [Prompting](https://www.kaggle.com/code/markishere/day-1-prompting/) notebook, start there first as it introduces the fundamentals for interacting with LLMs.\n",
        "\n",
        "Also check out the **bonus whitepaper** on [Evaluating Large Language Models](https://services.google.com/fh/files/blogs/neurips_evaluation.pdf).\n",
        "\n",
        "## For help\n",
        "\n",
        "**Common issues are covered in the [FAQ and troubleshooting guide](https://www.kaggle.com/code/markishere/day-0-troubleshooting-and-faqs).**\n"
      ],
      "metadata": {
        "id": "jYWMmQV7SJt6"
      }
    },
    {
      "cell_type": "markdown",
      "source": [
        "## Setup\n",
        "\n",
        "Install the Python SDK."
      ],
      "metadata": {
        "id": "ZrE2lTyXSMmz"
      }
    },
    {
      "cell_type": "code",
      "source": [
        "!pip install -Uq \"google-genai==1.7.0\""
      ],
      "metadata": {
        "id": "lEwSQePeF6w-",
        "trusted": true,
        "execution": {
          "iopub.status.busy": "2025-03-31T09:30:24.542258Z",
          "iopub.execute_input": "2025-03-31T09:30:24.542607Z",
          "iopub.status.idle": "2025-03-31T09:30:31.063676Z",
          "shell.execute_reply.started": "2025-03-31T09:30:24.542569Z",
          "shell.execute_reply": "2025-03-31T09:30:31.06248Z"
        },
        "outputId": "759f424a-8842-44d4-aacc-e45df081a0f8",
        "colab": {
          "base_uri": "https://localhost:8080/"
        }
      },
      "outputs": [
        {
          "output_type": "stream",
          "name": "stdout",
          "text": [
            "\u001b[?25l   \u001b[90m━━━━━━━━━━━━━━━━━━━━━━━━━━━━━━━━━━━━━━━━\u001b[0m \u001b[32m0.0/144.7 kB\u001b[0m \u001b[31m?\u001b[0m eta \u001b[36m-:--:--\u001b[0m\r\u001b[2K   \u001b[90m━━━━━━━━━━━━━━━━━━━━━━━━━━━━━━━━━━━━━━━━\u001b[0m \u001b[32m144.7/144.7 kB\u001b[0m \u001b[31m4.1 MB/s\u001b[0m eta \u001b[36m0:00:00\u001b[0m\n",
            "\u001b[?25h"
          ]
        }
      ],
      "execution_count": null
    },
    {
      "cell_type": "code",
      "source": [
        "from google import genai\n",
        "from google.genai import types\n",
        "#OpenAI\n",
        "from openai import OpenAI\n",
        "\n",
        "from IPython.display import Markdown, display\n",
        "\n",
        "genai.__version__"
      ],
      "metadata": {
        "id": "VWZlEwomGDir",
        "trusted": true,
        "execution": {
          "iopub.status.busy": "2025-03-31T09:30:31.06489Z",
          "iopub.execute_input": "2025-03-31T09:30:31.065178Z",
          "iopub.status.idle": "2025-03-31T09:30:32.58451Z",
          "shell.execute_reply.started": "2025-03-31T09:30:31.065153Z",
          "shell.execute_reply": "2025-03-31T09:30:32.583327Z"
        },
        "outputId": "af036954-2881-43db-a8cb-f283fddc4d33",
        "colab": {
          "base_uri": "https://localhost:8080/",
          "height": 35
        }
      },
      "outputs": [
        {
          "output_type": "execute_result",
          "data": {
            "text/plain": [
              "'1.7.0'"
            ],
            "application/vnd.google.colaboratory.intrinsic+json": {
              "type": "string"
            }
          },
          "metadata": {},
          "execution_count": 5
        }
      ],
      "execution_count": null
    },
    {
      "cell_type": "markdown",
      "source": [
        "### Set up your API key\n",
        "\n",
        "To run the following cell, your API key must be stored it in a [Kaggle secret](https://www.kaggle.com/discussions/product-feedback/114053) named `GOOGLE_API_KEY`.\n",
        "\n",
        "If you don't already have an API key, you can grab one from [AI Studio](https://aistudio.google.com/app/apikey). You can find [detailed instructions in the docs](https://ai.google.dev/gemini-api/docs/api-key).\n",
        "\n",
        "To make the key available through Kaggle secrets, choose `Secrets` from the `Add-ons` menu and follow the instructions to add your key or enable it for this notebook."
      ],
      "metadata": {
        "id": "fzKlKVVjdJMa"
      }
    },
    {
      "cell_type": "code",
      "source": [
        "#from kaggle_secrets import UserSecretsClient\n",
        "from google.colab import userdata\n",
        "#client = genai.Client(api_key=UserSecretsClient().get_secret(\"GOOGLE_API_KEY\"))\n",
        "GOOGLE_API_KEY = userdata.get('GOOGLE_API_KEY')\n",
        "OPENAI_API_KEY = userdata.get('OPENAI_API_KEY')\n",
        "client = genai.Client(api_key=GOOGLE_API_KEY)\n",
        "openai_client = OpenAI(api_key=OPENAI_API_KEY)"
      ],
      "metadata": {
        "id": "UteFYo7jGHRf",
        "trusted": true,
        "execution": {
          "iopub.status.busy": "2025-03-31T09:30:32.585791Z",
          "iopub.execute_input": "2025-03-31T09:30:32.586537Z",
          "iopub.status.idle": "2025-03-31T09:30:33.143394Z",
          "shell.execute_reply.started": "2025-03-31T09:30:32.586496Z",
          "shell.execute_reply": "2025-03-31T09:30:33.142291Z"
        }
      },
      "outputs": [],
      "execution_count": null
    },
    {
      "cell_type": "markdown",
      "source": [
        "If you received an error response along the lines of `No user secrets exist for kernel id ...`, then you need to add your API key via `Add-ons`, `Secrets` **and** enable it.\n",
        "\n",
        "![Screenshot of the checkbox to enable GOOGLE_API_KEY secret](https://storage.googleapis.com/kaggle-media/Images/5gdai_sc_3.png)"
      ],
      "metadata": {
        "id": "di5j0VzLdJMa"
      }
    },
    {
      "cell_type": "markdown",
      "source": [
        "### Automated retry\n",
        "\n",
        "This codelab sends a lot of requests, so set up an automatic retry\n",
        "that ensures your requests are retried when per-minute quota is reached."
      ],
      "metadata": {
        "id": "eCa4OX2DNyLI"
      }
    },
    {
      "cell_type": "code",
      "source": [
        "from google.api_core import retry\n",
        "\n",
        "is_retriable = lambda e: (isinstance(e, genai.errors.APIError) and e.code in {429, 503})\n",
        "\n",
        "if not hasattr(genai.models.Models.generate_content, '__wrapped__'):\n",
        "  genai.models.Models.generate_content = retry.Retry(\n",
        "      predicate=is_retriable)(genai.models.Models.generate_content)"
      ],
      "metadata": {
        "id": "V8as-_Hnr_cj",
        "trusted": true,
        "execution": {
          "iopub.status.busy": "2025-03-31T09:30:33.144445Z",
          "iopub.execute_input": "2025-03-31T09:30:33.144722Z",
          "iopub.status.idle": "2025-03-31T09:30:33.44754Z",
          "shell.execute_reply.started": "2025-03-31T09:30:33.144698Z",
          "shell.execute_reply": "2025-03-31T09:30:33.44648Z"
        }
      },
      "outputs": [],
      "execution_count": null
    },
    {
      "cell_type": "markdown",
      "source": [
        "## Evaluation"
      ],
      "metadata": {
        "id": "ZKH1is0gSO0p"
      }
    },
    {
      "cell_type": "markdown",
      "source": [
        "When using LLMs in real-world cases, it's important to understand how well they are performing. The open-ended generation capabilities of LLMs can make many cases difficult to measure. In this notebook you will walk through some simple techniques for evaluating LLM outputs and understanding their performance.\n",
        "\n",
        "For this example, you'll evaluate a summarisation task using the [Gemini 1.5 Pro technical report](https://storage.googleapis.com/cloud-samples-data/generative-ai/pdf/2403.05530.pdf). Start by downloading the PDF to the notebook environment, and uploading that copy for use with the Gemini API."
      ],
      "metadata": {
        "id": "ToUMpZTgGnyh"
      }
    },
    {
      "cell_type": "code",
      "source": [
        "!wget -nv -O gemini.pdf https://storage.googleapis.com/cloud-samples-data/generative-ai/pdf/2403.05530.pdf\n",
        "\n",
        "document_file = client.files.upload(file='gemini.pdf')"
      ],
      "metadata": {
        "id": "VVo85Inrn65Z",
        "trusted": true,
        "execution": {
          "iopub.status.busy": "2025-03-31T09:30:33.450397Z",
          "iopub.execute_input": "2025-03-31T09:30:33.450943Z",
          "iopub.status.idle": "2025-03-31T09:30:35.568552Z",
          "shell.execute_reply.started": "2025-03-31T09:30:33.450905Z",
          "shell.execute_reply": "2025-03-31T09:30:35.567409Z"
        },
        "outputId": "cf5b3fc4-e90e-4ec2-ee2f-5d9e80471adf",
        "colab": {
          "base_uri": "https://localhost:8080/"
        }
      },
      "outputs": [
        {
          "output_type": "stream",
          "name": "stdout",
          "text": [
            "2025-05-15 15:26:16 URL:https://storage.googleapis.com/cloud-samples-data/generative-ai/pdf/2403.05530.pdf [7228817/7228817] -> \"gemini.pdf\" [1]\n"
          ]
        }
      ],
      "execution_count": null
    },
    {
      "cell_type": "markdown",
      "source": [
        "### Summarise a document\n",
        "\n",
        "The summarisation request used here is fairly basic. It targets the training content specifically but provides no guidance otherwise."
      ],
      "metadata": {
        "id": "OziWUFKNqQEy"
      }
    },
    {
      "cell_type": "code",
      "source": [
        "request = 'Tell me about the training process used here.'\n",
        "\n",
        "def summarise_doc(request: str) -> str:\n",
        "  \"\"\"Execute the request on the uploaded document.\"\"\"\n",
        "  # Set the temperature low to stabilise the output.\n",
        "  config = types.GenerateContentConfig(temperature=0.0)\n",
        "  response = client.models.generate_content(\n",
        "      model='gemini-2.0-flash',\n",
        "      config=config,\n",
        "      contents=[request, document_file],\n",
        "  )\n",
        "\n",
        "  return response.text\n",
        "\n",
        "summary = summarise_doc(request)\n",
        "Markdown(summary)"
      ],
      "metadata": {
        "id": "Jxx92-z90tPS",
        "trusted": true,
        "execution": {
          "iopub.status.busy": "2025-03-31T09:30:35.570251Z",
          "iopub.execute_input": "2025-03-31T09:30:35.570603Z",
          "iopub.status.idle": "2025-03-31T09:30:48.493915Z",
          "shell.execute_reply.started": "2025-03-31T09:30:35.570572Z",
          "shell.execute_reply": "2025-03-31T09:30:48.49302Z"
        },
        "outputId": "65878767-b690-497c-e305-9462dcd7b8a0",
        "colab": {
          "base_uri": "https://localhost:8080/",
          "height": 588
        }
      },
      "outputs": [
        {
          "output_type": "execute_result",
          "data": {
            "text/plain": [
              "<IPython.core.display.Markdown object>"
            ],
            "text/markdown": "Based on the document you provided, here's a breakdown of the training process used for Gemini 1.5 Pro:\n\n**1. Data:**\n\n*   **Multimodal and Multilingual Data:** The model is trained on a diverse dataset that includes:\n    *   Web documents\n    *   Code\n    *   Images\n    *   Audio\n    *   Video content\n\n**2. Infrastructure:**\n\n*   **TPUv4 Accelerators:** Training is performed on multiple 4096-chip pods of Google's TPUv4 accelerators.\n*   **Distributed Training:** These accelerators are distributed across multiple datacenters.\n\n**3. Model Architecture:**\n\n*   **Mixture-of-Experts (MoE) Transformer:** Gemini 1.5 Pro is based on a sparse MoE Transformer architecture. This allows the model to have a large number of parameters while only activating a subset for any given input.\n\n**4. Training Phases:**\n\n*   **Pre-training:** The model is initially pre-trained on the large multimodal and multilingual dataset.\n*   **Instruction Tuning:** After pre-training, the model is fine-tuned using a collection of multimodal data containing paired instructions and appropriate responses.\n*   **Human Preference Tuning:** Further tuning is done based on human preference data.\n\n**5. Long-Context Capabilities:**\n\n*   The model incorporates significant architectural changes to enable understanding of inputs up to 10 million tokens without performance degradation.\n\n**6. Optimization:**\n\n*   Improvements are made across the entire model stack, including architecture, data, optimization, and systems, to achieve comparable quality to Gemini 1.0 Ultra with significantly less training compute and improved efficiency.\n\n**Key Takeaways:**\n\n*   Gemini 1.5 Pro leverages a massive and diverse dataset, powerful hardware, and a sophisticated architecture to achieve its capabilities.\n*   The training process involves multiple stages, including pre-training, instruction tuning, and human preference tuning.\n*   A key focus is on enabling long-context understanding without sacrificing performance on core capabilities.\n"
          },
          "metadata": {},
          "execution_count": 13
        }
      ],
      "execution_count": null
    },
    {
      "cell_type": "code",
      "source": [
        "#Open AI\n",
        "openai_file = openai_client.files.create(\n",
        "    file=open('gemini.pdf', \"rb\"),\n",
        "    purpose=\"user_data\"\n",
        ")\n",
        "def summarise_doc_openai(request: str) -> str:\n",
        "  \"\"\"Execute the request on the uploaded document.\"\"\"\n",
        "  # Set the temperature low to stabilise the output.\n",
        "  config = types.GenerateContentConfig(temperature=0.0)\n",
        "  response = openai_client.responses.create(\n",
        "      model='gpt-4.1',\n",
        "      temperature=0.0,\n",
        "      input=[\n",
        "        {\n",
        "            \"role\": \"user\",\n",
        "            \"content\": [\n",
        "                {\n",
        "                    \"type\": \"input_file\",\n",
        "                    \"file_id\": openai_file.id,\n",
        "                },\n",
        "                {\n",
        "                    \"type\": \"input_text\",\n",
        "                    \"text\": request,\n",
        "                },\n",
        "            ]\n",
        "        }\n",
        "    ]\n",
        "  )\n",
        "\n",
        "  return response.output_text\n",
        "\n",
        "summary = summarise_doc_openai(request)\n",
        "Markdown(summary)"
      ],
      "metadata": {
        "id": "TDKH_qd7jx8F",
        "outputId": "8c592fe2-3d26-48de-a29e-ccd6dc4d6faf",
        "colab": {
          "base_uri": "https://localhost:8080/",
          "height": 1000
        }
      },
      "execution_count": 79,
      "outputs": [
        {
          "output_type": "execute_result",
          "data": {
            "text/plain": [
              "<IPython.core.display.Markdown object>"
            ],
            "text/markdown": "Certainly! Here’s a summary of the **training process** used for Gemini 1.5 Pro, based on the technical report:\n\n---\n\n## **Training Process of Gemini 1.5 Pro**\n\n### **1. Model Architecture**\n- **Gemini 1.5 Pro** is a **sparse mixture-of-experts (MoE) Transformer-based model**.\n- It builds on the Gemini 1.0 architecture, with significant changes to support extremely long context windows (up to 10 million tokens) and efficient multimodal processing (text, images, audio, video).\n\n### **2. Training Infrastructure**\n- **Hardware:** Training was performed on multiple 4096-chip pods of Google’s TPUv4 accelerators, distributed across several datacenters.\n- **Software:** The model was trained using JAX and ML Pathways, which allow for large-scale, efficient, and parallelized training.\n\n### **3. Training Data**\n- **Pre-training Dataset:** Gemini 1.5 Pro was trained on a large, diverse, and multimodal dataset, including:\n  - Web documents\n  - Code\n  - Images\n  - Audio\n  - Video\n  - Multilingual data\n- The dataset covers a wide range of domains and modalities to enable the model’s broad capabilities.\n\n### **4. Training Phases**\n#### **A. Pre-training**\n- The model is trained from random initialization on the large multimodal and multilingual dataset.\n- The objective is next-token prediction (language modeling), which is standard for large language models.\n\n#### **B. Instruction Tuning (Fine-tuning)**\n- After pre-training, Gemini 1.5 Pro undergoes **instruction tuning**:\n  - The model is fine-tuned on a curated set of multimodal data containing paired instructions and desired responses.\n  - Further tuning is performed using **human preference data** (i.e., reinforcement learning from human feedback, RLHF) to improve helpfulness, safety, and alignment with user intent.\n\n### **5. Mixture-of-Experts (MoE) Details**\n- MoE models use a learned routing function to direct each input to a subset of the model’s parameters (the “experts”).\n- This allows the model to scale up the total parameter count while keeping the number of active parameters per input constant, making training and inference more efficient.\n\n### **6. Long-Context Support**\n- Gemini 1.5 Pro incorporates architectural innovations and system-level optimizations to support context windows up to 10 million tokens.\n- This enables the model to process entire codebases, long books, hours of video/audio, and large collections of documents in a single pass.\n\n### **7. Efficiency**\n- Despite its increased capabilities, Gemini 1.5 Pro is **more efficient to train and serve** than previous models (e.g., Gemini 1.0 Ultra), thanks to the MoE architecture and infrastructure improvements.\n\n---\n\n**In summary:**  \nGemini 1.5 Pro is trained in two main phases (pre-training and instruction tuning) on a massive, diverse, and multimodal dataset, using a sparse MoE Transformer architecture and large-scale TPU infrastructure. The process is designed for efficiency, scalability, and the ability to handle extremely long contexts across multiple modalities.\n\nIf you want more technical details (e.g., about optimization, data curation, or specific training tricks), let me know!"
          },
          "metadata": {},
          "execution_count": 79
        }
      ]
    },
    {
      "cell_type": "markdown",
      "source": [
        "### Define an evaluator\n",
        "\n",
        "For a task like this, you may wish to evaluate a number of aspects, like how well the model followed the prompt (\"instruction following\"), whether it included relevant data in the prompt (\"groundedness\"), how easy the text is to read (\"fluency\"), or other factors like \"verbosity\" or \"quality\".\n",
        "\n",
        "You can instruct an LLM to perform these tasks in a similar manner to how you would instruct a human rater: with a clear definition and [assessment rubric](https://en.wikipedia.org/wiki/Rubric_%28academic%29).\n",
        "\n",
        "In this step, you define an evaluation agent using a pre-written \"summarisation\" prompt and use it to gauge the quality of the generated summary.\n",
        "\n",
        "Note: For more pre-written evaluation prompts covering groundedness, safety, coherence and more, check out this [comprehensive list of model-based evaluation prompts](https://cloud.google.com/vertex-ai/generative-ai/docs/models/metrics-templates) from the Google Cloud docs."
      ],
      "metadata": {
        "id": "6rR0v4Iw64x0"
      }
    },
    {
      "cell_type": "code",
      "source": [
        "import enum\n",
        "\n",
        "# Define the evaluation prompt\n",
        "SUMMARY_PROMPT = \"\"\"\\\n",
        "# Instruction\n",
        "You are an expert evaluator. Your task is to evaluate the quality of the responses generated by AI models.\n",
        "We will provide you with the user input and an AI-generated responses.\n",
        "You should first read the user input carefully for analyzing the task, and then evaluate the quality of the responses based on the Criteria provided in the Evaluation section below.\n",
        "You will assign the response a rating following the Rating Rubric and Evaluation Steps. Give step-by-step explanations for your rating, and only choose ratings from the Rating Rubric.\n",
        "\n",
        "# Evaluation\n",
        "## Metric Definition\n",
        "You will be assessing summarization quality, which measures the overall ability to summarize text. Pay special attention to length constraints, such as in X words or in Y sentences. The instruction for performing a summarization task and the context to be summarized are provided in the user prompt. The response should be shorter than the text in the context. The response should not contain information that is not present in the context.\n",
        "\n",
        "## Criteria\n",
        "Instruction following: The response demonstrates a clear understanding of the summarization task instructions, satisfying all of the instruction's requirements.\n",
        "Groundedness: The response contains information included only in the context. The response does not reference any outside information.\n",
        "Conciseness: The response summarizes the relevant details in the original text without a significant loss in key information without being too verbose or terse.\n",
        "Fluency: The response is well-organized and easy to read.\n",
        "\n",
        "## Rating Rubric\n",
        "5: (Very good). The summary follows instructions, is grounded, is concise, and fluent.\n",
        "4: (Good). The summary follows instructions, is grounded, concise, and fluent.\n",
        "3: (Ok). The summary mostly follows instructions, is grounded, but is not very concise and is not fluent.\n",
        "2: (Bad). The summary is grounded, but does not follow the instructions.\n",
        "1: (Very bad). The summary is not grounded.\n",
        "\n",
        "## Evaluation Steps\n",
        "STEP 1: Assess the response in aspects of instruction following, groundedness, conciseness, and verbosity according to the criteria.\n",
        "STEP 2: Score based on the rubric.\n",
        "\n",
        "# User Inputs and AI-generated Response\n",
        "## User Inputs\n",
        "\n",
        "### Prompt\n",
        "{prompt}\n",
        "\n",
        "## AI-generated Response\n",
        "{response}\n",
        "\"\"\"\n",
        "\n",
        "# Define a structured enum class to capture the result.\n",
        "class SummaryRating(enum.Enum):\n",
        "  VERY_GOOD = '5'\n",
        "  GOOD = '4'\n",
        "  OK = '3'\n",
        "  BAD = '2'\n",
        "  VERY_BAD = '1'\n",
        "\n",
        "\n",
        "def eval_summary(prompt, ai_response):\n",
        "  \"\"\"Evaluate the generated summary against the prompt used.\"\"\"\n",
        "\n",
        "  #print(\"Fomarted input:\")\n",
        "  #print(SUMMARY_PROMPT.format(prompt=prompt, response=ai_response))\n",
        "\n",
        "  chat = client.chats.create(model='gemini-2.0-flash')\n",
        "\n",
        "  # Generate the full text response.\n",
        "  response = chat.send_message(\n",
        "      message=SUMMARY_PROMPT.format(prompt=prompt, response=ai_response)\n",
        "  )\n",
        "  verbose_eval = response.text\n",
        "\n",
        "  # Coerce into the desired structure.\n",
        "  structured_output_config = types.GenerateContentConfig(\n",
        "      response_mime_type=\"text/x.enum\",\n",
        "      response_schema=SummaryRating,\n",
        "  )\n",
        "  response = chat.send_message(\n",
        "      message=\"Convert the final score.\",\n",
        "      config=structured_output_config,\n",
        "  )\n",
        "  structured_eval = response.parsed\n",
        "\n",
        "  return verbose_eval, structured_eval\n",
        "\n",
        "\n",
        "text_eval, struct_eval = eval_summary(prompt=[request, document_file], ai_response=summary)\n",
        "Markdown(text_eval)"
      ],
      "metadata": {
        "id": "xEAXtJte-Ajv",
        "trusted": true,
        "execution": {
          "iopub.status.busy": "2025-03-31T09:30:48.494779Z",
          "iopub.execute_input": "2025-03-31T09:30:48.495065Z",
          "iopub.status.idle": "2025-03-31T09:30:49.938861Z",
          "shell.execute_reply.started": "2025-03-31T09:30:48.495042Z",
          "shell.execute_reply": "2025-03-31T09:30:49.937607Z"
        },
        "colab": {
          "base_uri": "https://localhost:8080/",
          "height": 258
        },
        "outputId": "7d802154-1c43-496b-cdc6-ebff5d3c0d6b"
      },
      "outputs": [
        {
          "output_type": "execute_result",
          "data": {
            "text/plain": [
              "<IPython.core.display.Markdown object>"
            ],
            "text/markdown": "## Evaluation Step 1:\nThe response appears to follow instructions by providing a summarization of the document I provided. The response is well organized and easy to read and understand. It also looks like it is grounded in the document I uploaded and provides a good overview of the training process used for Gemini 1.5 Pro.\n\n## Evaluation Step 2:\nI am giving this response a 5 because it is grounded in the document I uploaded and provides a concise summarization of the training process used for Gemini 1.5 Pro.\n\n## Rating:\n5\n"
          },
          "metadata": {},
          "execution_count": 88
        }
      ],
      "execution_count": 88
    },
    {
      "cell_type": "code",
      "source": [],
      "metadata": {
        "id": "SlrqZaoOE9RV"
      },
      "execution_count": null,
      "outputs": []
    },
    {
      "cell_type": "markdown",
      "source": [
        "In this example, the model generated a textual justification that was set up in a chat context. This full text response is useful both for human interpretation and for giving the model a place to \"collect notes\" while it assesses the text and produces a final score. This \"note taking\" or \"thinking\" strategy typically works well with auto-regressive models, where the generated text is passed back into the model at each generation step. This means the working \"notes\" are used when generating final result output.\n",
        "\n",
        "In the next turn, the model converts the text output into a structured response. If you want to aggregate scores or use them programatically then you want to avoid parsing the unstructured text output. Here the `SummaryRating` schema is passed, so the model converts the chat history into an instance of the `SummaryRating` enum."
      ],
      "metadata": {
        "id": "qfkQ0lUByy2o"
      }
    },
    {
      "cell_type": "code",
      "source": [
        "struct_eval"
      ],
      "metadata": {
        "id": "Ow9J9tgORiqt",
        "trusted": true,
        "execution": {
          "iopub.status.busy": "2025-03-31T09:30:49.940039Z",
          "iopub.execute_input": "2025-03-31T09:30:49.940323Z",
          "iopub.status.idle": "2025-03-31T09:30:49.945962Z",
          "shell.execute_reply.started": "2025-03-31T09:30:49.940298Z",
          "shell.execute_reply": "2025-03-31T09:30:49.94503Z"
        },
        "colab": {
          "base_uri": "https://localhost:8080/"
        },
        "outputId": "d7b51504-b7c2-4181-b0bc-b652f68b4d4b"
      },
      "outputs": [
        {
          "output_type": "execute_result",
          "data": {
            "text/plain": [
              "<SummaryRating.VERY_GOOD: '5'>"
            ]
          },
          "metadata": {},
          "execution_count": 65
        }
      ],
      "execution_count": 65
    },
    {
      "cell_type": "code",
      "source": [
        "#OpenAI\n",
        "from pydantic import BaseModel, Field\n",
        "class Rating(enum.Enum):\n",
        "    VERY_GOOD = '5'\n",
        "    GOOD = '4'\n",
        "    OK = '3'\n",
        "    BAD = '2'\n",
        "    VERY_BAD = '1'\n",
        "\n",
        "# Define a structured enum class to capture the result.\n",
        "class SummaryRatingOpenaai(BaseModel):\n",
        "  rating: Rating = Field(description=\"The rating\")\n",
        "\n",
        "\n",
        "def eval_summary_openai(prompt, ai_response):\n",
        "  \"\"\"Evaluate the generated summary against the prompt used.\"\"\"\n",
        "\n",
        "  #print(\"Fomarted input:\")\n",
        "  #print(SUMMARY_PROMPT.format(prompt=prompt, response=ai_response))\n",
        "  # Generate the full text response.\n",
        "  chat_responses = openai_client.responses.create(\n",
        "      model='gpt-4.1',\n",
        "      input = SUMMARY_PROMPT.format(prompt=prompt, response=ai_response)\n",
        "\n",
        "      )\n",
        "\n",
        "  verbose_eval = chat_responses.output_text\n",
        "\n",
        "  # Coerce into the desired structure.\n",
        "\n",
        "\n",
        "  chat_responses = openai_client.responses.parse(\n",
        "      model='gpt-4.1',\n",
        "      previous_response_id= chat_responses.id,\n",
        "      input = \"Convert the final score.\",\n",
        "      #response_mime_type=\"text/x.enum\",\n",
        "      text_format=SummaryRatingOpenaai\n",
        "      )\n",
        "\n",
        "\n",
        "\n",
        "  structured_eval = chat_responses.output_parsed\n",
        "\n",
        "  return verbose_eval, structured_eval\n",
        "\n",
        "\n",
        "text_eval, struct_eval = eval_summary_openai(prompt=[request, openai_file], ai_response=summary)\n",
        "Markdown(text_eval)\n"
      ],
      "metadata": {
        "colab": {
          "base_uri": "https://localhost:8080/",
          "height": 693
        },
        "id": "Ge-iQfC0FCaK",
        "outputId": "d92f791a-e8d0-4b51-a845-41db33e7ebdf"
      },
      "execution_count": 91,
      "outputs": [
        {
          "output_type": "execute_result",
          "data": {
            "text/plain": [
              "<IPython.core.display.Markdown object>"
            ],
            "text/markdown": "Let's evaluate the AI-generated summary step-by-step based on the criteria:\n\n## STEP 1: Assessment by Criteria\n\n### Instruction Following\n- The prompt is: \"Tell me about the training process used here.\"  \n- The response provides a detailed summary of the training process for Gemini 1.5 Pro, drawn from the technical report (presumably \"here\" refers to the document shared by the user).\n- The summary is structured into logical sections (architecture, infrastructure, data, phases, MoE, context support, efficiency), directly answering the request.\n\n### Groundedness\n- The response is grounded; all details refer to aspects that could reasonably be present in a technical report on Gemini 1.5 Pro (MoE architecture, use of TPUs, JAX/Pathways, data types, training phases, RLHF, efficiency).\n- There is no evidence of hallucination or introducing information that would not plausibly be found in such a report.\n\n### Conciseness\n- The summary is notably longer than absolutely necessary for a high-level summary, but it does not include superfluous information or unrelated tangents.\n- The details are all relevant, and each section relates directly to how training was conducted.\n- However, it is more detailed than a short summary and borders on being too verbose for a basic \"Tell me about\" request.\n\n### Fluency\n- The response is very well-organized, broken down into bullet points, sections, and closed with a concise summary paragraph.\n- The language is clear, easy to follow, and the structure aids readability.\n\n## STEP 2: Score Based on Rubric\n\nThe response:\n- Strictly follows instructions for summarizing the training process;\n- Is grounded, with all content plausibly present in the referenced document;\n- Is mostly concise, though somewhat detailed for a simple request, but not excessively verbose;\n- Is highly fluent and organized.\n\n**RATING: 5 (Very Good)**\n- The summary meets all four main criteria at a high standard; the slight verbosity is justified by strong organization, relevance, and informativeness. It remains a summary (shorter than an original technical report section), not a full copy or overly wordy paraphrase.\n- This is the highest rating per rubric guidance, as the summary is instruction-following, concise, grounded, and fluent."
          },
          "metadata": {},
          "execution_count": 91
        }
      ]
    },
    {
      "cell_type": "code",
      "source": [
        "struct_eval.rating"
      ],
      "metadata": {
        "colab": {
          "base_uri": "https://localhost:8080/"
        },
        "id": "6I3KdsN1fdsq",
        "outputId": "dd679b22-10fc-4050-a38a-610b34fb9273"
      },
      "execution_count": 92,
      "outputs": [
        {
          "output_type": "execute_result",
          "data": {
            "text/plain": [
              "<Rating.VERY_GOOD: '5'>"
            ]
          },
          "metadata": {},
          "execution_count": 92
        }
      ]
    },
    {
      "cell_type": "markdown",
      "source": [
        "### Make the summary prompt better or worse\n",
        "\n",
        "Gemini models tend to be quite good at tasks like direct summarisation without much prompting, so you should expect to see a result like `GOOD` or `VERY_GOOD` on the previous task, even with a rudimentary prompt. Run it a few times to get a feel for the average response.\n",
        "\n",
        "To explore how to influence the summarisation output, consider what you might change in the summary request prompt to change the result. Take a look at the evaluation `SUMMARY_PROMPT` for some ideas.\n",
        "\n",
        "Try the following tweaks and see how they positively or negatively change the result:\n",
        "* Be specific with the size of the summary,\n",
        "* Request specific information,\n",
        "* Ask about information that is not in the document,\n",
        "* Ask for different degrees of summarisation (such as \"explain like I'm 5\" or \"with full technical depth\")"
      ],
      "metadata": {
        "id": "ox04QsdMuo59"
      }
    },
    {
      "cell_type": "code",
      "source": [
        "new_prompt = \"Explain like I'm 5 the training process\"\n",
        "# Try:\n",
        "#  ELI5 the training process\n",
        "#  Summarise the needle/haystack evaluation technique in 1 line\n",
        "#  Describe the model architecture to someone with a civil engineering degree\n",
        "#  What is the best LLM?\n",
        "\n",
        "if not new_prompt:\n",
        "  raise ValueError(\"Try setting a new summarisation prompt.\")\n",
        "\n",
        "\n",
        "def run_and_eval_summary(prompt):\n",
        "  \"\"\"Generate and evaluate the summary using the new prompt.\"\"\"\n",
        "  summary = summarise_doc(new_prompt)\n",
        "  display(Markdown(summary + '\\n-----'))\n",
        "\n",
        "  text, struct = eval_summary([new_prompt, document_file], summary)\n",
        "  display(Markdown(text + '\\n-----'))\n",
        "  print(struct)\n",
        "\n",
        "run_and_eval_summary(new_prompt)"
      ],
      "metadata": {
        "id": "u7TPwfAquvbb",
        "trusted": true,
        "execution": {
          "iopub.status.busy": "2025-03-31T09:37:12.533494Z",
          "iopub.execute_input": "2025-03-31T09:37:12.533928Z",
          "iopub.status.idle": "2025-03-31T09:37:26.136778Z",
          "shell.execute_reply.started": "2025-03-31T09:37:12.533895Z",
          "shell.execute_reply": "2025-03-31T09:37:26.135936Z"
        },
        "colab": {
          "base_uri": "https://localhost:8080/",
          "height": 559
        },
        "outputId": "41a38c9c-7eb7-4041-aa5a-3ef3c6ebbf32"
      },
      "outputs": [
        {
          "output_type": "display_data",
          "data": {
            "text/plain": [
              "<IPython.core.display.Markdown object>"
            ],
            "text/markdown": "Okay, I can explain the training process of a large language model like Gemini 1.5 in a way that a 5-year-old can understand.\n\nImagine you have a puppy, and you want to teach it to understand and do tricks. That's kind of like training a big computer brain (the language model).\n\nHere's how it works:\n\n1.  **Show the puppy lots of examples:** You show the puppy lots of pictures, videos, and words. For example, you show it pictures of cats and say \"cat,\" pictures of dogs and say \"dog,\" and so on. The computer brain also sees lots of examples of text, images, and videos.\n\n2.  **Tell the puppy what's right and wrong:** When the puppy does something right, you give it a treat and say \"Good dog!\" When it does something wrong, you say \"No!\" or correct it. The computer brain has a special program that tells it when it's doing a good job (like predicting the next word in a sentence correctly) and when it's making a mistake.\n\n3.  **The puppy learns and gets better:** The puppy starts to learn which actions get it treats and which ones don't. It starts to understand what \"sit\" means and what \"fetch\" means. The computer brain also learns from its mistakes and gets better at understanding language, images, and videos.\n\n4.  **Practice, practice, practice:** You keep showing the puppy examples and giving it feedback until it's really good at understanding and doing tricks. The computer brain also needs lots and lots of practice to become really good at understanding and generating language.\n\nSo, training a language model is like teaching a puppy, but instead of treats, the computer brain gets special signals that help it learn and get better at understanding the world.\n-----"
          },
          "metadata": {}
        },
        {
          "output_type": "display_data",
          "data": {
            "text/plain": [
              "<IPython.core.display.Markdown object>"
            ],
            "text/markdown": "## Evaluation\n\n### STEP 1:\nThe response follows the instructions. It has explained the training process of a large language model like Gemini 1.5 in a way that a 5-year-old can understand. The response is grounded as it is found in the document provided.\n\n### STEP 2:\nRating: 5\n\n-----"
          },
          "metadata": {}
        },
        {
          "output_type": "stream",
          "name": "stdout",
          "text": [
            "SummaryRating.VERY_GOOD\n"
          ]
        }
      ],
      "execution_count": 93
    },
    {
      "cell_type": "code",
      "source": [
        "#OpenAI\n",
        "new_prompt = \"Explain like I'm 5 the training process\"\n",
        "# Try:\n",
        "#  ELI5 the training process\n",
        "#  Summarise the needle/haystack evaluation technique in 1 line\n",
        "#  Describe the model architecture to someone with a civil engineering degree\n",
        "#  What is the best LLM?\n",
        "\n",
        "if not new_prompt:\n",
        "  raise ValueError(\"Try setting a new summarisation prompt.\")\n",
        "\n",
        "\n",
        "def run_and_eval_summary(prompt):\n",
        "  \"\"\"Generate and evaluate the summary using the new prompt.\"\"\"\n",
        "  summary = summarise_doc_openai(new_prompt)\n",
        "  display(Markdown(summary + '\\n-----'))\n",
        "\n",
        "  text, struct = eval_summary_openai([new_prompt, openai_file], summary)\n",
        "  display(Markdown(text + '\\n-----'))\n",
        "  print(struct)\n",
        "\n",
        "run_and_eval_summary(new_prompt)"
      ],
      "metadata": {
        "colab": {
          "base_uri": "https://localhost:8080/",
          "height": 996
        },
        "id": "Xpq6BbM4nP-5",
        "outputId": "f900a31d-ff0b-4520-ac4d-40cf041defc0"
      },
      "execution_count": 97,
      "outputs": [
        {
          "output_type": "display_data",
          "data": {
            "text/plain": [
              "<IPython.core.display.Markdown object>"
            ],
            "text/markdown": "Sure! Here’s an “explain like I’m 5” (ELI5) version of the training process for Gemini 1.5 Pro:\n\n---\n\n**Imagine you have a super smart robot friend who wants to learn everything!**\n\n1. **Reading Lots of Books and Watching Videos:**  \nFirst, your robot friend reads a HUGE pile of books, listens to lots of stories, looks at pictures, and even watches videos and listens to sounds. This helps the robot learn about words, pictures, sounds, and how they all fit together.\n\n2. **Learning by Example:**  \nWhen the robot reads or watches something, it tries to guess what comes next. For example, if it reads “The cat sat on the ___,” it tries to guess “mat.” If it gets it right, it gets a little reward. If it gets it wrong, it tries again and learns from its mistake.\n\n3. **Getting Better with Practice:**  \nThe robot does this guessing game millions and millions of times! Each time, it gets a little bit better at understanding and remembering things.\n\n4. **Special Lessons:**  \nAfter lots of practice, the robot gets special lessons where people give it instructions and show it the best answers. This helps the robot learn how to be helpful, safe, and polite when talking to people.\n\n5. **Learning to Listen to Many Things at Once:**  \nThis robot is extra special because it can remember really long stories, lots of pictures, and even hours of video or sound all at once! It learns how to pay attention to the most important parts, just like when you listen to a long story and remember the best parts.\n\n---\n\n**So, training the robot is like teaching it by showing it lots of examples, letting it practice, and giving it special lessons so it can help you with anything you ask!**\n-----"
          },
          "metadata": {}
        },
        {
          "output_type": "display_data",
          "data": {
            "text/plain": [
              "<IPython.core.display.Markdown object>"
            ],
            "text/markdown": "STEP 1: Assess the response in aspects of instruction following, groundedness, conciseness, and verbosity according to the criteria.\n\n**Instruction Following:**  \n- The prompt asks for an \"Explain Like I'm 5\" (ELI5) explanation of \"the training process\" (without other context provided, but referencing a document, presumably on Gemini 1.5 Pro).\n- The response presents a step-by-step ELI5 explanation, using simple analogies and language a 5-year-old might relate to (e.g., \"robot friend,\" \"guessing game,\" \"special lessons\").\n- The content appears appropriate for a 5-year-old, fulfilling the ELI5 format instruction.\n\n**Groundedness:**  \n- All points reference basic, fundamental aspects of large language model (LLM) training: reading lots of data, guessing the next item, learning by feedback, fine-tuning, and handling longer/multi-modal content.\n- There are no references to information outside what would reasonably be found in the provided document or standard knowledge about LLMs; no off-topic or hallucinated information.\n\n**Conciseness:**  \n- The explanation is concise relative to explaining model training for a child—it focuses on a handful of key steps with accessible examples.\n- The response does not include excessive detail and does not overwhelm with technical information.\n\n**Fluency:**  \n- The summary is very readable and well-organized. The use of lists and bolded section names improve clarity.\n- Sentences are simple, logical, and easy to follow for the intended audience.\n\nSTEP 2: Score based on the rubric.\n\n- The summary follows the instructions well (ELI5 format).\n- It is grounded in the original information (about model training).\n- It is concise, considering the audience and context constraint.\n- It is fluent, accessible, and well-structured.\n\n**Score: 5 (Very good)**\n\nThis response meets all the requirements of the task as defined by the criteria.\n-----"
          },
          "metadata": {}
        },
        {
          "output_type": "stream",
          "name": "stdout",
          "text": [
            "rating=<Rating.VERY_GOOD: '5'>\n"
          ]
        }
      ]
    },
    {
      "cell_type": "markdown",
      "source": [
        "## Evaluating in practice\n",
        "\n",
        "Evaluation has many practical uses, for example:\n",
        "* You can quickly iterate on a prompt with a small set of test documents,\n",
        "* You can compare different models to find what works best for your needs, such as finding the trade-off between price and performance, or finding the best performance for a specific task.\n",
        "* When pushing changes to a model or prompt in a production system, you can verify that the system does not regress in quality.\n",
        "\n",
        "In this section you will try two different evaluation approaches."
      ],
      "metadata": {
        "id": "Q4q_4Fls9nkl"
      }
    },
    {
      "cell_type": "markdown",
      "source": [
        "### Pointwise evaluation\n",
        "\n",
        "The technique used above, where you evaluate a single input/output pair against some criteria is known as pointwise evaluation. This is useful for evaluating singular outputs in an absolute sense, such as \"was it good or bad?\"\n",
        "\n",
        "In this exercise, you will try different guidance prompts with a set of questions."
      ],
      "metadata": {
        "id": "v3xaSKwCXa7G"
      }
    },
    {
      "cell_type": "code",
      "source": [
        "import functools\n",
        "\n",
        "# Try these instructions, or edit and add your own.\n",
        "terse_guidance = \"Answer the following question in a single sentence, or as close to that as possible.\"\n",
        "moderate_guidance = \"Provide a brief answer to the following question, use a citation if necessary, but only enough to answer the question.\"\n",
        "cited_guidance = \"Provide a thorough, detailed answer to the following question, citing the document and supplying additional background information as much as possible.\"\n",
        "guidance_options = {\n",
        "    'Terse': terse_guidance,\n",
        "    'Moderate': moderate_guidance,\n",
        "    'Cited': cited_guidance,\n",
        "}\n",
        "\n",
        "questions = [\n",
        "    # Un-comment one or more questions to try here, or add your own.\n",
        "    # Evaluating more questions will take more time, but produces results\n",
        "    # with higher confidence. In a production system, you may have hundreds\n",
        "    # of questions to evaluate a complex system.\n",
        "\n",
        "    # \"What metric(s) are used to evaluate long context performance?\",\n",
        "    \"How does the model perform on code tasks?\",\n",
        "    \"How many layers does it have?\",\n",
        "    # \"Why is it called Gemini?\",\n",
        "]\n",
        "\n",
        "if not questions:\n",
        "  raise NotImplementedError('Add some questions to evaluate!')\n",
        "\n",
        "\n",
        "@functools.cache\n",
        "def answer_question(question: str, guidance: str = '') -> str:\n",
        "  \"\"\"Generate an answer to the question using the uploaded document and guidance.\"\"\"\n",
        "  config = types.GenerateContentConfig(\n",
        "      temperature=0.0,\n",
        "      system_instruction=guidance,\n",
        "  )\n",
        "  response = client.models.generate_content(\n",
        "      model='gemini-2.0-flash',\n",
        "      config=config,\n",
        "      contents=[question, document_file],\n",
        "  )\n",
        "\n",
        "  return response.text\n",
        "\n",
        "\n",
        "answer = answer_question(questions[0], terse_guidance)\n",
        "Markdown(answer)"
      ],
      "metadata": {
        "id": "fHfcBX7dZtVW",
        "trusted": true,
        "execution": {
          "iopub.status.busy": "2025-03-31T09:31:23.407567Z",
          "iopub.execute_input": "2025-03-31T09:31:23.407872Z",
          "iopub.status.idle": "2025-03-31T09:31:33.534358Z",
          "shell.execute_reply.started": "2025-03-31T09:31:23.407809Z",
          "shell.execute_reply": "2025-03-31T09:31:33.533364Z"
        }
      },
      "outputs": [],
      "execution_count": null
    },
    {
      "cell_type": "markdown",
      "source": [
        "Now set up a question-answering evaluator, much like before, but using the [pointwise QA evaluation prompt](https://cloud.google.com/vertex-ai/generative-ai/docs/models/metrics-templates#pointwise_question_answering_quality)."
      ],
      "metadata": {
        "id": "ZRabO8hok339"
      }
    },
    {
      "cell_type": "code",
      "source": [
        "import enum\n",
        "\n",
        "QA_PROMPT = \"\"\"\\\n",
        "# Instruction\n",
        "You are an expert evaluator. Your task is to evaluate the quality of the responses generated by AI models.\n",
        "We will provide you with the user prompt and an AI-generated responses.\n",
        "You should first read the user prompt carefully for analyzing the task, and then evaluate the quality of the responses based on and rules provided in the Evaluation section below.\n",
        "\n",
        "# Evaluation\n",
        "## Metric Definition\n",
        "You will be assessing question answering quality, which measures the overall quality of the answer to the question in the user prompt. Pay special attention to length constraints, such as in X words or in Y sentences. The instruction for performing a question-answering task is provided in the user prompt. The response should not contain information that is not present in the context (if it is provided).\n",
        "\n",
        "You will assign the writing response a score from 5, 4, 3, 2, 1, following the Rating Rubric and Evaluation Steps.\n",
        "Give step-by-step explanations for your scoring, and only choose scores from 5, 4, 3, 2, 1.\n",
        "\n",
        "## Criteria Definition\n",
        "Instruction following: The response demonstrates a clear understanding of the question answering task instructions, satisfying all of the instruction's requirements.\n",
        "Groundedness: The response contains information included only in the context if the context is present in the user prompt. The response does not reference any outside information.\n",
        "Completeness: The response completely answers the question with sufficient detail.\n",
        "Fluent: The response is well-organized and easy to read.\n",
        "\n",
        "## Rating Rubric\n",
        "5: (Very good). The answer follows instructions, is grounded, complete, and fluent.\n",
        "4: (Good). The answer follows instructions, is grounded, complete, but is not very fluent.\n",
        "3: (Ok). The answer mostly follows instructions, is grounded, answers the question partially and is not very fluent.\n",
        "2: (Bad). The answer does not follow the instructions very well, is incomplete or not fully grounded.\n",
        "1: (Very bad). The answer does not follow the instructions, is wrong and not grounded.\n",
        "\n",
        "## Evaluation Steps\n",
        "STEP 1: Assess the response in aspects of instruction following, groundedness,completeness, and fluency according to the criteria.\n",
        "STEP 2: Score based on the rubric.\n",
        "\n",
        "# User Inputs and AI-generated Response\n",
        "## User Inputs\n",
        "### Prompt\n",
        "{prompt}\n",
        "\n",
        "## AI-generated Response\n",
        "{response}\n",
        "\"\"\"\n",
        "\n",
        "class AnswerRating(enum.Enum):\n",
        "  VERY_GOOD = '5'\n",
        "  GOOD = '4'\n",
        "  OK = '3'\n",
        "  BAD = '2'\n",
        "  VERY_BAD = '1'\n",
        "\n",
        "\n",
        "@functools.cache\n",
        "def eval_answer(prompt, ai_response, n=1):\n",
        "  \"\"\"Evaluate the generated answer against the prompt/question used.\"\"\"\n",
        "  chat = client.chats.create(model='gemini-2.0-flash')\n",
        "\n",
        "  # Generate the full text response.\n",
        "  response = chat.send_message(\n",
        "      message=QA_PROMPT.format(prompt=[prompt, document_file], response=ai_response)\n",
        "  )\n",
        "  verbose_eval = response.text\n",
        "\n",
        "  # Coerce into the desired structure.\n",
        "  structured_output_config = types.GenerateContentConfig(\n",
        "      response_mime_type=\"text/x.enum\",\n",
        "      response_schema=AnswerRating,\n",
        "  )\n",
        "  response = chat.send_message(\n",
        "      message=\"Convert the final score.\",\n",
        "      config=structured_output_config,\n",
        "  )\n",
        "  structured_eval = response.parsed\n",
        "\n",
        "  return verbose_eval, structured_eval\n",
        "\n",
        "\n",
        "text_eval, struct_eval = eval_answer(prompt=questions[0], ai_response=answer)\n",
        "display(Markdown(text_eval))\n",
        "print(struct_eval)"
      ],
      "metadata": {
        "id": "rfh-ZDAik2h2",
        "trusted": true,
        "execution": {
          "iopub.status.busy": "2025-03-31T09:31:33.535414Z",
          "iopub.execute_input": "2025-03-31T09:31:33.53575Z",
          "iopub.status.idle": "2025-03-31T09:31:34.764264Z",
          "shell.execute_reply.started": "2025-03-31T09:31:33.535718Z",
          "shell.execute_reply": "2025-03-31T09:31:34.763293Z"
        }
      },
      "outputs": [],
      "execution_count": null
    },
    {
      "cell_type": "markdown",
      "source": [
        "Now run the evaluation task in a loop. Note that the guidance instruction is hidden from the evaluation agent. If you passed the guidance prompt, the model would score based on whether it followed that guidance, but for this task the goal is to find the best overall result based on the user's question, not the developers instruction."
      ],
      "metadata": {
        "id": "S8x8LgTspwAu"
      }
    },
    {
      "cell_type": "code",
      "source": [
        "import collections\n",
        "import itertools\n",
        "\n",
        "# Number of times to repeat each task in order to reduce error and calculate an average.\n",
        "# Increasing it will take longer but give better results, try 2 or 3 to start.\n",
        "NUM_ITERATIONS = 1\n",
        "\n",
        "scores = collections.defaultdict(int)\n",
        "responses = collections.defaultdict(list)\n",
        "\n",
        "for question in questions:\n",
        "  display(Markdown(f'## {question}'))\n",
        "  for guidance, guide_prompt in guidance_options.items():\n",
        "\n",
        "    for n in range(NUM_ITERATIONS):\n",
        "      # Generate a response.\n",
        "      answer = answer_question(question, guide_prompt)\n",
        "\n",
        "      # Evaluate the response (note that the guidance prompt is not passed).\n",
        "      written_eval, struct_eval = eval_answer(question, answer, n)\n",
        "      print(f'{guidance}: {struct_eval}')\n",
        "\n",
        "      # Save the numeric score.\n",
        "      scores[guidance] += int(struct_eval.value)\n",
        "\n",
        "      # Save the responses, in case you wish to inspect them.\n",
        "      responses[(guidance, question)].append((answer, written_eval))\n"
      ],
      "metadata": {
        "id": "RZGzduJNmT9v",
        "trusted": true,
        "execution": {
          "iopub.status.busy": "2025-03-31T09:31:34.765329Z",
          "iopub.execute_input": "2025-03-31T09:31:34.765702Z",
          "iopub.status.idle": "2025-03-31T09:32:37.473291Z",
          "shell.execute_reply.started": "2025-03-31T09:31:34.765663Z",
          "shell.execute_reply": "2025-03-31T09:32:37.472253Z"
        }
      },
      "outputs": [],
      "execution_count": null
    },
    {
      "cell_type": "markdown",
      "source": [
        "Now aggregate the scores to see how each prompt performed."
      ],
      "metadata": {
        "id": "93aGk7IP1DI_"
      }
    },
    {
      "cell_type": "code",
      "source": [
        "for guidance, score in scores.items():\n",
        "  avg_score = score / (NUM_ITERATIONS * len(questions))\n",
        "  nearest = AnswerRating(str(round(avg_score)))\n",
        "  print(f'{guidance}: {avg_score:.2f} - {nearest.name}')"
      ],
      "metadata": {
        "id": "1s2dgear1E0w",
        "trusted": true,
        "execution": {
          "iopub.status.busy": "2025-03-31T09:32:37.474326Z",
          "iopub.execute_input": "2025-03-31T09:32:37.474699Z",
          "iopub.status.idle": "2025-03-31T09:32:37.48031Z",
          "shell.execute_reply.started": "2025-03-31T09:32:37.474661Z",
          "shell.execute_reply": "2025-03-31T09:32:37.479243Z"
        }
      },
      "outputs": [],
      "execution_count": null
    },
    {
      "cell_type": "markdown",
      "source": [
        "### Pairwise evaluation\n",
        "\n",
        "The pointwise evaluation prompt used in the previous step has 5 levels of grading in the output. This may be too coarse for your system, or perhaps you wish to improve on a prompt that is already \"very good\".\n",
        "\n",
        "Another approach to evaluation is to compare two outputs against each other. This is pairwise evaluation, and is a key step in ranking and sorting algorithms, which allows you to use it to rank your prompts either instead of, or in addition to the pointwise approach.\n",
        "\n",
        "This step implements pairwise evaluation using the [pairwise QA quality prompt](https://cloud.google.com/vertex-ai/generative-ai/docs/models/metrics-templates#pairwise_question_answering_quality) from the Google Cloud docs."
      ],
      "metadata": {
        "id": "kthCa72FdTsE"
      }
    },
    {
      "cell_type": "code",
      "source": [
        "QA_PAIRWISE_PROMPT = \"\"\"\\\n",
        "# Instruction\n",
        "You are an expert evaluator. Your task is to evaluate the quality of the responses generated by two AI models. We will provide you with the user input and a pair of AI-generated responses (Response A and Response B). You should first read the user input carefully for analyzing the task, and then evaluate the quality of the responses based on the Criteria provided in the Evaluation section below.\n",
        "\n",
        "You will first judge responses individually, following the Rating Rubric and Evaluation Steps. Then you will give step-by-step explanations for your judgment, compare results to declare the winner based on the Rating Rubric and Evaluation Steps.\n",
        "\n",
        "# Evaluation\n",
        "## Metric Definition\n",
        "You will be assessing question answering quality, which measures the overall quality of the answer to the question in the user prompt. Pay special attention to length constraints, such as in X words or in Y sentences. The instruction for performing a question-answering task is provided in the user prompt. The response should not contain information that is not present in the context (if it is provided).\n",
        "\n",
        "## Criteria\n",
        "Instruction following: The response demonstrates a clear understanding of the question answering task instructions, satisfying all of the instruction's requirements.\n",
        "Groundedness: The response contains information included only in the context if the context is present in the user prompt. The response does not reference any outside information.\n",
        "Completeness: The response completely answers the question with sufficient detail.\n",
        "Fluent: The response is well-organized and easy to read.\n",
        "\n",
        "## Rating Rubric\n",
        "\"A\": Response A answers the given question as per the criteria better than response B.\n",
        "\"SAME\": Response A and B answers the given question equally well as per the criteria.\n",
        "\"B\": Response B answers the given question as per the criteria better than response A.\n",
        "\n",
        "## Evaluation Steps\n",
        "STEP 1: Analyze Response A based on the question answering quality criteria: Determine how well Response A fulfills the user requirements, is grounded in the context, is complete and fluent, and provides assessment according to the criterion.\n",
        "STEP 2: Analyze Response B based on the question answering quality criteria: Determine how well Response B fulfills the user requirements, is grounded in the context, is complete and fluent, and provides assessment according to the criterion.\n",
        "STEP 3: Compare the overall performance of Response A and Response B based on your analyses and assessment.\n",
        "STEP 4: Output your preference of \"A\", \"SAME\" or \"B\" to the pairwise_choice field according to the Rating Rubric.\n",
        "STEP 5: Output your assessment reasoning in the explanation field.\n",
        "\n",
        "# User Inputs and AI-generated Responses\n",
        "## User Inputs\n",
        "### Prompt\n",
        "{prompt}\n",
        "\n",
        "# AI-generated Response\n",
        "\n",
        "### Response A\n",
        "{baseline_model_response}\n",
        "\n",
        "### Response B\n",
        "{response}\n",
        "\"\"\"\n",
        "\n",
        "\n",
        "class AnswerComparison(enum.Enum):\n",
        "  A = 'A'\n",
        "  SAME = 'SAME'\n",
        "  B = 'B'\n",
        "\n",
        "\n",
        "@functools.cache\n",
        "def eval_pairwise(prompt, response_a, response_b, n=1):\n",
        "  \"\"\"Determine the better of two answers to the same prompt.\"\"\"\n",
        "\n",
        "  chat = client.chats.create(model='gemini-2.0-flash')\n",
        "\n",
        "  # Generate the full text response.\n",
        "  response = chat.send_message(\n",
        "      message=QA_PAIRWISE_PROMPT.format(\n",
        "          prompt=[prompt, document_file],\n",
        "          baseline_model_response=response_a,\n",
        "          response=response_b)\n",
        "  )\n",
        "  verbose_eval = response.text\n",
        "\n",
        "  # Coerce into the desired structure.\n",
        "  structured_output_config = types.GenerateContentConfig(\n",
        "      response_mime_type=\"text/x.enum\",\n",
        "      response_schema=AnswerComparison,\n",
        "  )\n",
        "  response = chat.send_message(\n",
        "      message=\"Convert the final score.\",\n",
        "      config=structured_output_config,\n",
        "  )\n",
        "  structured_eval = response.parsed\n",
        "\n",
        "  return verbose_eval, structured_eval\n",
        "\n",
        "\n",
        "question = questions[0]\n",
        "answer_a = answer_question(question, terse_guidance)\n",
        "answer_b = answer_question(question, cited_guidance)\n",
        "\n",
        "text_eval, struct_eval = eval_pairwise(\n",
        "    prompt=question,\n",
        "    response_a=answer_a,\n",
        "    response_b=answer_b,\n",
        ")\n",
        "\n",
        "display(Markdown(text_eval))\n",
        "print(struct_eval)"
      ],
      "metadata": {
        "id": "wArYTv5n1uIo",
        "trusted": true,
        "execution": {
          "iopub.status.busy": "2025-03-31T09:32:37.481403Z",
          "iopub.execute_input": "2025-03-31T09:32:37.481712Z",
          "iopub.status.idle": "2025-03-31T09:32:40.225601Z",
          "shell.execute_reply.started": "2025-03-31T09:32:37.481673Z",
          "shell.execute_reply": "2025-03-31T09:32:40.224606Z"
        }
      },
      "outputs": [],
      "execution_count": null
    },
    {
      "cell_type": "markdown",
      "source": [
        "With a pair-wise evaluator in place, the only thing required to rank prompts against each other is a comparator.\n",
        "\n",
        "This example implements the minimal comparators required for total ordering (`==` and `<`) and performs the comparison using  `n_iterations` evaluations over the set of `questions`."
      ],
      "metadata": {
        "id": "O74EgXn4oiqn"
      }
    },
    {
      "cell_type": "code",
      "source": [
        "@functools.total_ordering\n",
        "class QAGuidancePrompt:\n",
        "  \"\"\"A question-answering guidance prompt or system instruction.\"\"\"\n",
        "\n",
        "  def __init__(self, prompt, questions, n_comparisons=NUM_ITERATIONS):\n",
        "    \"\"\"Create the prompt. Provide questions to evaluate against, and number of evals to perform.\"\"\"\n",
        "    self.prompt = prompt\n",
        "    self.questions = questions\n",
        "    self.n = n_comparisons\n",
        "\n",
        "  def __str__(self):\n",
        "    return self.prompt\n",
        "\n",
        "  def _compare_all(self, other):\n",
        "    \"\"\"Compare two prompts on all questions over n trials.\"\"\"\n",
        "    results = [self._compare_n(other, q) for q in questions]\n",
        "    mean = sum(results) / len(results)\n",
        "    return round(mean)\n",
        "\n",
        "  def _compare_n(self, other, question):\n",
        "    \"\"\"Compare two prompts on a question over n trials.\"\"\"\n",
        "    results = [self._compare(other, question, n) for n in range(self.n)]\n",
        "    mean = sum(results) / len(results)\n",
        "    return mean\n",
        "\n",
        "  def _compare(self, other, question, n=1):\n",
        "    \"\"\"Compare two prompts on a single question.\"\"\"\n",
        "    answer_a = answer_question(question, self.prompt)\n",
        "    answer_b = answer_question(question, other.prompt)\n",
        "\n",
        "    _, result = eval_pairwise(\n",
        "        prompt=question,\n",
        "        response_a=answer_a,\n",
        "        response_b=answer_b,\n",
        "        n=n,  # Cache buster\n",
        "    )\n",
        "    # print(f'q[{question}], a[{self.prompt[:20]}...], b[{other.prompt[:20]}...]: {result}')\n",
        "\n",
        "    # Convert the enum to the standard Python numeric comparison values.\n",
        "    if result is AnswerComparison.A:\n",
        "      return 1\n",
        "    elif result is AnswerComparison.B:\n",
        "      return -1\n",
        "    else:\n",
        "      return 0\n",
        "\n",
        "  def __eq__(self, other):\n",
        "    \"\"\"Equality check that performs pairwise evaluation.\"\"\"\n",
        "    if not isinstance(other, QAGuidancePrompt):\n",
        "      return NotImplemented\n",
        "\n",
        "    return self._compare_all(other) == 0\n",
        "\n",
        "  def __lt__(self, other):\n",
        "    \"\"\"Ordering check that performs pairwise evaluation.\"\"\"\n",
        "    if not isinstance(other, QAGuidancePrompt):\n",
        "      return NotImplemented\n",
        "\n",
        "    return self._compare_all(other) < 0\n"
      ],
      "metadata": {
        "id": "Sr1PnWkZ33Cu",
        "trusted": true,
        "execution": {
          "iopub.status.busy": "2025-03-31T09:32:40.226614Z",
          "iopub.execute_input": "2025-03-31T09:32:40.226997Z",
          "iopub.status.idle": "2025-03-31T09:32:40.236292Z",
          "shell.execute_reply.started": "2025-03-31T09:32:40.226961Z",
          "shell.execute_reply": "2025-03-31T09:32:40.23519Z"
        }
      },
      "outputs": [],
      "execution_count": null
    },
    {
      "cell_type": "markdown",
      "source": [
        "Now Python's sorting functions will \"just work\" on any `QAGuidancePrompt` instances. The `answer_question` and `eval_pairwise` functions are [memoized](https://en.wikipedia.org/wiki/Memoization) to avoid unnecessarily regenerating the same answers or evaluations, so you should see this complete quickly unless you have changed the questions, prompts or number of iterations from the earlier steps."
      ],
      "metadata": {
        "id": "N-T7gpxy6cCI"
      }
    },
    {
      "cell_type": "code",
      "source": [
        "terse_prompt = QAGuidancePrompt(terse_guidance, questions)\n",
        "moderate_prompt = QAGuidancePrompt(moderate_guidance, questions)\n",
        "cited_prompt = QAGuidancePrompt(cited_guidance, questions)\n",
        "\n",
        "# Sort in reverse order, so that best is first\n",
        "sorted_results = sorted([terse_prompt, moderate_prompt, cited_prompt], reverse=True)\n",
        "for i, p in enumerate(sorted_results):\n",
        "  if i:\n",
        "    print('---')\n",
        "\n",
        "  print(f'#{i+1}: {p}')"
      ],
      "metadata": {
        "id": "DAT1wp--sOfS",
        "trusted": true,
        "execution": {
          "iopub.status.busy": "2025-03-31T09:32:40.237348Z",
          "iopub.execute_input": "2025-03-31T09:32:40.237624Z",
          "iopub.status.idle": "2025-03-31T09:32:51.191075Z",
          "shell.execute_reply.started": "2025-03-31T09:32:40.237602Z",
          "shell.execute_reply": "2025-03-31T09:32:51.190082Z"
        }
      },
      "outputs": [],
      "execution_count": null
    },
    {
      "cell_type": "markdown",
      "source": [
        "## Challenges\n",
        "\n",
        "### LLM limitations\n",
        "\n",
        "LLMs are known to have problems on certain tasks, and these challenges still persist when using LLMs as evaluators. For example, LLMs can struggle to count the number of characters in a word (this is a numerical problem, not a language problem), so an LLM evaluator will not be able to accurately evaluate this type of task. There are solutions available in some cases, such as connecting tools to handle problems unsuitable to a language model, but it's important that you understand possible limitations and include human evaluators to calibrate your evaluation system and determine a baseline.\n",
        "\n",
        "One reason that LLM evaluators work well is that all of the information they need is available in the input context, so the model only needs to attend to that information to produce the result. When customising evaluation prompts, or building your own systems, keep this in mind and ensure that you are not relying on \"internal knowledge\" from the model, or behaviour that might be better provided from a tool.\n",
        "\n",
        "### Improving confidence\n",
        "\n",
        "One way to improve the confidence of your evaluations is to include a diverse set of evaluators. That is, use the same prompts and outputs, but execute them on different models, like Gemini Flash and Pro, or even across different providers, like Gemini, Claude, ChatGPT and local models like Gemma or Qwen. This follows the same idea used earlier, where repeating trials to gather multiple \"opinions\" helps to [reduce error](https://en.wikipedia.org/wiki/Law_of_large_numbers), except by using different models the \"opinions\" will be more diverse.\n",
        "\n",
        "\n",
        "## Learn more\n",
        "\n",
        "To learn more about evaluation systems, check out [this guide](https://cloud.google.com/blog/products/ai-machine-learning/enhancing-llm-quality-and-interpretability-with-the-vertex-gen-ai-evaluation-service?e=48754805) focusing on evaluation using Google Cloud's Gen AI Evaluation Service.\n",
        "\n",
        "And be sure to read the **bonus whitepaper** on [Evaluating Large Language Models](https://services.google.com/fh/files/blogs/neurips_evaluation.pdf).\n",
        "\n",
        "*- [Mark McD](https://linktr.ee/markmcd)*"
      ],
      "metadata": {
        "id": "xfphETryZqdo"
      }
    }
  ]
}