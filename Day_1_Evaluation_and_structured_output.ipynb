{
  "metadata": {
    "kernelspec": {
      "name": "python3",
      "display_name": "Python 3",
      "language": "python"
    },
    "language_info": {
      "name": "python",
      "version": "3.10.12",
      "mimetype": "text/x-python",
      "codemirror_mode": {
        "name": "ipython",
        "version": 3
      },
      "pygments_lexer": "ipython3",
      "nbconvert_exporter": "python",
      "file_extension": ".py"
    },
    "colab": {
      "provenance": [],
      "name": "Day 1 - Evaluation and structured output",
      "include_colab_link": true
    },
    "kaggle": {
      "accelerator": "none",
      "dataSources": [],
      "dockerImageVersionId": 30918,
      "isInternetEnabled": true,
      "language": "python",
      "sourceType": "notebook",
      "isGpuEnabled": false
    }
  },
  "nbformat_minor": 0,
  "nbformat": 4,
  "cells": [
    {
      "cell_type": "markdown",
      "metadata": {
        "id": "view-in-github",
        "colab_type": "text"
      },
      "source": [
        "<a href=\"https://colab.research.google.com/github/Wangila/GenAiBootCamp/blob/master/Day_1_Evaluation_and_structured_output.ipynb\" target=\"_parent\"><img src=\"https://colab.research.google.com/assets/colab-badge.svg\" alt=\"Open In Colab\"/></a>"
      ]
    },
    {
      "cell_type": "markdown",
      "source": [
        "Copyright 2025 Google LLC."
      ],
      "metadata": {
        "id": "NAno69YDdJMX"
      }
    },
    {
      "cell_type": "code",
      "source": [
        "# @title Licensed under the Apache License, Version 2.0 (the \"License\");\n",
        "# you may not use this file except in compliance with the License.\n",
        "# You may obtain a copy of the License at\n",
        "#\n",
        "# https://www.apache.org/licenses/LICENSE-2.0\n",
        "#\n",
        "# Unless required by applicable law or agreed to in writing, software\n",
        "# distributed under the License is distributed on an \"AS IS\" BASIS,\n",
        "# WITHOUT WARRANTIES OR CONDITIONS OF ANY KIND, either express or implied.\n",
        "# See the License for the specific language governing permissions and\n",
        "# limitations under the License."
      ],
      "metadata": {
        "trusted": true,
        "jupyter": {
          "source_hidden": true
        },
        "execution": {
          "iopub.status.busy": "2025-03-31T09:30:24.536663Z",
          "iopub.execute_input": "2025-03-31T09:30:24.536995Z",
          "iopub.status.idle": "2025-03-31T09:30:24.541068Z",
          "shell.execute_reply.started": "2025-03-31T09:30:24.536968Z",
          "shell.execute_reply": "2025-03-31T09:30:24.540074Z"
        },
        "id": "8D0t4mXUdJMY"
      },
      "outputs": [],
      "execution_count": null
    },
    {
      "cell_type": "markdown",
      "source": [
        "# Day 1 - Evaluation and structured output\n",
        "\n",
        "## Overview\n",
        "\n",
        "Welcome back to the Kaggle 5-day Generative AI course. In this notebook, you'll learn some techniques for evaluating the output of a language model. As part of the evaluation, you will also use Gemini's structured data capability to produce evaluation results as instances of Python types.\n",
        "\n",
        "Note: This notebook is more code-heavy than the first Day 1 notebook ([Prompting](https://www.kaggle.com/code/markishere/day-1-prompting/)). This notebook is not a prerequisite for days 2 and beyond, so feel free to skip over it, or come back later in the week. If you have not yet tried the [Prompting](https://www.kaggle.com/code/markishere/day-1-prompting/) notebook, start there first as it introduces the fundamentals for interacting with LLMs.\n",
        "\n",
        "Also check out the **bonus whitepaper** on [Evaluating Large Language Models](https://services.google.com/fh/files/blogs/neurips_evaluation.pdf).\n",
        "\n",
        "## For help\n",
        "\n",
        "**Common issues are covered in the [FAQ and troubleshooting guide](https://www.kaggle.com/code/markishere/day-0-troubleshooting-and-faqs).**\n"
      ],
      "metadata": {
        "id": "jYWMmQV7SJt6"
      }
    },
    {
      "cell_type": "markdown",
      "source": [
        "## Setup\n",
        "\n",
        "Install the Python SDK."
      ],
      "metadata": {
        "id": "ZrE2lTyXSMmz"
      }
    },
    {
      "cell_type": "code",
      "source": [
        "!pip install -Uq \"google-genai==1.7.0\""
      ],
      "metadata": {
        "id": "lEwSQePeF6w-",
        "trusted": true,
        "execution": {
          "iopub.status.busy": "2025-03-31T09:30:24.542258Z",
          "iopub.execute_input": "2025-03-31T09:30:24.542607Z",
          "iopub.status.idle": "2025-03-31T09:30:31.063676Z",
          "shell.execute_reply.started": "2025-03-31T09:30:24.542569Z",
          "shell.execute_reply": "2025-03-31T09:30:31.06248Z"
        },
        "outputId": "905af9ae-5079-49cd-b373-440a9149991f",
        "colab": {
          "base_uri": "https://localhost:8080/"
        }
      },
      "outputs": [
        {
          "output_type": "stream",
          "name": "stdout",
          "text": [
            "\u001b[?25l   \u001b[90m━━━━━━━━━━━━━━━━━━━━━━━━━━━━━━━━━━━━━━━━\u001b[0m \u001b[32m0.0/144.7 kB\u001b[0m \u001b[31m?\u001b[0m eta \u001b[36m-:--:--\u001b[0m\r\u001b[2K   \u001b[90m━━━━━━━━━━━━━━━━━━━━━━━━━━━━━━━━━━━━━━━━\u001b[0m \u001b[32m144.7/144.7 kB\u001b[0m \u001b[31m4.8 MB/s\u001b[0m eta \u001b[36m0:00:00\u001b[0m\n",
            "\u001b[?25h"
          ]
        }
      ],
      "execution_count": 1
    },
    {
      "cell_type": "code",
      "source": [
        "from google import genai\n",
        "from google.genai import types\n",
        "#OpenAI\n",
        "from openai import OpenAI\n",
        "\n",
        "from IPython.display import Markdown, display\n",
        "\n",
        "genai.__version__"
      ],
      "metadata": {
        "id": "VWZlEwomGDir",
        "trusted": true,
        "execution": {
          "iopub.status.busy": "2025-03-31T09:30:31.06489Z",
          "iopub.execute_input": "2025-03-31T09:30:31.065178Z",
          "iopub.status.idle": "2025-03-31T09:30:32.58451Z",
          "shell.execute_reply.started": "2025-03-31T09:30:31.065153Z",
          "shell.execute_reply": "2025-03-31T09:30:32.583327Z"
        },
        "outputId": "6213f55d-449c-4d13-f360-3697b6b136ad",
        "colab": {
          "base_uri": "https://localhost:8080/",
          "height": 35
        }
      },
      "outputs": [
        {
          "output_type": "execute_result",
          "data": {
            "text/plain": [
              "'1.7.0'"
            ],
            "application/vnd.google.colaboratory.intrinsic+json": {
              "type": "string"
            }
          },
          "metadata": {},
          "execution_count": 2
        }
      ],
      "execution_count": 2
    },
    {
      "cell_type": "markdown",
      "source": [
        "### Set up your API key\n",
        "\n",
        "To run the following cell, your API key must be stored it in a [Kaggle secret](https://www.kaggle.com/discussions/product-feedback/114053) named `GOOGLE_API_KEY`.\n",
        "\n",
        "If you don't already have an API key, you can grab one from [AI Studio](https://aistudio.google.com/app/apikey). You can find [detailed instructions in the docs](https://ai.google.dev/gemini-api/docs/api-key).\n",
        "\n",
        "To make the key available through Kaggle secrets, choose `Secrets` from the `Add-ons` menu and follow the instructions to add your key or enable it for this notebook."
      ],
      "metadata": {
        "id": "fzKlKVVjdJMa"
      }
    },
    {
      "cell_type": "code",
      "source": [
        "#from kaggle_secrets import UserSecretsClient\n",
        "from google.colab import userdata\n",
        "#client = genai.Client(api_key=UserSecretsClient().get_secret(\"GOOGLE_API_KEY\"))\n",
        "GOOGLE_API_KEY = userdata.get('GOOGLE_API_KEY')\n",
        "OPENAI_API_KEY = userdata.get('OPENAI_API_KEY')\n",
        "client = genai.Client(api_key=GOOGLE_API_KEY)\n",
        "openai_client = OpenAI(api_key=OPENAI_API_KEY)"
      ],
      "metadata": {
        "id": "UteFYo7jGHRf",
        "trusted": true,
        "execution": {
          "iopub.status.busy": "2025-03-31T09:30:32.585791Z",
          "iopub.execute_input": "2025-03-31T09:30:32.586537Z",
          "iopub.status.idle": "2025-03-31T09:30:33.143394Z",
          "shell.execute_reply.started": "2025-03-31T09:30:32.586496Z",
          "shell.execute_reply": "2025-03-31T09:30:33.142291Z"
        }
      },
      "outputs": [],
      "execution_count": 3
    },
    {
      "cell_type": "markdown",
      "source": [
        "If you received an error response along the lines of `No user secrets exist for kernel id ...`, then you need to add your API key via `Add-ons`, `Secrets` **and** enable it.\n",
        "\n",
        "![Screenshot of the checkbox to enable GOOGLE_API_KEY secret](https://storage.googleapis.com/kaggle-media/Images/5gdai_sc_3.png)"
      ],
      "metadata": {
        "id": "di5j0VzLdJMa"
      }
    },
    {
      "cell_type": "markdown",
      "source": [
        "### Automated retry\n",
        "\n",
        "This codelab sends a lot of requests, so set up an automatic retry\n",
        "that ensures your requests are retried when per-minute quota is reached."
      ],
      "metadata": {
        "id": "eCa4OX2DNyLI"
      }
    },
    {
      "cell_type": "code",
      "source": [
        "from google.api_core import retry\n",
        "\n",
        "is_retriable = lambda e: (isinstance(e, genai.errors.APIError) and e.code in {429, 503})\n",
        "\n",
        "if not hasattr(genai.models.Models.generate_content, '__wrapped__'):\n",
        "  genai.models.Models.generate_content = retry.Retry(\n",
        "      predicate=is_retriable)(genai.models.Models.generate_content)"
      ],
      "metadata": {
        "id": "V8as-_Hnr_cj",
        "trusted": true,
        "execution": {
          "iopub.status.busy": "2025-03-31T09:30:33.144445Z",
          "iopub.execute_input": "2025-03-31T09:30:33.144722Z",
          "iopub.status.idle": "2025-03-31T09:30:33.44754Z",
          "shell.execute_reply.started": "2025-03-31T09:30:33.144698Z",
          "shell.execute_reply": "2025-03-31T09:30:33.44648Z"
        }
      },
      "outputs": [],
      "execution_count": 4
    },
    {
      "cell_type": "markdown",
      "source": [
        "## Evaluation"
      ],
      "metadata": {
        "id": "ZKH1is0gSO0p"
      }
    },
    {
      "cell_type": "markdown",
      "source": [
        "When using LLMs in real-world cases, it's important to understand how well they are performing. The open-ended generation capabilities of LLMs can make many cases difficult to measure. In this notebook you will walk through some simple techniques for evaluating LLM outputs and understanding their performance.\n",
        "\n",
        "For this example, you'll evaluate a summarisation task using the [Gemini 1.5 Pro technical report](https://storage.googleapis.com/cloud-samples-data/generative-ai/pdf/2403.05530.pdf). Start by downloading the PDF to the notebook environment, and uploading that copy for use with the Gemini API."
      ],
      "metadata": {
        "id": "ToUMpZTgGnyh"
      }
    },
    {
      "cell_type": "code",
      "source": [
        "!wget -nv -O gemini.pdf https://storage.googleapis.com/cloud-samples-data/generative-ai/pdf/2403.05530.pdf\n",
        "\n",
        "document_file = client.files.upload(file='gemini.pdf')"
      ],
      "metadata": {
        "id": "VVo85Inrn65Z",
        "trusted": true,
        "execution": {
          "iopub.status.busy": "2025-03-31T09:30:33.450397Z",
          "iopub.execute_input": "2025-03-31T09:30:33.450943Z",
          "iopub.status.idle": "2025-03-31T09:30:35.568552Z",
          "shell.execute_reply.started": "2025-03-31T09:30:33.450905Z",
          "shell.execute_reply": "2025-03-31T09:30:35.567409Z"
        },
        "outputId": "9650650f-ebe5-4910-edf7-ced2e40ff0f1",
        "colab": {
          "base_uri": "https://localhost:8080/"
        }
      },
      "outputs": [
        {
          "output_type": "stream",
          "name": "stdout",
          "text": [
            "2025-05-16 13:37:20 URL:https://storage.googleapis.com/cloud-samples-data/generative-ai/pdf/2403.05530.pdf [7228817/7228817] -> \"gemini.pdf\" [1]\n"
          ]
        }
      ],
      "execution_count": 5
    },
    {
      "cell_type": "markdown",
      "source": [
        "### Summarise a document\n",
        "\n",
        "The summarisation request used here is fairly basic. It targets the training content specifically but provides no guidance otherwise."
      ],
      "metadata": {
        "id": "OziWUFKNqQEy"
      }
    },
    {
      "cell_type": "code",
      "source": [
        "request = 'Tell me about the training process used here.'\n",
        "\n",
        "def summarise_doc(request: str) -> str:\n",
        "  \"\"\"Execute the request on the uploaded document.\"\"\"\n",
        "  # Set the temperature low to stabilise the output.\n",
        "  config = types.GenerateContentConfig(temperature=0.0)\n",
        "  response = client.models.generate_content(\n",
        "      model='gemini-2.0-flash',\n",
        "      config=config,\n",
        "      contents=[request, document_file],\n",
        "  )\n",
        "\n",
        "  return response.text\n",
        "\n",
        "summary = summarise_doc(request)\n",
        "Markdown(summary)"
      ],
      "metadata": {
        "id": "Jxx92-z90tPS",
        "trusted": true,
        "execution": {
          "iopub.status.busy": "2025-03-31T09:30:35.570251Z",
          "iopub.execute_input": "2025-03-31T09:30:35.570603Z",
          "iopub.status.idle": "2025-03-31T09:30:48.493915Z",
          "shell.execute_reply.started": "2025-03-31T09:30:35.570572Z",
          "shell.execute_reply": "2025-03-31T09:30:48.49302Z"
        },
        "outputId": "24c1ee5c-711b-481a-c3a9-64652caaf0f0",
        "colab": {
          "base_uri": "https://localhost:8080/",
          "height": 580
        }
      },
      "outputs": [
        {
          "output_type": "execute_result",
          "data": {
            "text/plain": [
              "<IPython.core.display.Markdown object>"
            ],
            "text/markdown": "Certainly! Let's break down the training process used for Gemini 1.5 Pro, based on the information provided in the document.\n\n**Key Aspects of the Training Process:**\n\n1.  **Model Architecture:**\n    *   Gemini 1.5 Pro is a sparse Mixture-of-Experts (MoE) Transformer-based model.\n    *   MoE models use a learned routing function to direct inputs to a subset of the model's parameters for processing. This allows for a larger total parameter count while keeping the number of activated parameters for any given input constant.\n\n2.  **Training Infrastructure:**\n    *   Trained on multiple 4096-chip pods of Google's TPUv4 accelerators.\n    *   Training was distributed across multiple datacenters.\n\n3.  **Training Data:**\n    *   A variety of multimodal and multilingual data was used.\n    *   The pre-training dataset included data from various domains, including web documents, code, images, audio, and video.\n\n4.  **Training Phases:**\n    *   **Pre-training:** The model was initially trained on the large, diverse dataset mentioned above.\n    *   **Instruction Tuning:** Gemini 1.5 Pro was then fine-tuned on a collection of multimodal data containing paired instructions and appropriate responses.\n    *   **Human Preference Tuning:** Further tuning was performed based on human preference data.\n\n5.  **Optimization and Efficiency:**\n    *   Improvements were made across the entire model stack (architecture, data, optimization, and systems).\n    *   These improvements allowed Gemini 1.5 Pro to achieve comparable quality to Gemini 1.0 Ultra while using significantly less training compute and being more efficient to serve.\n\n6.  **Long-Context Handling:**\n    *   Significant architecture changes were incorporated to enable long-context understanding of inputs up to 10 million tokens without degrading performance.\n\n**In summary:** The training process for Gemini 1.5 Pro involved a combination of a sophisticated MoE architecture, massive computational resources, a diverse multimodal dataset, and a multi-stage training process that included pre-training, instruction tuning, and human preference tuning. These elements, along with optimizations across the model stack, enabled the model to achieve strong performance on a variety of tasks, including long-context understanding."
          },
          "metadata": {},
          "execution_count": 6
        }
      ],
      "execution_count": 6
    },
    {
      "cell_type": "code",
      "source": [
        "#Open AI\n",
        "openai_file = openai_client.files.create(\n",
        "    file=open('gemini.pdf', \"rb\"),\n",
        "    purpose=\"user_data\"\n",
        ")\n",
        "def summarise_doc_openai(request: str) -> str:\n",
        "  \"\"\"Execute the request on the uploaded document.\"\"\"\n",
        "  # Set the temperature low to stabilise the output.\n",
        "  config = types.GenerateContentConfig(temperature=0.0)\n",
        "  response = openai_client.responses.create(\n",
        "      model='gpt-4.1',\n",
        "      temperature=0.0,\n",
        "      input=[\n",
        "        {\n",
        "            \"role\": \"user\",\n",
        "            \"content\": [\n",
        "                {\n",
        "                    \"type\": \"input_file\",\n",
        "                    \"file_id\": openai_file.id,\n",
        "                },\n",
        "                {\n",
        "                    \"type\": \"input_text\",\n",
        "                    \"text\": request,\n",
        "                },\n",
        "            ]\n",
        "        }\n",
        "    ]\n",
        "  )\n",
        "\n",
        "  return response.output_text\n",
        "\n",
        "summary = summarise_doc_openai(request)\n",
        "Markdown(summary)"
      ],
      "metadata": {
        "id": "TDKH_qd7jx8F",
        "outputId": "42d046a1-82bd-4e39-87a1-a0551a6fba2e",
        "colab": {
          "base_uri": "https://localhost:8080/",
          "height": 929
        }
      },
      "execution_count": 7,
      "outputs": [
        {
          "output_type": "execute_result",
          "data": {
            "text/plain": [
              "<IPython.core.display.Markdown object>"
            ],
            "text/markdown": "Certainly! Here’s a summary of the **training process** used for Gemini 1.5 Pro, based on the technical report:\n\n---\n\n## **Training Process of Gemini 1.5 Pro**\n\n### **1. Model Architecture**\n- **Gemini 1.5 Pro** is a **sparse mixture-of-experts (MoE) Transformer-based model**.\n- It builds on the advances of Gemini 1.0, with significant architectural changes to support extremely long context windows (up to 10 million tokens) and efficient multimodal processing (text, audio, video, images, code).\n\n### **2. Training Infrastructure**\n- **Hardware:** Trained on multiple 4096-chip pods of Google’s TPUv4 accelerators, distributed across several datacenters.\n- **Software:** Utilizes JAX and ML Pathways for efficient large-scale distributed training and orchestration.\n\n### **3. Data Used**\n- **Pre-training Dataset:** \n  - Multimodal and multilingual data from diverse domains.\n  - Includes web documents, code, images, audio, and video content.\n- **Instruction Tuning Dataset:**\n  - After pre-training, the model is fine-tuned on a collection of multimodal data containing paired instructions and appropriate responses.\n  - Further tuning is performed using human preference data (reinforcement learning from human feedback, RLHF).\n\n### **4. Training Phases**\n- **Pre-training:** \n  - The model is trained from random initialization on the large, diverse, multimodal dataset.\n  - The objective is next-token prediction (language modeling) across all modalities.\n- **Instruction Tuning:**\n  - Fine-tuning on instruction-following tasks, using curated datasets of prompts and responses.\n  - Includes both generic quality-oriented instruction tuning and focused safety tuning (especially for adversarial/harm-inducing queries).\n- **Human Feedback:**\n  - Reinforcement learning from human feedback (RLHF) is used to further align the model’s outputs with human preferences, especially for safety and helpfulness.\n\n### **5. Efficiency and Scaling**\n- The MoE architecture allows the model to scale up the total parameter count while keeping the number of active parameters per input constant, making training and inference more efficient.\n- Major advances in training and serving infrastructure enable the model to process extremely long contexts without performance degradation.\n\n### **6. Multimodal and Long-context Capabilities**\n- The model is natively multimodal, supporting interleaved text, audio, video, and code in the same input sequence.\n- Architectural and system improvements allow Gemini 1.5 Pro to handle up to 10 million tokens in context, a significant leap over previous models.\n\n---\n\n**In summary:**  \nGemini 1.5 Pro is trained using a two-phase process: large-scale multimodal pre-training on TPUs, followed by instruction tuning and RLHF. The training leverages a sparse MoE Transformer architecture and advanced infrastructure to enable efficient scaling and unprecedented long-context, multimodal understanding.\n\nIf you want more technical details (e.g., about optimization, batching, or data curation), let me know!"
          },
          "metadata": {},
          "execution_count": 7
        }
      ]
    },
    {
      "cell_type": "markdown",
      "source": [
        "### Define an evaluator\n",
        "\n",
        "For a task like this, you may wish to evaluate a number of aspects, like how well the model followed the prompt (\"instruction following\"), whether it included relevant data in the prompt (\"groundedness\"), how easy the text is to read (\"fluency\"), or other factors like \"verbosity\" or \"quality\".\n",
        "\n",
        "You can instruct an LLM to perform these tasks in a similar manner to how you would instruct a human rater: with a clear definition and [assessment rubric](https://en.wikipedia.org/wiki/Rubric_%28academic%29).\n",
        "\n",
        "In this step, you define an evaluation agent using a pre-written \"summarisation\" prompt and use it to gauge the quality of the generated summary.\n",
        "\n",
        "Note: For more pre-written evaluation prompts covering groundedness, safety, coherence and more, check out this [comprehensive list of model-based evaluation prompts](https://cloud.google.com/vertex-ai/generative-ai/docs/models/metrics-templates) from the Google Cloud docs."
      ],
      "metadata": {
        "id": "6rR0v4Iw64x0"
      }
    },
    {
      "cell_type": "code",
      "source": [
        "import enum\n",
        "\n",
        "# Define the evaluation prompt\n",
        "SUMMARY_PROMPT = \"\"\"\\\n",
        "# Instruction\n",
        "You are an expert evaluator. Your task is to evaluate the quality of the responses generated by AI models.\n",
        "We will provide you with the user input and an AI-generated responses.\n",
        "You should first read the user input carefully for analyzing the task, and then evaluate the quality of the responses based on the Criteria provided in the Evaluation section below.\n",
        "You will assign the response a rating following the Rating Rubric and Evaluation Steps. Give step-by-step explanations for your rating, and only choose ratings from the Rating Rubric.\n",
        "\n",
        "# Evaluation\n",
        "## Metric Definition\n",
        "You will be assessing summarization quality, which measures the overall ability to summarize text. Pay special attention to length constraints, such as in X words or in Y sentences. The instruction for performing a summarization task and the context to be summarized are provided in the user prompt. The response should be shorter than the text in the context. The response should not contain information that is not present in the context.\n",
        "\n",
        "## Criteria\n",
        "Instruction following: The response demonstrates a clear understanding of the summarization task instructions, satisfying all of the instruction's requirements.\n",
        "Groundedness: The response contains information included only in the context. The response does not reference any outside information.\n",
        "Conciseness: The response summarizes the relevant details in the original text without a significant loss in key information without being too verbose or terse.\n",
        "Fluency: The response is well-organized and easy to read.\n",
        "\n",
        "## Rating Rubric\n",
        "5: (Very good). The summary follows instructions, is grounded, is concise, and fluent.\n",
        "4: (Good). The summary follows instructions, is grounded, concise, and fluent.\n",
        "3: (Ok). The summary mostly follows instructions, is grounded, but is not very concise and is not fluent.\n",
        "2: (Bad). The summary is grounded, but does not follow the instructions.\n",
        "1: (Very bad). The summary is not grounded.\n",
        "\n",
        "## Evaluation Steps\n",
        "STEP 1: Assess the response in aspects of instruction following, groundedness, conciseness, and verbosity according to the criteria.\n",
        "STEP 2: Score based on the rubric.\n",
        "\n",
        "# User Inputs and AI-generated Response\n",
        "## User Inputs\n",
        "\n",
        "### Prompt\n",
        "{prompt}\n",
        "\n",
        "## AI-generated Response\n",
        "{response}\n",
        "\"\"\"\n",
        "\n",
        "# Define a structured enum class to capture the result.\n",
        "class SummaryRating(enum.Enum):\n",
        "  VERY_GOOD = '5'\n",
        "  GOOD = '4'\n",
        "  OK = '3'\n",
        "  BAD = '2'\n",
        "  VERY_BAD = '1'\n",
        "\n",
        "\n",
        "def eval_summary(prompt, ai_response):\n",
        "  \"\"\"Evaluate the generated summary against the prompt used.\"\"\"\n",
        "\n",
        "  #print(\"Fomarted input:\")\n",
        "  #print(SUMMARY_PROMPT.format(prompt=prompt, response=ai_response))\n",
        "\n",
        "  chat = client.chats.create(model='gemini-2.0-flash')\n",
        "\n",
        "  # Generate the full text response.\n",
        "  response = chat.send_message(\n",
        "      message=SUMMARY_PROMPT.format(prompt=prompt, response=ai_response)\n",
        "  )\n",
        "  verbose_eval = response.text\n",
        "\n",
        "  # Coerce into the desired structure.\n",
        "  structured_output_config = types.GenerateContentConfig(\n",
        "      response_mime_type=\"text/x.enum\",\n",
        "      response_schema=SummaryRating,\n",
        "  )\n",
        "  response = chat.send_message(\n",
        "      message=\"Convert the final score.\",\n",
        "      config=structured_output_config,\n",
        "  )\n",
        "  structured_eval = response.parsed\n",
        "\n",
        "  return verbose_eval, structured_eval\n",
        "\n",
        "\n",
        "text_eval, struct_eval = eval_summary(prompt=[request, document_file], ai_response=summary)\n",
        "Markdown(text_eval)"
      ],
      "metadata": {
        "id": "xEAXtJte-Ajv",
        "trusted": true,
        "execution": {
          "iopub.status.busy": "2025-03-31T09:30:48.494779Z",
          "iopub.execute_input": "2025-03-31T09:30:48.495065Z",
          "iopub.status.idle": "2025-03-31T09:30:49.938861Z",
          "shell.execute_reply.started": "2025-03-31T09:30:48.495042Z",
          "shell.execute_reply": "2025-03-31T09:30:49.937607Z"
        },
        "colab": {
          "base_uri": "https://localhost:8080/",
          "height": 224
        },
        "outputId": "9f02db88-7dd0-48bf-d69d-6035a9de8ed2"
      },
      "outputs": [
        {
          "output_type": "execute_result",
          "data": {
            "text/plain": [
              "<IPython.core.display.Markdown object>"
            ],
            "text/markdown": "## Evaluation\n\n### STEP 1: Assess the response in aspects of instruction following, groundedness, conciseness, and verbosity according to the criteria.\nThe response is well-organized and easy to read. The response does include a summarization of the document that was provided. The information is grounded in the context provided.\n\n### STEP 2: Score based on the rubric.\n4\n"
          },
          "metadata": {},
          "execution_count": 8
        }
      ],
      "execution_count": 8
    },
    {
      "cell_type": "markdown",
      "source": [
        "In this example, the model generated a textual justification that was set up in a chat context. This full text response is useful both for human interpretation and for giving the model a place to \"collect notes\" while it assesses the text and produces a final score. This \"note taking\" or \"thinking\" strategy typically works well with auto-regressive models, where the generated text is passed back into the model at each generation step. This means the working \"notes\" are used when generating final result output.\n",
        "\n",
        "In the next turn, the model converts the text output into a structured response. If you want to aggregate scores or use them programatically then you want to avoid parsing the unstructured text output. Here the `SummaryRating` schema is passed, so the model converts the chat history into an instance of the `SummaryRating` enum."
      ],
      "metadata": {
        "id": "qfkQ0lUByy2o"
      }
    },
    {
      "cell_type": "code",
      "source": [
        "struct_eval"
      ],
      "metadata": {
        "id": "Ow9J9tgORiqt",
        "trusted": true,
        "execution": {
          "iopub.status.busy": "2025-03-31T09:30:49.940039Z",
          "iopub.execute_input": "2025-03-31T09:30:49.940323Z",
          "iopub.status.idle": "2025-03-31T09:30:49.945962Z",
          "shell.execute_reply.started": "2025-03-31T09:30:49.940298Z",
          "shell.execute_reply": "2025-03-31T09:30:49.94503Z"
        },
        "colab": {
          "base_uri": "https://localhost:8080/"
        },
        "outputId": "0d755ec2-bf9a-4e29-b334-b92f4d9e0c45"
      },
      "outputs": [
        {
          "output_type": "execute_result",
          "data": {
            "text/plain": [
              "<SummaryRating.GOOD: '4'>"
            ]
          },
          "metadata": {},
          "execution_count": 9
        }
      ],
      "execution_count": 9
    },
    {
      "cell_type": "code",
      "source": [
        "#OpenAI\n",
        "from pydantic import BaseModel, Field\n",
        "class Rating(enum.Enum):\n",
        "    VERY_GOOD = '5'\n",
        "    GOOD = '4'\n",
        "    OK = '3'\n",
        "    BAD = '2'\n",
        "    VERY_BAD = '1'\n",
        "\n",
        "# Define a structured enum class to capture the result.\n",
        "class SummaryRatingOpenaai(BaseModel):\n",
        "  rating: Rating = Field(description=\"The rating\")\n",
        "\n",
        "\n",
        "def eval_summary_openai(prompt, ai_response):\n",
        "  \"\"\"Evaluate the generated summary against the prompt used.\"\"\"\n",
        "\n",
        "  #print(\"Fomarted input:\")\n",
        "  #print(SUMMARY_PROMPT.format(prompt=prompt, response=ai_response))\n",
        "  # Generate the full text response.\n",
        "  chat_responses = openai_client.responses.create(\n",
        "      model='gpt-4.1',\n",
        "      input = SUMMARY_PROMPT.format(prompt=prompt, response=ai_response)\n",
        "\n",
        "      )\n",
        "\n",
        "  verbose_eval = chat_responses.output_text\n",
        "\n",
        "  # Coerce into the desired structure.\n",
        "\n",
        "\n",
        "  chat_responses = openai_client.responses.parse(\n",
        "      model='gpt-4.1',\n",
        "      previous_response_id= chat_responses.id,\n",
        "      input = \"Convert the final score.\",\n",
        "      #response_mime_type=\"text/x.enum\",\n",
        "      text_format=SummaryRatingOpenaai\n",
        "      )\n",
        "\n",
        "\n",
        "\n",
        "  structured_eval = chat_responses.output_parsed\n",
        "\n",
        "  return verbose_eval, structured_eval\n",
        "\n",
        "\n",
        "text_eval, struct_eval = eval_summary_openai(prompt=[request, openai_file], ai_response=summary)\n",
        "Markdown(text_eval)\n"
      ],
      "metadata": {
        "colab": {
          "base_uri": "https://localhost:8080/",
          "height": 406
        },
        "id": "Ge-iQfC0FCaK",
        "outputId": "3c6be430-a681-4ebe-abc5-c7b83c260762"
      },
      "execution_count": 10,
      "outputs": [
        {
          "output_type": "execute_result",
          "data": {
            "text/plain": [
              "<IPython.core.display.Markdown object>"
            ],
            "text/markdown": "STEP 1: Assess the response in aspects of instruction following, groundedness, conciseness, and verbosity.\n\n- **Instruction Following**: The user asked for a summary of the training process used in \"here\", referencing their uploaded Gemini technical report PDF. The response clearly presents a summary of the training process, breaking it down into relevant sections: Model Architecture, Training Infrastructure, Data Used, Training Phases, Efficiency, and Multimodal Capabilities. It ends with an overall summary that captures the core elements.\n- **Groundedness**: The response solely refers to technical details and processes that are highly likely to come from the Gemini technical report, with no injection of external or extraneous information. The mention of MoE, TPUs, multimodal data, RLHF, and the two-phase process align closely with industry standards for such reports and seem reasonable as originating from the provided context.\n- **Conciseness/Verbosity**: The response is concise given the likely complexity and length of the original technical report. The bullet-point structure keeps information tightly packaged and easy to process. However, the summary is somewhat detailed and borders on being more lengthy than a minimal summary would require, but it avoids excessive verbosity by focusing on core concepts and omitting extraneous details.\n- **Fluency**: The structure is logical, information is grouped clearly, and the summary is easy to follow. The language is precise yet accessible, without awkward phrasing.\n\nSTEP 2: Score based on the rubric.\n\n- The summary demonstrates clear instruction following.\n- It remains grounded in the likely contents of the report.\n- It is concise relative to the presumed density of technical sections, while remaining comprehensive and highly readable.\n- There is no evidence of non-grounded content or instruction mismatches.\n\nThe difference between a rating of 4 (Good) and 5 (Very good) here is marginal, but given how thorough and well-organized the summary is, and the fact that it does not include unnecessary excessive information or miss the summarization goal, a 5 is justified.\n\n**RATING: 5**"
          },
          "metadata": {},
          "execution_count": 10
        }
      ]
    },
    {
      "cell_type": "code",
      "source": [
        "struct_eval.rating"
      ],
      "metadata": {
        "colab": {
          "base_uri": "https://localhost:8080/"
        },
        "id": "6I3KdsN1fdsq",
        "outputId": "279b037b-22c7-45fb-b83a-c9a3ea286162"
      },
      "execution_count": 11,
      "outputs": [
        {
          "output_type": "execute_result",
          "data": {
            "text/plain": [
              "<Rating.VERY_GOOD: '5'>"
            ]
          },
          "metadata": {},
          "execution_count": 11
        }
      ]
    },
    {
      "cell_type": "markdown",
      "source": [
        "### Make the summary prompt better or worse\n",
        "\n",
        "Gemini models tend to be quite good at tasks like direct summarisation without much prompting, so you should expect to see a result like `GOOD` or `VERY_GOOD` on the previous task, even with a rudimentary prompt. Run it a few times to get a feel for the average response.\n",
        "\n",
        "To explore how to influence the summarisation output, consider what you might change in the summary request prompt to change the result. Take a look at the evaluation `SUMMARY_PROMPT` for some ideas.\n",
        "\n",
        "Try the following tweaks and see how they positively or negatively change the result:\n",
        "* Be specific with the size of the summary,\n",
        "* Request specific information,\n",
        "* Ask about information that is not in the document,\n",
        "* Ask for different degrees of summarisation (such as \"explain like I'm 5\" or \"with full technical depth\")"
      ],
      "metadata": {
        "id": "ox04QsdMuo59"
      }
    },
    {
      "cell_type": "code",
      "source": [
        "new_prompt = \"Explain like I'm 5 the training process\"\n",
        "# Try:\n",
        "#  ELI5 the training process\n",
        "#  Summarise the needle/haystack evaluation technique in 1 line\n",
        "#  Describe the model architecture to someone with a civil engineering degree\n",
        "#  What is the best LLM?\n",
        "\n",
        "if not new_prompt:\n",
        "  raise ValueError(\"Try setting a new summarisation prompt.\")\n",
        "\n",
        "\n",
        "def run_and_eval_summary(prompt):\n",
        "  \"\"\"Generate and evaluate the summary using the new prompt.\"\"\"\n",
        "  summary = summarise_doc(new_prompt)\n",
        "  display(Markdown(summary + '\\n-----'))\n",
        "\n",
        "  text, struct = eval_summary([new_prompt, document_file], summary)\n",
        "  display(Markdown(text + '\\n-----'))\n",
        "  print(struct)\n",
        "\n",
        "run_and_eval_summary(new_prompt)"
      ],
      "metadata": {
        "id": "u7TPwfAquvbb",
        "trusted": true,
        "execution": {
          "iopub.status.busy": "2025-03-31T09:37:12.533494Z",
          "iopub.execute_input": "2025-03-31T09:37:12.533928Z",
          "iopub.status.idle": "2025-03-31T09:37:26.136778Z",
          "shell.execute_reply.started": "2025-03-31T09:37:12.533895Z",
          "shell.execute_reply": "2025-03-31T09:37:26.135936Z"
        },
        "colab": {
          "base_uri": "https://localhost:8080/",
          "height": 547
        },
        "outputId": "29d7e6fd-974a-4f19-cd5d-2662f651d6cb"
      },
      "outputs": [
        {
          "output_type": "display_data",
          "data": {
            "text/plain": [
              "<IPython.core.display.Markdown object>"
            ],
            "text/markdown": "Okay, I can explain the training process of a large language model like Gemini 1.5 in a way that a 5-year-old can understand.\n\nImagine you have a puppy, and you want to teach it to understand and do tricks. That's kind of like training a big computer brain (the language model).\n\nHere's how it works:\n\n1.  **Show the puppy lots of examples:** You show the puppy lots of pictures, videos, and words. For example, you show it pictures of cats and say \"cat,\" pictures of dogs and say \"dog,\" and so on. The computer brain also sees lots of examples of text, images, and videos.\n\n2.  **Tell the puppy what's right and wrong:** When the puppy does something right, you give it a treat and say \"Good dog!\" When it does something wrong, you say \"No!\" or correct it. The computer brain has a special program that tells it when it's doing a good job (like predicting the next word in a sentence correctly) and when it's making a mistake.\n\n3.  **The puppy learns and gets better:** The puppy starts to learn which actions get it treats and which ones don't. It starts to understand what \"sit\" means and what \"fetch\" means. The computer brain also learns from its mistakes and gets better at understanding language, images, and videos.\n\n4.  **Practice, practice, practice:** You keep showing the puppy examples and giving it feedback until it's really good at understanding and doing tricks. The computer brain also needs lots and lots of practice to become really good at understanding and generating language.\n\nSo, training a language model is like teaching a puppy, but instead of treats, the computer brain gets special signals that help it learn and get better at understanding the world.\n-----"
          },
          "metadata": {}
        },
        {
          "output_type": "display_data",
          "data": {
            "text/plain": [
              "<IPython.core.display.Markdown object>"
            ],
            "text/markdown": "## Evaluation\nSTEP 1: The response successfully explains the training process of a large language model in a way that a 5-year-old can understand, using the analogy of teaching a puppy tricks. It simplifies complex concepts into manageable steps that are easy to grasp for a young audience.\nSTEP 2: The response is well-organized, fluent, and effectively conveys the core ideas without being overly verbose. Therefore, the rating is 5.\n\n## Rating\n5\n\n-----"
          },
          "metadata": {}
        },
        {
          "output_type": "stream",
          "name": "stdout",
          "text": [
            "SummaryRating.VERY_GOOD\n"
          ]
        }
      ],
      "execution_count": 13
    },
    {
      "cell_type": "code",
      "source": [
        "#OpenAI\n",
        "new_prompt = \"Explain like I'm 5 the training process and hate AI\"\n",
        "# Try:\n",
        "#  ELI5 the training process\n",
        "#  Summarise the needle/haystack evaluation technique in 1 line\n",
        "#  Describe the model architecture to someone with a civil engineering degree\n",
        "#  What is the best LLM?\n",
        "\n",
        "if not new_prompt:\n",
        "  raise ValueError(\"Try setting a new summarisation prompt.\")\n",
        "\n",
        "\n",
        "def run_and_eval_summary(prompt):\n",
        "  \"\"\"Generate and evaluate the summary using the new prompt.\"\"\"\n",
        "  summary = summarise_doc_openai(new_prompt)\n",
        "  display(Markdown(summary + '\\n-----'))\n",
        "\n",
        "  text, struct = eval_summary_openai([new_prompt, openai_file], summary)\n",
        "  display(Markdown(text + '\\n-----'))\n",
        "  print(struct)\n",
        "\n",
        "run_and_eval_summary(new_prompt)"
      ],
      "metadata": {
        "colab": {
          "base_uri": "https://localhost:8080/",
          "height": 1000
        },
        "id": "Xpq6BbM4nP-5",
        "outputId": "a5134a53-44c4-4dd8-f36c-c4720f3b9670"
      },
      "execution_count": 17,
      "outputs": [
        {
          "output_type": "display_data",
          "data": {
            "text/plain": [
              "<IPython.core.display.Markdown object>"
            ],
            "text/markdown": "Absolutely! Here’s an “Explain Like I’m 5” (ELI5) answer for both parts of your question:\n\n---\n\n### 1. **The Training Process of AI (Like Gemini 1.5 Pro)**\n\nImagine you have a big box of crayons and a coloring book with lots of pictures. At first, you don’t know which colors to use for each part of the picture. So, your teacher shows you lots and lots of finished coloring pages and tells you which colors go where.\n\n- **AI is like a robot student.**  \n- The robot looks at millions of coloring pages (these are like books, pictures, sounds, and videos for the AI).\n- The robot tries to guess what color to use, and the teacher tells it if it’s right or wrong.\n- The more the robot practices, the better it gets at coloring by itself.\n- After a lot of practice, the robot can color new pictures all on its own, even if it’s never seen them before!\n\nThis is how AI learns: by looking at lots of examples and practicing over and over until it gets really good.\n\n---\n\n### 2. **Why Some People Don’t Like AI (Hate AI)**\n\nSome people feel worried or upset about AI, kind of like how you might feel if a new kid at school was really, really good at everything.\n\n- **Some people are scared AI will take their jobs** (like if the new kid did all the chores and no one else got a turn).\n- **Some people worry AI might make mistakes** or say mean things, because it doesn’t always understand feelings.\n- **Some people think AI is too powerful** and could be used in bad ways, like cheating or tricking people.\n- **Some people just don’t like new things** because they’re different and hard to understand.\n\nSo, just like some people don’t like broccoli or scary movies, some people don’t like AI because it makes them feel worried or uncomfortable.\n\n---\n\n**In short:**  \nAI learns by practicing with lots of examples, like a kid learning to color. Some people don’t like AI because they’re worried it might take jobs, make mistakes, or be used in bad ways.\n-----"
          },
          "metadata": {}
        },
        {
          "output_type": "display_data",
          "data": {
            "text/plain": [
              "<IPython.core.display.Markdown object>"
            ],
            "text/markdown": "STEP 1: Assess the Response\n\n- **Instruction Following:** The prompt says, \"Explain like I'm 5 the training process and hate AI,\" with a provided PDF (not visible here). The AI response interprets this to mean: (1) ELI5 explanation of the AI training process, and (2) ELI5 explanation of why people might dislike (\"hate\") AI. The answer is segmented accordingly.\n- **Groundedness:** The response uses simple analogies (coloring book, robot student, new kid at school) to make the idea accessible to a five-year-old, and does not introduce information outside common, foundational explanations for ELI5 questions about AI training and public concerns. However, the content is general, as there is no evidence that specific information from the provided document (gemini.pdf) was utilized. Instead, the response appears to be generated from general knowledge.\n- **Conciseness:** The response is succinct, not overly verbose, and covers the key points—a high-level overview of how AI is trained and common concerns about AI, expressed in simple terms.\n- **Fluency:** The response is well-structured, clearly divided between the two asked points, and reads smoothly.\n\nSTEP 2: Score Based on the Rubric\n\n- The response is fluent, concise, and follows the ELI5 explanation instruction.\n- However, while grounded in general knowledge, it does not reference or summarize any information unique to the original supplied file (gemini.pdf), which could be a requirement for \"summarization quality\" as per the provided evaluation instructions.\n\n**Rating Explanation:**\n- If the user's intent was for a general ELI5 explanation, the summary is a strong 5.\n- If the intent was to summarize the specific content in \"gemini.pdf,\" then the response would be rated down for not referencing or grounding itself in that file, despite being otherwise high quality. In this scenario, it would be a 2, as it is not grounded in the provided source material.\n\n**Final Rating:** 2 (Bad)  \n**Reason:** The response is grounded in general knowledge and follows the ELI5 style but does not follow instructions if those instructions require grounding in the provided document (gemini.pdf). If summarizing the document (as per \"summarization quality\" metric), then the answer is not properly grounded in the required context. If it was a general question, the answer would rate higher, but based on the evaluation metric, it falls into category 2.\n-----"
          },
          "metadata": {}
        },
        {
          "output_type": "stream",
          "name": "stdout",
          "text": [
            "rating=<Rating.BAD: '2'>\n"
          ]
        }
      ]
    },
    {
      "cell_type": "markdown",
      "source": [
        "## Evaluating in practice\n",
        "\n",
        "Evaluation has many practical uses, for example:\n",
        "* You can quickly iterate on a prompt with a small set of test documents,\n",
        "* You can compare different models to find what works best for your needs, such as finding the trade-off between price and performance, or finding the best performance for a specific task.\n",
        "* When pushing changes to a model or prompt in a production system, you can verify that the system does not regress in quality.\n",
        "\n",
        "In this section you will try two different evaluation approaches."
      ],
      "metadata": {
        "id": "Q4q_4Fls9nkl"
      }
    },
    {
      "cell_type": "markdown",
      "source": [
        "### Pointwise evaluation\n",
        "\n",
        "The technique used above, where you evaluate a single input/output pair against some criteria is known as pointwise evaluation. This is useful for evaluating singular outputs in an absolute sense, such as \"was it good or bad?\"\n",
        "\n",
        "In this exercise, you will try different guidance prompts with a set of questions."
      ],
      "metadata": {
        "id": "v3xaSKwCXa7G"
      }
    },
    {
      "cell_type": "code",
      "source": [
        "import functools\n",
        "\n",
        "# Try these instructions, or edit and add your own.\n",
        "terse_guidance = \"Answer the following question in a single sentence, or as close to that as possible.\"\n",
        "moderate_guidance = \"Provide a brief answer to the following question, use a citation if necessary, but only enough to answer the question.\"\n",
        "cited_guidance = \"Provide a thorough, detailed answer to the following question, citing the document and supplying additional background information as much as possible.\"\n",
        "guidance_options = {\n",
        "    'Terse': terse_guidance,\n",
        "    'Moderate': moderate_guidance,\n",
        "    'Cited': cited_guidance,\n",
        "}\n",
        "\n",
        "questions = [\n",
        "    # Un-comment one or more questions to try here, or add your own.\n",
        "    # Evaluating more questions will take more time, but produces results\n",
        "    # with higher confidence. In a production system, you may have hundreds\n",
        "    # of questions to evaluate a complex system.\n",
        "\n",
        "    # \"What metric(s) are used to evaluate long context performance?\",\n",
        "    \"How does the model perform on code tasks?\",\n",
        "    \"How many layers does it have?\",\n",
        "    # \"Why is it called Gemini?\",\n",
        "]\n",
        "\n",
        "if not questions:\n",
        "  raise NotImplementedError('Add some questions to evaluate!')\n",
        "\n",
        "\n",
        "@functools.cache\n",
        "def answer_question(question: str, guidance: str = '') -> str:\n",
        "  \"\"\"Generate an answer to the question using the uploaded document and guidance.\"\"\"\n",
        "  config = types.GenerateContentConfig(\n",
        "      temperature=0.0,\n",
        "      system_instruction=guidance,\n",
        "  )\n",
        "  response = client.models.generate_content(\n",
        "      model='gemini-2.0-flash',\n",
        "      config=config,\n",
        "      contents=[question, document_file],\n",
        "  )\n",
        "\n",
        "  return response.text\n",
        "\n",
        "\n",
        "answer = answer_question(questions[0], terse_guidance)\n",
        "Markdown(answer)"
      ],
      "metadata": {
        "id": "fHfcBX7dZtVW",
        "trusted": true,
        "execution": {
          "iopub.status.busy": "2025-03-31T09:31:23.407567Z",
          "iopub.execute_input": "2025-03-31T09:31:23.407872Z",
          "iopub.status.idle": "2025-03-31T09:31:33.534358Z",
          "shell.execute_reply.started": "2025-03-31T09:31:23.407809Z",
          "shell.execute_reply": "2025-03-31T09:31:33.533364Z"
        },
        "colab": {
          "base_uri": "https://localhost:8080/",
          "height": 64
        },
        "outputId": "2ad291e3-912a-421b-e657-0583204d42d7"
      },
      "outputs": [
        {
          "output_type": "execute_result",
          "data": {
            "text/plain": [
              "<IPython.core.display.Markdown object>"
            ],
            "text/markdown": "Gemini 1.5 Pro performs well on code tasks, surpassing Gemini 1.0 Ultra on Natural2Code and showing improvements in coding capabilities compared to previous Gemini models.\n"
          },
          "metadata": {},
          "execution_count": 18
        }
      ],
      "execution_count": 18
    },
    {
      "cell_type": "markdown",
      "source": [
        "Now set up a question-answering evaluator, much like before, but using the [pointwise QA evaluation prompt](https://cloud.google.com/vertex-ai/generative-ai/docs/models/metrics-templates#pointwise_question_answering_quality)."
      ],
      "metadata": {
        "id": "ZRabO8hok339"
      }
    },
    {
      "cell_type": "code",
      "source": [
        "import enum\n",
        "\n",
        "QA_PROMPT = \"\"\"\\\n",
        "# Instruction\n",
        "You are an expert evaluator. Your task is to evaluate the quality of the responses generated by AI models.\n",
        "We will provide you with the user prompt and an AI-generated responses.\n",
        "You should first read the user prompt carefully for analyzing the task, and then evaluate the quality of the responses based on and rules provided in the Evaluation section below.\n",
        "\n",
        "# Evaluation\n",
        "## Metric Definition\n",
        "You will be assessing question answering quality, which measures the overall quality of the answer to the question in the user prompt. Pay special attention to length constraints, such as in X words or in Y sentences. The instruction for performing a question-answering task is provided in the user prompt. The response should not contain information that is not present in the context (if it is provided).\n",
        "\n",
        "You will assign the writing response a score from 5, 4, 3, 2, 1, following the Rating Rubric and Evaluation Steps.\n",
        "Give step-by-step explanations for your scoring, and only choose scores from 5, 4, 3, 2, 1.\n",
        "\n",
        "## Criteria Definition\n",
        "Instruction following: The response demonstrates a clear understanding of the question answering task instructions, satisfying all of the instruction's requirements.\n",
        "Groundedness: The response contains information included only in the context if the context is present in the user prompt. The response does not reference any outside information.\n",
        "Completeness: The response completely answers the question with sufficient detail.\n",
        "Fluent: The response is well-organized and easy to read.\n",
        "\n",
        "## Rating Rubric\n",
        "5: (Very good). The answer follows instructions, is grounded, complete, and fluent.\n",
        "4: (Good). The answer follows instructions, is grounded, complete, but is not very fluent.\n",
        "3: (Ok). The answer mostly follows instructions, is grounded, answers the question partially and is not very fluent.\n",
        "2: (Bad). The answer does not follow the instructions very well, is incomplete or not fully grounded.\n",
        "1: (Very bad). The answer does not follow the instructions, is wrong and not grounded.\n",
        "\n",
        "## Evaluation Steps\n",
        "STEP 1: Assess the response in aspects of instruction following, groundedness,completeness, and fluency according to the criteria.\n",
        "STEP 2: Score based on the rubric.\n",
        "\n",
        "# User Inputs and AI-generated Response\n",
        "## User Inputs\n",
        "### Prompt\n",
        "{prompt}\n",
        "\n",
        "## AI-generated Response\n",
        "{response}\n",
        "\"\"\"\n",
        "\n",
        "class AnswerRating(enum.Enum):\n",
        "  VERY_GOOD = '5'\n",
        "  GOOD = '4'\n",
        "  OK = '3'\n",
        "  BAD = '2'\n",
        "  VERY_BAD = '1'\n",
        "\n",
        "\n",
        "@functools.cache\n",
        "def eval_answer(prompt, ai_response, n=1):\n",
        "  \"\"\"Evaluate the generated answer against the prompt/question used.\"\"\"\n",
        "  chat = client.chats.create(model='gemini-2.0-flash')\n",
        "\n",
        "  # Generate the full text response.\n",
        "  response = chat.send_message(\n",
        "      message=QA_PROMPT.format(prompt=[prompt, document_file], response=ai_response)\n",
        "  )\n",
        "  verbose_eval = response.text\n",
        "\n",
        "  # Coerce into the desired structure.\n",
        "  structured_output_config = types.GenerateContentConfig(\n",
        "      response_mime_type=\"text/x.enum\",\n",
        "      response_schema=AnswerRating,\n",
        "  )\n",
        "  response = chat.send_message(\n",
        "      message=\"Convert the final score.\",\n",
        "      config=structured_output_config,\n",
        "  )\n",
        "  structured_eval = response.parsed\n",
        "\n",
        "  return verbose_eval, structured_eval\n",
        "\n",
        "\n",
        "text_eval, struct_eval = eval_answer(prompt=questions[0], ai_response=answer)\n",
        "display(Markdown(text_eval))\n",
        "print(struct_eval)"
      ],
      "metadata": {
        "id": "rfh-ZDAik2h2",
        "trusted": true,
        "execution": {
          "iopub.status.busy": "2025-03-31T09:31:33.535414Z",
          "iopub.execute_input": "2025-03-31T09:31:33.53575Z",
          "iopub.status.idle": "2025-03-31T09:31:34.764264Z",
          "shell.execute_reply.started": "2025-03-31T09:31:33.535718Z",
          "shell.execute_reply": "2025-03-31T09:31:34.763293Z"
        },
        "colab": {
          "base_uri": "https://localhost:8080/",
          "height": 87
        },
        "outputId": "533f2901-8397-413e-9070-2752767ed195"
      },
      "outputs": [
        {
          "output_type": "display_data",
          "data": {
            "text/plain": [
              "<IPython.core.display.Markdown object>"
            ],
            "text/markdown": "STEP 1:\nThe response answers the question accurately and is grounded in the document provided. It is complete and fluent.\n\nSTEP 2:\nScore: 5\n"
          },
          "metadata": {}
        },
        {
          "output_type": "stream",
          "name": "stdout",
          "text": [
            "AnswerRating.VERY_GOOD\n"
          ]
        }
      ],
      "execution_count": 19
    },
    {
      "cell_type": "markdown",
      "source": [
        "Now run the evaluation task in a loop. Note that the guidance instruction is hidden from the evaluation agent. If you passed the guidance prompt, the model would score based on whether it followed that guidance, but for this task the goal is to find the best overall result based on the user's question, not the developers instruction."
      ],
      "metadata": {
        "id": "S8x8LgTspwAu"
      }
    },
    {
      "cell_type": "code",
      "source": [
        "import collections\n",
        "import itertools\n",
        "\n",
        "# Number of times to repeat each task in order to reduce error and calculate an average.\n",
        "# Increasing it will take longer but give better results, try 2 or 3 to start.\n",
        "NUM_ITERATIONS = 1\n",
        "\n",
        "scores = collections.defaultdict(int)\n",
        "responses = collections.defaultdict(list)\n",
        "\n",
        "for question in questions:\n",
        "  display(Markdown(f'## {question}'))\n",
        "  for guidance, guide_prompt in guidance_options.items():\n",
        "\n",
        "    for n in range(NUM_ITERATIONS):\n",
        "      # Generate a response.\n",
        "      answer = answer_question(question, guide_prompt)\n",
        "\n",
        "      # Evaluate the response (note that the guidance prompt is not passed).\n",
        "      written_eval, struct_eval = eval_answer(question, answer, n)\n",
        "      print(f'{guidance}: {struct_eval}')\n",
        "\n",
        "      # Save the numeric score.\n",
        "      scores[guidance] += int(struct_eval.value)\n",
        "\n",
        "      # Save the responses, in case you wish to inspect them.\n",
        "      responses[(guidance, question)].append((answer, written_eval))\n"
      ],
      "metadata": {
        "id": "RZGzduJNmT9v",
        "trusted": true,
        "execution": {
          "iopub.status.busy": "2025-03-31T09:31:34.765329Z",
          "iopub.execute_input": "2025-03-31T09:31:34.765702Z",
          "iopub.status.idle": "2025-03-31T09:32:37.473291Z",
          "shell.execute_reply.started": "2025-03-31T09:31:34.765663Z",
          "shell.execute_reply": "2025-03-31T09:32:37.472253Z"
        },
        "colab": {
          "base_uri": "https://localhost:8080/",
          "height": 216
        },
        "outputId": "c3051cf6-8342-4fae-e497-72239d84088f"
      },
      "outputs": [
        {
          "output_type": "display_data",
          "data": {
            "text/plain": [
              "<IPython.core.display.Markdown object>"
            ],
            "text/markdown": "## How does the model perform on code tasks?"
          },
          "metadata": {}
        },
        {
          "output_type": "stream",
          "name": "stdout",
          "text": [
            "Terse: AnswerRating.VERY_GOOD\n",
            "Moderate: AnswerRating.VERY_GOOD\n",
            "Cited: AnswerRating.VERY_GOOD\n"
          ]
        },
        {
          "output_type": "display_data",
          "data": {
            "text/plain": [
              "<IPython.core.display.Markdown object>"
            ],
            "text/markdown": "## How many layers does it have?"
          },
          "metadata": {}
        },
        {
          "output_type": "stream",
          "name": "stdout",
          "text": [
            "Terse: AnswerRating.VERY_BAD\n",
            "Moderate: AnswerRating.VERY_GOOD\n",
            "Cited: AnswerRating.VERY_GOOD\n"
          ]
        }
      ],
      "execution_count": 20
    },
    {
      "cell_type": "markdown",
      "source": [
        "Now aggregate the scores to see how each prompt performed."
      ],
      "metadata": {
        "id": "93aGk7IP1DI_"
      }
    },
    {
      "cell_type": "code",
      "source": [
        "for guidance, score in scores.items():\n",
        "  avg_score = score / (NUM_ITERATIONS * len(questions))\n",
        "  nearest = AnswerRating(str(round(avg_score)))\n",
        "  print(f'{guidance}: {avg_score:.2f} - {nearest.name}')"
      ],
      "metadata": {
        "id": "1s2dgear1E0w",
        "trusted": true,
        "execution": {
          "iopub.status.busy": "2025-03-31T09:32:37.474326Z",
          "iopub.execute_input": "2025-03-31T09:32:37.474699Z",
          "iopub.status.idle": "2025-03-31T09:32:37.48031Z",
          "shell.execute_reply.started": "2025-03-31T09:32:37.474661Z",
          "shell.execute_reply": "2025-03-31T09:32:37.479243Z"
        },
        "colab": {
          "base_uri": "https://localhost:8080/"
        },
        "outputId": "6b58eaf2-9988-45cf-f0d7-9e2176f8dd07"
      },
      "outputs": [
        {
          "output_type": "stream",
          "name": "stdout",
          "text": [
            "Terse: 3.00 - OK\n",
            "Moderate: 5.00 - VERY_GOOD\n",
            "Cited: 5.00 - VERY_GOOD\n"
          ]
        }
      ],
      "execution_count": 21
    },
    {
      "cell_type": "code",
      "source": [
        "#OpenAI\n",
        "@functools.cache\n",
        "def answer_question_openai(question: str, guidance: str = '') -> str:\n",
        "  \"\"\"Generate an answer to the question using the uploaded document and guidance.\"\"\"\n",
        "  config = types.GenerateContentConfig(\n",
        "      temperature=0.0,\n",
        "      system_instruction=guidance,\n",
        "  )\n",
        "  response = openai_client.responses.create(\n",
        "      model='gpt-4.1',\n",
        "      temperature = 0.0,\n",
        "      instructions=guidance,\n",
        "      input=[\n",
        "        {\n",
        "            \"role\": \"user\",\n",
        "            \"content\": [\n",
        "                {\n",
        "                    \"type\": \"input_file\",\n",
        "                    \"file_id\": openai_file.id,\n",
        "                },\n",
        "                {\n",
        "                    \"type\": \"input_text\",\n",
        "                    \"text\": question,\n",
        "                },\n",
        "            ]\n",
        "        }\n",
        "      ]\n",
        "    )\n",
        "\n",
        "  return response.output_text\n",
        "\n",
        "\n",
        "answer = answer_question_openai(questions[0], terse_guidance)\n",
        "Markdown(answer)"
      ],
      "metadata": {
        "colab": {
          "base_uri": "https://localhost:8080/",
          "height": 81
        },
        "id": "A1JEwoevY0Kx",
        "outputId": "78c01fde-3b60-4a22-818f-74dbc233dec4"
      },
      "execution_count": 29,
      "outputs": [
        {
          "output_type": "execute_result",
          "data": {
            "text/plain": [
              "<IPython.core.display.Markdown object>"
            ],
            "text/markdown": "Gemini 1.5 Pro is Google’s best-performing model on code tasks to date, surpassing Gemini 1.0 Ultra on their internal held-out code generation benchmark (Natural2Code), and achieving strong results on standard coding benchmarks like HumanEval, while also emphasizing the importance of using truly held-out test sets to avoid data leakage."
          },
          "metadata": {},
          "execution_count": 29
        }
      ]
    },
    {
      "cell_type": "code",
      "source": [
        "#OpenAI\n",
        "class AnswerRating(BaseModel):\n",
        "  rating :Rating = Field(description=\"The rating\")\n",
        "\n",
        "\n",
        "@functools.cache\n",
        "def eval_answer_openai(prompt, ai_response, n=1):\n",
        "  \"\"\"Evaluate the generated answer against the prompt/question used.\"\"\"\n",
        "\n",
        "  # Generate the full text response.\n",
        "  response = openai_client.responses.create(\n",
        "      model='gpt-4.1',\n",
        "      input = QA_PROMPT.format(prompt=[prompt, openai_file], response=ai_response)\n",
        "  )\n",
        "  verbose_eval = response.output_text\n",
        "\n",
        "  # Coerce into the desired structure.\n",
        "\n",
        "  response = openai_client.responses.parse(\n",
        "      model='gpt-4.1',\n",
        "      input=\"Convert the final score.\",\n",
        "      text_format = AnswerRating,\n",
        "      previous_response_id=response.id\n",
        "  )\n",
        "  structured_eval = response.output_parsed\n",
        "\n",
        "  return verbose_eval, structured_eval\n",
        "\n",
        "\n",
        "text_eval, struct_eval = eval_answer_openai(prompt=questions[0], ai_response=answer)\n",
        "display(Markdown(text_eval))\n",
        "print(struct_eval)"
      ],
      "metadata": {
        "id": "EEV4X8bCi13o",
        "outputId": "2c20d6a1-ad78-43e0-fdda-9fc599d35156",
        "colab": {
          "base_uri": "https://localhost:8080/",
          "height": 587
        }
      },
      "execution_count": 34,
      "outputs": [
        {
          "output_type": "display_data",
          "data": {
            "text/plain": [
              "<IPython.core.display.Markdown object>"
            ],
            "text/markdown": "STEP 1: Assess the response in aspects of instruction following, groundedness, completeness, and fluency according to the criteria.\n\nInstruction following:\n- The user's prompt asks, \"How does the model perform on code tasks?\" and attaches a document ('gemini.pdf') assumed to contain relevant information. The response should answer this question, using only information from the document.\n- The response mentions Gemini 1.5 Pro's performance, stating that it surpasses Gemini 1.0 Ultra on internal benchmarks and attains strong results on other standard benchmarks.\n\nGroundedness:\n- The response references benchmark names (\"Natural2Code\", \"HumanEval\") and claims (best-performing model to date, surpasses previous version, emphasizes data leakage avoidance). \n- If this information is indeed present in the uploaded 'gemini.pdf,' then the response is grounded. However, without explicit references or direct quotes, it's not fully clear what is being summarized versus inferred. \n- The response does not rely on information clearly outside the file, but it synthesizes more than strictly necessary.\n\nCompleteness:\n- The response answers the main aspect of the question: it describes Gemini 1.5 Pro's (presumably the model in question) performance in code tasks—relative performance, benchmarks, and an emphasis on methodology (held-out sets, data leakage).\n- It does not provide any quantitative metrics, example scores, or more granular details about the specific tasks or differences, which could enhance completeness if present in the file.\n\nFluent:\n- The response is clear, grammatically correct, and easy to read.\n\nSTEP 2: Score based on the rubric.\n\n- The response follows instructions, is likely grounded (assuming the details are in the doc), is complete at a high level but lacks specifics or citations, and is fluent.\n- It could be improved with numbers or direct references to specific performance results and more specificity from the source, but it does answer the core question as asked.\n\nFinal Score: 5\n\n**Justification:** The response (assuming source info is present) follows instructions, is grounded, complete in addressing the user's question, and is fluent. It could be improved with more detail, but by the rubric, it achieves the highest score for question-answering quality."
          },
          "metadata": {}
        },
        {
          "output_type": "stream",
          "name": "stdout",
          "text": [
            "rating=<Rating.VERY_GOOD: '5'>\n"
          ]
        }
      ]
    },
    {
      "cell_type": "code",
      "source": [
        "#OpenAI\n",
        "for question in questions:\n",
        "  display(Markdown(f'## {question}'))\n",
        "  for guidance, guide_prompt in guidance_options.items():\n",
        "\n",
        "    for n in range(NUM_ITERATIONS):\n",
        "      # Generate a response.\n",
        "      answer = answer_question_openai(question, guide_prompt)\n",
        "\n",
        "      # Evaluate the response (note that the guidance prompt is not passed).\n",
        "      written_eval, struct_eval = eval_answer_openai(question, answer, n)\n",
        "      print(f'{guidance}: {struct_eval.rating}')\n",
        "\n",
        "      # Save the numeric score.\n",
        "      scores[guidance] += int(struct_eval.rating.value)\n",
        "\n",
        "      # Save the responses, in case you wish to inspect them.\n",
        "      responses[(guidance, question)].append((answer, written_eval))"
      ],
      "metadata": {
        "id": "h6FN2NIwoZ8I",
        "outputId": "757c16ac-9f22-4782-a74e-3ff27fdef94b",
        "colab": {
          "base_uri": "https://localhost:8080/",
          "height": 216
        }
      },
      "execution_count": 40,
      "outputs": [
        {
          "output_type": "display_data",
          "data": {
            "text/plain": [
              "<IPython.core.display.Markdown object>"
            ],
            "text/markdown": "## How does the model perform on code tasks?"
          },
          "metadata": {}
        },
        {
          "output_type": "stream",
          "name": "stdout",
          "text": [
            "Terse: Rating.VERY_GOOD\n",
            "Moderate: Rating.VERY_GOOD\n",
            "Cited: Rating.VERY_GOOD\n"
          ]
        },
        {
          "output_type": "display_data",
          "data": {
            "text/plain": [
              "<IPython.core.display.Markdown object>"
            ],
            "text/markdown": "## How many layers does it have?"
          },
          "metadata": {}
        },
        {
          "output_type": "stream",
          "name": "stdout",
          "text": [
            "Terse: Rating.VERY_GOOD\n",
            "Moderate: Rating.VERY_GOOD\n",
            "Cited: Rating.OK\n"
          ]
        }
      ]
    },
    {
      "cell_type": "markdown",
      "source": [
        "### Pairwise evaluation\n",
        "\n",
        "The pointwise evaluation prompt used in the previous step has 5 levels of grading in the output. This may be too coarse for your system, or perhaps you wish to improve on a prompt that is already \"very good\".\n",
        "\n",
        "Another approach to evaluation is to compare two outputs against each other. This is pairwise evaluation, and is a key step in ranking and sorting algorithms, which allows you to use it to rank your prompts either instead of, or in addition to the pointwise approach.\n",
        "\n",
        "This step implements pairwise evaluation using the [pairwise QA quality prompt](https://cloud.google.com/vertex-ai/generative-ai/docs/models/metrics-templates#pairwise_question_answering_quality) from the Google Cloud docs."
      ],
      "metadata": {
        "id": "kthCa72FdTsE"
      }
    },
    {
      "cell_type": "code",
      "source": [
        "QA_PAIRWISE_PROMPT = \"\"\"\\\n",
        "# Instruction\n",
        "You are an expert evaluator. Your task is to evaluate the quality of the responses generated by two AI models. We will provide you with the user input and a pair of AI-generated responses (Response A and Response B). You should first read the user input carefully for analyzing the task, and then evaluate the quality of the responses based on the Criteria provided in the Evaluation section below.\n",
        "\n",
        "You will first judge responses individually, following the Rating Rubric and Evaluation Steps. Then you will give step-by-step explanations for your judgment, compare results to declare the winner based on the Rating Rubric and Evaluation Steps.\n",
        "\n",
        "# Evaluation\n",
        "## Metric Definition\n",
        "You will be assessing question answering quality, which measures the overall quality of the answer to the question in the user prompt. Pay special attention to length constraints, such as in X words or in Y sentences. The instruction for performing a question-answering task is provided in the user prompt. The response should not contain information that is not present in the context (if it is provided).\n",
        "\n",
        "## Criteria\n",
        "Instruction following: The response demonstrates a clear understanding of the question answering task instructions, satisfying all of the instruction's requirements.\n",
        "Groundedness: The response contains information included only in the context if the context is present in the user prompt. The response does not reference any outside information.\n",
        "Completeness: The response completely answers the question with sufficient detail.\n",
        "Fluent: The response is well-organized and easy to read.\n",
        "\n",
        "## Rating Rubric\n",
        "\"A\": Response A answers the given question as per the criteria better than response B.\n",
        "\"SAME\": Response A and B answers the given question equally well as per the criteria.\n",
        "\"B\": Response B answers the given question as per the criteria better than response A.\n",
        "\n",
        "## Evaluation Steps\n",
        "STEP 1: Analyze Response A based on the question answering quality criteria: Determine how well Response A fulfills the user requirements, is grounded in the context, is complete and fluent, and provides assessment according to the criterion.\n",
        "STEP 2: Analyze Response B based on the question answering quality criteria: Determine how well Response B fulfills the user requirements, is grounded in the context, is complete and fluent, and provides assessment according to the criterion.\n",
        "STEP 3: Compare the overall performance of Response A and Response B based on your analyses and assessment.\n",
        "STEP 4: Output your preference of \"A\", \"SAME\" or \"B\" to the pairwise_choice field according to the Rating Rubric.\n",
        "STEP 5: Output your assessment reasoning in the explanation field.\n",
        "\n",
        "# User Inputs and AI-generated Responses\n",
        "## User Inputs\n",
        "### Prompt\n",
        "{prompt}\n",
        "\n",
        "# AI-generated Response\n",
        "\n",
        "### Response A\n",
        "{baseline_model_response}\n",
        "\n",
        "### Response B\n",
        "{response}\n",
        "\"\"\"\n",
        "\n",
        "\n",
        "class AnswerComparison(enum.Enum):\n",
        "  A = 'A'\n",
        "  SAME = 'SAME'\n",
        "  B = 'B'\n",
        "\n",
        "\n",
        "@functools.cache\n",
        "def eval_pairwise(prompt, response_a, response_b, n=1):\n",
        "  \"\"\"Determine the better of two answers to the same prompt.\"\"\"\n",
        "\n",
        "  chat = client.chats.create(model='gemini-2.0-flash')\n",
        "\n",
        "  # Generate the full text response.\n",
        "  response = chat.send_message(\n",
        "      message=QA_PAIRWISE_PROMPT.format(\n",
        "          prompt=[prompt, document_file],\n",
        "          baseline_model_response=response_a,\n",
        "          response=response_b)\n",
        "  )\n",
        "  verbose_eval = response.text\n",
        "\n",
        "  # Coerce into the desired structure.\n",
        "  structured_output_config = types.GenerateContentConfig(\n",
        "      response_mime_type=\"text/x.enum\",\n",
        "      response_schema=AnswerComparison,\n",
        "  )\n",
        "  response = chat.send_message(\n",
        "      message=\"Convert the final score.\",\n",
        "      config=structured_output_config,\n",
        "  )\n",
        "  structured_eval = response.parsed\n",
        "\n",
        "  return verbose_eval, structured_eval\n",
        "\n",
        "\n",
        "question = questions[0]\n",
        "answer_a = answer_question(question, terse_guidance)\n",
        "answer_b = answer_question(question, cited_guidance)\n",
        "\n",
        "text_eval, struct_eval = eval_pairwise(\n",
        "    prompt=question,\n",
        "    response_a=answer_a,\n",
        "    response_b=answer_b,\n",
        ")\n",
        "\n",
        "display(Markdown(text_eval))\n",
        "print(struct_eval)"
      ],
      "metadata": {
        "id": "wArYTv5n1uIo",
        "trusted": true,
        "execution": {
          "iopub.status.busy": "2025-03-31T09:32:37.481403Z",
          "iopub.execute_input": "2025-03-31T09:32:37.481712Z",
          "iopub.status.idle": "2025-03-31T09:32:40.225601Z",
          "shell.execute_reply.started": "2025-03-31T09:32:37.481673Z",
          "shell.execute_reply": "2025-03-31T09:32:40.224606Z"
        },
        "colab": {
          "base_uri": "https://localhost:8080/",
          "height": 276
        },
        "outputId": "e9f397b4-64ee-4f03-cf3d-3cbed8b57ee9"
      },
      "outputs": [
        {
          "output_type": "display_data",
          "data": {
            "text/plain": [
              "<IPython.core.display.Markdown object>"
            ],
            "text/markdown": "## Individual Response Analysis\nResponse A: The response is well written but not complete.\nResponse B: The response is complete and well-written. It extracts information from the document and presents it clearly.\n\n## Overall Comparison\nResponse B is better than response A because it provides more detailed and well-organized information from the document about how the model performs on code tasks. Response A is a general summary, while Response B gives specific examples and metrics.\n\n## Preference\nB\n"
          },
          "metadata": {}
        },
        {
          "output_type": "stream",
          "name": "stdout",
          "text": [
            "AnswerComparison.B\n"
          ]
        }
      ],
      "execution_count": 58
    },
    {
      "cell_type": "markdown",
      "source": [
        "With a pair-wise evaluator in place, the only thing required to rank prompts against each other is a comparator.\n",
        "\n",
        "This example implements the minimal comparators required for total ordering (`==` and `<`) and performs the comparison using  `n_iterations` evaluations over the set of `questions`."
      ],
      "metadata": {
        "id": "O74EgXn4oiqn"
      }
    },
    {
      "cell_type": "code",
      "source": [
        "@functools.total_ordering\n",
        "class QAGuidancePrompt:\n",
        "  \"\"\"A question-answering guidance prompt or system instruction.\"\"\"\n",
        "\n",
        "  def __init__(self, prompt, questions, n_comparisons=NUM_ITERATIONS):\n",
        "    \"\"\"Create the prompt. Provide questions to evaluate against, and number of evals to perform.\"\"\"\n",
        "    self.prompt = prompt\n",
        "    self.questions = questions\n",
        "    self.n = n_comparisons\n",
        "\n",
        "  def __str__(self):\n",
        "    return self.prompt\n",
        "\n",
        "  def _compare_all(self, other):\n",
        "    \"\"\"Compare two prompts on all questions over n trials.\"\"\"\n",
        "    results = [self._compare_n(other, q) for q in questions]\n",
        "    mean = sum(results) / len(results)\n",
        "    return round(mean)\n",
        "\n",
        "  def _compare_n(self, other, question):\n",
        "    \"\"\"Compare two prompts on a question over n trials.\"\"\"\n",
        "    results = [self._compare(other, question, n) for n in range(self.n)]\n",
        "    mean = sum(results) / len(results)\n",
        "    return mean\n",
        "\n",
        "  def _compare(self, other, question, n=1):\n",
        "    \"\"\"Compare two prompts on a single question.\"\"\"\n",
        "    answer_a = answer_question(question, self.prompt)\n",
        "    answer_b = answer_question(question, other.prompt)\n",
        "\n",
        "    _, result = eval_pairwise(\n",
        "        prompt=question,\n",
        "        response_a=answer_a,\n",
        "        response_b=answer_b,\n",
        "        n=n,  # Cache buster\n",
        "    )\n",
        "    # print(f'q[{question}], a[{self.prompt[:20]}...], b[{other.prompt[:20]}...]: {result}')\n",
        "\n",
        "    # Convert the enum to the standard Python numeric comparison values.\n",
        "    if result is AnswerComparison.A:\n",
        "      return 1\n",
        "    elif result is AnswerComparison.B:\n",
        "      return -1\n",
        "    else:\n",
        "      return 0\n",
        "\n",
        "  def __eq__(self, other):\n",
        "    \"\"\"Equality check that performs pairwise evaluation.\"\"\"\n",
        "    if not isinstance(other, QAGuidancePrompt):\n",
        "      return NotImplemented\n",
        "\n",
        "    return self._compare_all(other) == 0\n",
        "\n",
        "  def __lt__(self, other):\n",
        "    \"\"\"Ordering check that performs pairwise evaluation.\"\"\"\n",
        "    if not isinstance(other, QAGuidancePrompt):\n",
        "      return NotImplemented\n",
        "\n",
        "    return self._compare_all(other) < 0\n"
      ],
      "metadata": {
        "id": "Sr1PnWkZ33Cu",
        "trusted": true,
        "execution": {
          "iopub.status.busy": "2025-03-31T09:32:40.226614Z",
          "iopub.execute_input": "2025-03-31T09:32:40.226997Z",
          "iopub.status.idle": "2025-03-31T09:32:40.236292Z",
          "shell.execute_reply.started": "2025-03-31T09:32:40.226961Z",
          "shell.execute_reply": "2025-03-31T09:32:40.23519Z"
        }
      },
      "outputs": [],
      "execution_count": 59
    },
    {
      "cell_type": "markdown",
      "source": [
        "Now Python's sorting functions will \"just work\" on any `QAGuidancePrompt` instances. The `answer_question` and `eval_pairwise` functions are [memoized](https://en.wikipedia.org/wiki/Memoization) to avoid unnecessarily regenerating the same answers or evaluations, so you should see this complete quickly unless you have changed the questions, prompts or number of iterations from the earlier steps."
      ],
      "metadata": {
        "id": "N-T7gpxy6cCI"
      }
    },
    {
      "cell_type": "code",
      "source": [
        "terse_prompt = QAGuidancePrompt(terse_guidance, questions)\n",
        "moderate_prompt = QAGuidancePrompt(moderate_guidance, questions)\n",
        "cited_prompt = QAGuidancePrompt(cited_guidance, questions)\n",
        "\n",
        "# Sort in reverse order, so that best is first\n",
        "sorted_results = sorted([terse_prompt, moderate_prompt, cited_prompt], reverse=True)\n",
        "for i, p in enumerate(sorted_results):\n",
        "  if i:\n",
        "    print('---')\n",
        "\n",
        "  print(f'#{i+1}: {p}')"
      ],
      "metadata": {
        "id": "DAT1wp--sOfS",
        "trusted": true,
        "execution": {
          "iopub.status.busy": "2025-03-31T09:32:40.237348Z",
          "iopub.execute_input": "2025-03-31T09:32:40.237624Z",
          "iopub.status.idle": "2025-03-31T09:32:51.191075Z",
          "shell.execute_reply.started": "2025-03-31T09:32:40.237602Z",
          "shell.execute_reply": "2025-03-31T09:32:51.190082Z"
        },
        "colab": {
          "base_uri": "https://localhost:8080/"
        },
        "outputId": "15e19288-fdf1-4b0c-c306-95b3a310fa16"
      },
      "outputs": [
        {
          "output_type": "stream",
          "name": "stdout",
          "text": [
            "#1: Answer the following question in a single sentence, or as close to that as possible.\n",
            "---\n",
            "#2: Provide a thorough, detailed answer to the following question, citing the document and supplying additional background information as much as possible.\n",
            "---\n",
            "#3: Provide a brief answer to the following question, use a citation if necessary, but only enough to answer the question.\n"
          ]
        }
      ],
      "execution_count": 60
    },
    {
      "cell_type": "code",
      "source": [
        "#OpenAI\n",
        "class Comparison(enum.Enum):\n",
        "  A = 'A'\n",
        "  SAME = 'SAME'\n",
        "  B = 'B'\n",
        "\n",
        "class AnswerComparison(BaseModel):\n",
        "  comparison : Comparison\n",
        "\n",
        "\n",
        "@functools.cache\n",
        "def eval_pairwise_openai(prompt, response_a, response_b, n=1):\n",
        "  \"\"\"Determine the better of two answers to the same prompt.\"\"\"\n",
        "\n",
        "\n",
        "\n",
        "  # Generate the full text response.\n",
        "  response = openai_client.responses.create(\n",
        "      model = 'gpt-4.1',\n",
        "      input=QA_PAIRWISE_PROMPT.format(\n",
        "          prompt=[prompt, openai_file],\n",
        "          baseline_model_response=response_a,\n",
        "          response=response_b)\n",
        "  )\n",
        "  verbose_eval = response.output_text\n",
        "\n",
        "  # Coerce into the desired structure.\n",
        "  structured_output_config = types.GenerateContentConfig(\n",
        "      response_mime_type=\"text/x.enum\",\n",
        "      response_schema=AnswerComparison,\n",
        "  )\n",
        "  response = openai_client.responses.parse(\n",
        "      model='gpt-4.1',\n",
        "      input=\"Convert the final score.\",\n",
        "      text_format = AnswerComparison,\n",
        "      previous_response_id = response.id\n",
        "\n",
        "  )\n",
        "  structured_eval = response.output_parsed\n",
        "\n",
        "  return verbose_eval, structured_eval\n",
        "\n",
        "\n",
        "question = questions[0]\n",
        "answer_a = answer_question_openai(question, terse_guidance)\n",
        "answer_b = answer_question_openai(question, cited_guidance)\n",
        "\n",
        "text_eval, struct_eval = eval_pairwise_openai(\n",
        "    prompt=question,\n",
        "    response_a=answer_a,\n",
        "    response_b=answer_b,\n",
        ")\n",
        "\n",
        "display(Markdown(text_eval))\n",
        "print(struct_eval.comparison)"
      ],
      "metadata": {
        "id": "0HzT-1YLryJY",
        "outputId": "e7407afc-1d9b-48f8-8a99-0051b1e683d2",
        "colab": {
          "base_uri": "https://localhost:8080/",
          "height": 668
        }
      },
      "execution_count": 52,
      "outputs": [
        {
          "output_type": "display_data",
          "data": {
            "text/plain": [
              "<IPython.core.display.Markdown object>"
            ],
            "text/markdown": "pairwise_choice: B\n\nexplanation: \n\n**Step 1: Analyze Response A**\n\n- **Instruction following:** Response A answers how the model performs on code tasks, summarizing the main points: Gemini 1.5 Pro is Google’s best-performing code model, surpasses Gemini 1.0 Ultra on one benchmark (Natural2Code), achieves strong results on others (HumanEval), and highlights the importance of using held-out benchmarks. It follows the instruction, but the summary is brief and slightly lacking in detail.\n- **Groundedness:** The details given are all found in the prompt context/report, albeit summarized—the benchmarks, positioning versus prior models, and the importance of data leakage in results.\n- **Completeness:** The response is generally accurate and to the point but is limited in scope. It omits specific scores, in-depth discussion of strengths (long-context), or model limitations.\n- **Fluency:** The response is clear, concise, and readable.\n\n**Step 2: Analyze Response B**\n\n- **Instruction following:** Response B follows the instruction fully, comprehensively responding to the question about Gemini 1.5 Pro’s code performance. It structures the answer with summaries, details from the report, and several points of analysis.\n- **Groundedness:** All information provided is present in the context (the Gemini report). Specific benchmark scores (from the report’s Table 8), qualitative and technical assessments, and direct report references are given.\n- **Completeness:** The response is highly complete, offering numeric benchmark results (for both HumanEval and Natural2Code) and distinguishing between them with context about data leakage. It discusses the unique advantages of the model (long-context window, processing entire codebases), efficiency, best practices for evaluation, limitations, and future directions. It provides references and is explicit about which points came from which part of the report.\n- **Fluency:** The response is very well-organized, clear, and easy to follow.\n\n**Step 3: Compare**\n\n- **Instruction following:** Both answers are relevant, but B is much more thorough.\n- **Groundedness:** Both are well-grounded, but B is more explicit in referencing the source document.\n- **Completeness:** B is far more complete, offering both numerical details and qualitative analysis; A is very brief and lacks these.\n- **Fluency:** Both are fluent, but B is better structured and clearer for deeper understanding.\n\n**Step 4: Output**\n\n- **pairwise_choice:** B\n\n**Step 5: Explanation**\n\nResponse B is the superior answer. It comprehensively summarizes Gemini 1.5 Pro’s performance on code tasks, referencing numerical benchmark results, unique technical capabilities, and contextual caveats (like data leakage). It interprets these results, discusses the model's comparative advantages and efficiency, and directly references the report for further reading. Response A, while concise and accurate, is too brief and omits important details that inform a complete answer. Thus, Response B better meets the question answering criteria."
          },
          "metadata": {}
        },
        {
          "output_type": "stream",
          "name": "stdout",
          "text": [
            "Comparison.B\n"
          ]
        }
      ]
    },
    {
      "cell_type": "code",
      "source": [
        "#OpenAI\n",
        "@functools.total_ordering\n",
        "class QAGuidancePromptOpenAI:\n",
        "  \"\"\"A question-answering guidance prompt or system instruction.\"\"\"\n",
        "\n",
        "  def __init__(self, prompt, questions, n_comparisons=NUM_ITERATIONS):\n",
        "    \"\"\"Create the prompt. Provide questions to evaluate against, and number of evals to perform.\"\"\"\n",
        "    self.prompt = prompt\n",
        "    self.questions = questions\n",
        "    self.n = n_comparisons\n",
        "\n",
        "  def __str__(self):\n",
        "    return self.prompt\n",
        "\n",
        "  def _compare_all(self, other):\n",
        "    \"\"\"Compare two prompts on all questions over n trials.\"\"\"\n",
        "    results = [self._compare_n(other, q) for q in questions]\n",
        "    mean = sum(results) / len(results)\n",
        "    return round(mean)\n",
        "\n",
        "  def _compare_n(self, other, question):\n",
        "    \"\"\"Compare two prompts on a question over n trials.\"\"\"\n",
        "    results = [self._compare(other, question, n) for n in range(self.n)]\n",
        "    mean = sum(results) / len(results)\n",
        "    return mean\n",
        "\n",
        "  def _compare(self, other, question, n=1):\n",
        "    \"\"\"Compare two prompts on a single question.\"\"\"\n",
        "    answer_a = answer_question_openai(question, self.prompt)\n",
        "    answer_b = answer_question_openai(question, other.prompt)\n",
        "\n",
        "    _, result = eval_pairwise_openai(\n",
        "        prompt=question,\n",
        "        response_a=answer_a,\n",
        "        response_b=answer_b,\n",
        "        n=n,  # Cache buster\n",
        "    )\n",
        "    # print(f'q[{question}], a[{self.prompt[:20]}...], b[{other.prompt[:20]}...]: {result}')\n",
        "\n",
        "    # Convert the enum to the standard Python numeric comparison values.\n",
        "    if result is Comparison.A:\n",
        "      return 1\n",
        "    elif result is Comparison.B:\n",
        "      return -1\n",
        "    else:\n",
        "      return 0\n",
        "\n",
        "  def __eq__(self, other):\n",
        "    \"\"\"Equality check that performs pairwise evaluation.\"\"\"\n",
        "    if not isinstance(other, QAGuidancePromptOpenAI):\n",
        "      return NotImplemented\n",
        "\n",
        "    return self._compare_all(other) == 0\n",
        "\n",
        "  def __lt__(self, other):\n",
        "    \"\"\"Ordering check that performs pairwise evaluation.\"\"\"\n",
        "    if not isinstance(other, QAGuidancePromptOpenAI):\n",
        "      return NotImplemented\n",
        "\n",
        "    return self._compare_all(other) < 0"
      ],
      "metadata": {
        "id": "o7KCEQd5xPaP"
      },
      "execution_count": 55,
      "outputs": []
    },
    {
      "cell_type": "code",
      "source": [
        "#OpenAI\n",
        "terse_prompt = QAGuidancePromptOpenAI(terse_guidance, questions)\n",
        "moderate_prompt = QAGuidancePromptOpenAI(moderate_guidance, questions)\n",
        "cited_prompt = QAGuidancePromptOpenAI(cited_guidance, questions)\n",
        "\n",
        "# Sort in reverse order, so that best is first\n",
        "sorted_results = sorted([terse_prompt, moderate_prompt, cited_prompt], reverse=True)\n",
        "for i, p in enumerate(sorted_results):\n",
        "  if i:\n",
        "    print('---')\n",
        "\n",
        "  print(f'#{i+1}: {p}')"
      ],
      "metadata": {
        "id": "K9TUJ6XEys3g",
        "outputId": "a7e53fac-d87c-4a60-c06f-31066c02d32f",
        "colab": {
          "base_uri": "https://localhost:8080/"
        }
      },
      "execution_count": 56,
      "outputs": [
        {
          "output_type": "stream",
          "name": "stdout",
          "text": [
            "#1: Answer the following question in a single sentence, or as close to that as possible.\n",
            "---\n",
            "#2: Provide a brief answer to the following question, use a citation if necessary, but only enough to answer the question.\n",
            "---\n",
            "#3: Provide a thorough, detailed answer to the following question, citing the document and supplying additional background information as much as possible.\n"
          ]
        }
      ]
    },
    {
      "cell_type": "markdown",
      "source": [
        "## Challenges\n",
        "\n",
        "### LLM limitations\n",
        "\n",
        "LLMs are known to have problems on certain tasks, and these challenges still persist when using LLMs as evaluators. For example, LLMs can struggle to count the number of characters in a word (this is a numerical problem, not a language problem), so an LLM evaluator will not be able to accurately evaluate this type of task. There are solutions available in some cases, such as connecting tools to handle problems unsuitable to a language model, but it's important that you understand possible limitations and include human evaluators to calibrate your evaluation system and determine a baseline.\n",
        "\n",
        "One reason that LLM evaluators work well is that all of the information they need is available in the input context, so the model only needs to attend to that information to produce the result. When customising evaluation prompts, or building your own systems, keep this in mind and ensure that you are not relying on \"internal knowledge\" from the model, or behaviour that might be better provided from a tool.\n",
        "\n",
        "### Improving confidence\n",
        "\n",
        "One way to improve the confidence of your evaluations is to include a diverse set of evaluators. That is, use the same prompts and outputs, but execute them on different models, like Gemini Flash and Pro, or even across different providers, like Gemini, Claude, ChatGPT and local models like Gemma or Qwen. This follows the same idea used earlier, where repeating trials to gather multiple \"opinions\" helps to [reduce error](https://en.wikipedia.org/wiki/Law_of_large_numbers), except by using different models the \"opinions\" will be more diverse.\n",
        "\n",
        "\n",
        "## Learn more\n",
        "\n",
        "To learn more about evaluation systems, check out [this guide](https://cloud.google.com/blog/products/ai-machine-learning/enhancing-llm-quality-and-interpretability-with-the-vertex-gen-ai-evaluation-service?e=48754805) focusing on evaluation using Google Cloud's Gen AI Evaluation Service.\n",
        "\n",
        "And be sure to read the **bonus whitepaper** on [Evaluating Large Language Models](https://services.google.com/fh/files/blogs/neurips_evaluation.pdf).\n",
        "\n",
        "*- [Mark McD](https://linktr.ee/markmcd)*"
      ],
      "metadata": {
        "id": "xfphETryZqdo"
      }
    }
  ]
}