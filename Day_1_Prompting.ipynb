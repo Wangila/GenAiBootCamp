{
  "metadata": {
    "kernelspec": {
      "name": "python3",
      "display_name": "Python 3",
      "language": "python"
    },
    "language_info": {
      "name": "python",
      "version": "3.10.14",
      "mimetype": "text/x-python",
      "codemirror_mode": {
        "name": "ipython",
        "version": 3
      },
      "pygments_lexer": "ipython3",
      "nbconvert_exporter": "python",
      "file_extension": ".py"
    },
    "colab": {
      "name": "Day 1 - Prompting",
      "provenance": [],
      "include_colab_link": true
    },
    "kaggle": {
      "accelerator": "none",
      "dataSources": [],
      "dockerImageVersionId": 30786,
      "isInternetEnabled": true,
      "language": "python",
      "sourceType": "notebook",
      "isGpuEnabled": false
    }
  },
  "nbformat_minor": 0,
  "nbformat": 4,
  "cells": [
    {
      "cell_type": "markdown",
      "metadata": {
        "id": "view-in-github",
        "colab_type": "text"
      },
      "source": [
        "<a href=\"https://colab.research.google.com/github/Wangila/GenAiBootCamp/blob/master/Day_1_Prompting.ipynb\" target=\"_parent\"><img src=\"https://colab.research.google.com/assets/colab-badge.svg\" alt=\"Open In Colab\"/></a>"
      ]
    },
    {
      "cell_type": "markdown",
      "source": [
        "##### Copyright 2025 Google LLC."
      ],
      "metadata": {
        "id": "jkxRSYjzA1oX"
      }
    },
    {
      "cell_type": "code",
      "source": [
        "# @title Licensed under the Apache License, Version 2.0 (the \"License\");\n",
        "# you may not use this file except in compliance with the License.\n",
        "# You may obtain a copy of the License at\n",
        "#\n",
        "# https://www.apache.org/licenses/LICENSE-2.0\n",
        "#\n",
        "# Unless required by applicable law or agreed to in writing, software\n",
        "# distributed under the License is distributed on an \"AS IS\" BASIS,\n",
        "# WITHOUT WARRANTIES OR CONDITIONS OF ANY KIND, either express or implied.\n",
        "# See the License for the specific language governing permissions and\n",
        "# limitations under the License."
      ],
      "metadata": {
        "id": "5u5OZ2ShA3BA",
        "jupyter": {
          "source_hidden": true
        },
        "trusted": true,
        "execution": {
          "iopub.status.busy": "2025-03-31T10:03:40.865029Z",
          "iopub.execute_input": "2025-03-31T10:03:40.865454Z",
          "iopub.status.idle": "2025-03-31T10:03:40.871949Z",
          "shell.execute_reply.started": "2025-03-31T10:03:40.865391Z",
          "shell.execute_reply": "2025-03-31T10:03:40.870628Z"
        }
      },
      "outputs": [],
      "execution_count": null
    },
    {
      "cell_type": "markdown",
      "source": [
        "# Day 1 - Prompting\n",
        "\n",
        "Welcome to the Kaggle 5-day Generative AI course!\n",
        "\n",
        "This notebook will show you how to get started with the Gemini API and walk you through some of the example prompts and techniques that you can also read about in the Prompting whitepaper. You don't need to read the whitepaper to use this notebook, but the papers will give you some theoretical context and background to complement this interactive notebook.\n",
        "\n",
        "\n",
        "## Before you begin\n",
        "\n",
        "In this notebook, you'll start exploring prompting using the Python SDK and AI Studio. For some inspiration, you might enjoy exploring some apps that have been built using the Gemini family of models. Here are a few that we like, and we think you will too.\n",
        "\n",
        "* [TextFX](https://textfx.withgoogle.com/) is a suite of AI-powered tools for rappers, made in collaboration with Lupe Fiasco,\n",
        "* [SQL Talk](https://sql-talk-r5gdynozbq-uc.a.run.app/) shows how you can talk directly to a database using the Gemini API,\n",
        "* [NotebookLM](https://notebooklm.google/) uses Gemini models to build your own personal AI research assistant.\n",
        "\n",
        "\n",
        "## For help\n",
        "\n",
        "**Common issues are covered in the [FAQ and troubleshooting guide](https://www.kaggle.com/code/markishere/day-0-troubleshooting-and-faqs).**\n",
        "\n",
        "## New for Gemini 2.0!\n",
        "\n",
        "This course material was first launched in November 2024. The AI and LLM space is moving incredibly fast, so we have made some updates to use the latest models and capabilities.\n",
        "\n",
        "* These codelabs have been updated to use the Gemini 2.0 family of models.\n",
        "* The Python SDK has been updated from `google-generativeai` to the new, unified [`google-genai`](https://pypi.org/project/google-genai) SDK.\n",
        "  * This new SDK works with both the developer Gemini API as well as Google Cloud Vertex AI, and switching is [as simple as changing some fields](https://pypi.org/project/google-genai/#:~:text=.Client%28%29-,API%20Selection,-By%20default%2C%20the).\n",
        "* New model capabilities have been added to the relevant codelabs, such as \"thinking mode\" in this lab.\n",
        "* Day 1 includes a new [Evaluation codelab](https://www.kaggle.com/code/markishere/day-1-evaluation-and-structured-output)."
      ],
      "metadata": {
        "id": "csNPnkuCobmG"
      }
    },
    {
      "cell_type": "markdown",
      "source": [
        "## Get started with Kaggle notebooks\n",
        "\n",
        "If this is your first time using a Kaggle notebook, welcome! You can read about how to use Kaggle notebooks [in the docs](https://www.kaggle.com/docs/notebooks).\n",
        "\n",
        "First, you will need to phone verify your account at kaggle.com/settings.\n",
        "\n",
        "![](https://storage.googleapis.com/kaggle-media/Images/5dgai_0.png)"
      ],
      "metadata": {
        "id": "f00ea7c99e44"
      }
    },
    {
      "cell_type": "markdown",
      "source": [
        "To run this notebook, as well as the others in this course, you will need to make a copy, or fork, the notebook. Look for the `Copy and Edit` button in the top-right, and **click it** to make an editable, private copy of the notebook. It should look like this one:\n",
        "\n",
        "![Copy and Edit button](https://storage.googleapis.com/kaggle-media/Images/5gdai_sc_1.png)\n",
        "\n",
        "Your copy will now have a ▶️ **Run** button next to each code cell that you can press to execute that cell. These notebooks are expected to be run in order from top-to-bottom, but you are encouraged to add new cells, run your own code and explore. If you get stuck, you can try the `Factory reset` option in the `Run` menu, or head back to the original notebook and make a fresh copy.\n",
        "\n",
        "![Run cell button](https://storage.googleapis.com/kaggle-media/Images/5gdai_sc_2.png)\n",
        "\n",
        "### Problems?\n",
        "\n",
        "If you have any problems, head over to the [Kaggle Discord](https://discord.com/invite/kaggle), find the [`#5dgai-q-and-a` channel](https://discord.com/channels/1101210829807956100/1303438695143178251) and ask for help."
      ],
      "metadata": {
        "id": "0XmWOcY37FHD"
      }
    },
    {
      "cell_type": "markdown",
      "source": [
        "## Get started with the Gemini API\n",
        "\n",
        "All of the exercises in this notebook will use the [Gemini API](https://ai.google.dev/gemini-api/) by way of the [Python SDK](https://pypi.org/project/google-genai/). Each of these prompts can be accessed directly in [Google AI Studio](https://aistudio.google.com/) too, so if you would rather use a web interface and skip the code for this activity, look for the <img src=\"https://ai.google.dev/site-assets/images/marketing/home/icon-ais.png\" style=\"height: 24px\" height=24/> AI Studio link on each prompt."
      ],
      "metadata": {
        "id": "ExkOXcPxtTb5"
      }
    },
    {
      "cell_type": "markdown",
      "source": [
        "Next, you will need to add your API key to your Kaggle Notebook as a Kaggle User Secret.\n",
        "\n",
        "![](https://storage.googleapis.com/kaggle-media/Images/5dgai_1.png)\n",
        "![](https://storage.googleapis.com/kaggle-media/Images/5dgai_2.png)\n",
        "![](https://storage.googleapis.com/kaggle-media/Images/5dgai_3.png)\n",
        "![](https://storage.googleapis.com/kaggle-media/Images/5dgai_4.png)"
      ],
      "metadata": {
        "id": "MVFdjfpv7FHF"
      }
    },
    {
      "cell_type": "markdown",
      "source": [
        "### Install the SDK"
      ],
      "metadata": {
        "id": "UAjUV3BsvFXQ"
      }
    },
    {
      "cell_type": "code",
      "source": [
        "!pip uninstall -qqy jupyterlab  # Remove unused packages from Kaggle's base image that conflict\n",
        "!pip install -U -q \"google-genai==1.7.0\""
      ],
      "metadata": {
        "id": "NzwzJFU9LqkJ",
        "trusted": true,
        "execution": {
          "iopub.status.busy": "2025-03-31T10:03:40.873953Z",
          "iopub.execute_input": "2025-03-31T10:03:40.87431Z",
          "iopub.status.idle": "2025-03-31T10:03:53.209301Z",
          "shell.execute_reply.started": "2025-03-31T10:03:40.87427Z",
          "shell.execute_reply": "2025-03-31T10:03:53.207859Z"
        },
        "colab": {
          "base_uri": "https://localhost:8080/"
        },
        "outputId": "6dc56f49-51ab-4ddb-8b8e-00ab960979e5"
      },
      "outputs": [
        {
          "output_type": "stream",
          "name": "stdout",
          "text": [
            "\u001b[33mWARNING: Skipping jupyterlab as it is not installed.\u001b[0m\u001b[33m\n",
            "\u001b[2K   \u001b[90m━━━━━━━━━━━━━━━━━━━━━━━━━━━━━━━━━━━━━━━━\u001b[0m \u001b[32m144.7/144.7 kB\u001b[0m \u001b[31m4.5 MB/s\u001b[0m eta \u001b[36m0:00:00\u001b[0m\n",
            "\u001b[?25h"
          ]
        }
      ],
      "execution_count": 1
    },
    {
      "cell_type": "markdown",
      "source": [
        "Import the SDK and some helpers for rendering the output."
      ],
      "metadata": {
        "id": "IkmwdFLk7FHH"
      }
    },
    {
      "cell_type": "code",
      "source": [
        "#Google GenAI\n",
        "from google import genai\n",
        "from google.genai import types\n",
        "\n",
        "#OpenAI\n",
        "from openai import OpenAI\n",
        "\n",
        "\n",
        "\n",
        "from IPython.display import HTML, Markdown, display"
      ],
      "metadata": {
        "id": "5DwxYIRavMST",
        "trusted": true,
        "execution": {
          "iopub.status.busy": "2025-03-31T10:03:53.211256Z",
          "iopub.execute_input": "2025-03-31T10:03:53.211769Z",
          "iopub.status.idle": "2025-03-31T10:03:54.638132Z",
          "shell.execute_reply.started": "2025-03-31T10:03:53.211723Z",
          "shell.execute_reply": "2025-03-31T10:03:54.636956Z"
        }
      },
      "outputs": [],
      "execution_count": 2
    },
    {
      "cell_type": "markdown",
      "source": [
        "Set up a retry helper. This allows you to \"Run all\" without worrying about per-minute quota."
      ],
      "metadata": {
        "id": "PNODdi1Z7FHI"
      }
    },
    {
      "cell_type": "code",
      "source": [
        "from google.api_core import retry\n",
        "\n",
        "\n",
        "is_retriable = lambda e: (isinstance(e, genai.errors.APIError) and e.code in {429, 503})\n",
        "\n",
        "genai.models.Models.generate_content = retry.Retry(\n",
        "    predicate=is_retriable)(genai.models.Models.generate_content)"
      ],
      "metadata": {
        "trusted": true,
        "execution": {
          "iopub.status.busy": "2025-03-31T10:03:54.640394Z",
          "iopub.execute_input": "2025-03-31T10:03:54.640904Z",
          "iopub.status.idle": "2025-03-31T10:03:54.845515Z",
          "shell.execute_reply.started": "2025-03-31T10:03:54.640869Z",
          "shell.execute_reply": "2025-03-31T10:03:54.844479Z"
        },
        "id": "sLluWoVx7FHI"
      },
      "outputs": [],
      "execution_count": 3
    },
    {
      "cell_type": "markdown",
      "source": [
        "### Set up your API key\n",
        "\n",
        "To run the following cell, your API key must be stored it in a [Kaggle secret](https://www.kaggle.com/discussions/product-feedback/114053) named `GOOGLE_API_KEY`.\n",
        "\n",
        "If you don't already have an API key, you can grab one from [AI Studio](https://aistudio.google.com/app/apikey). You can find [detailed instructions in the docs](https://ai.google.dev/gemini-api/docs/api-key).\n",
        "\n",
        "To make the key available through Kaggle secrets, choose `Secrets` from the `Add-ons` menu and follow the instructions to add your key or enable it for this notebook."
      ],
      "metadata": {
        "id": "DNEt2BCOvOJ1"
      }
    },
    {
      "cell_type": "code",
      "source": [
        "#from kaggle_secrets import UserSecretsClient\n",
        "\n",
        "#GOOGLE_API_KEY = UserSecretsClient().get_secret(\"GOOGLE_API_KEY\")\n",
        "from google.colab import userdata\n",
        "GOOGLE_API_KEY = userdata.get('GOOGLE_API_KEY')\n",
        "\n",
        "OPENAI_API_KEY = userdata.get('OPENAI_API_KEY')"
      ],
      "metadata": {
        "id": "SHl0bkPCvayd",
        "trusted": true,
        "execution": {
          "iopub.status.busy": "2025-03-31T10:03:54.846853Z",
          "iopub.execute_input": "2025-03-31T10:03:54.84727Z",
          "iopub.status.idle": "2025-03-31T10:03:55.056841Z",
          "shell.execute_reply.started": "2025-03-31T10:03:54.84724Z",
          "shell.execute_reply": "2025-03-31T10:03:55.055686Z"
        }
      },
      "outputs": [],
      "execution_count": 4
    },
    {
      "cell_type": "markdown",
      "source": [
        "If you received an error response along the lines of `No user secrets exist for kernel id ...`, then you need to add your API key via `Add-ons`, `Secrets` **and** enable it.\n",
        "\n",
        "![Screenshot of the checkbox to enable GOOGLE_API_KEY secret](https://storage.googleapis.com/kaggle-media/Images/5gdai_sc_3.png)"
      ],
      "metadata": {
        "id": "4e720472fd86"
      }
    },
    {
      "cell_type": "markdown",
      "source": [
        "### Run your first prompt\n",
        "\n",
        "In this step, you will test that your API key is set up correctly by making a request.\n",
        "\n",
        "The Python SDK uses a [`Client` object](https://googleapis.github.io/python-genai/genai.html#genai.client.Client) to make requests to the API. The client lets you control which back-end to use (between the Gemini API and Vertex AI) and handles authentication (the API key).\n",
        "\n",
        "The `gemini-2.0-flash` model has been selected here.\n",
        "\n",
        "**Note**: If you see a `TransportError` on this step, you may need to **🔁 Factory reset** the notebook one time."
      ],
      "metadata": {
        "id": "H_YXCYIKvyZJ"
      }
    },
    {
      "cell_type": "code",
      "source": [
        "client = genai.Client(api_key=GOOGLE_API_KEY)\n",
        "\n",
        "response = client.models.generate_content(\n",
        "    model=\"gemini-2.0-flash\",\n",
        "    contents=\"Explain AI to me like I'm a kid.\")\n",
        "\n",
        "print(response.text)"
      ],
      "metadata": {
        "id": "BV1o0PmcvyJF",
        "trusted": true,
        "execution": {
          "iopub.status.busy": "2025-03-31T10:03:55.05825Z",
          "iopub.execute_input": "2025-03-31T10:03:55.058716Z",
          "iopub.status.idle": "2025-03-31T10:03:57.886958Z",
          "shell.execute_reply.started": "2025-03-31T10:03:55.058668Z",
          "shell.execute_reply": "2025-03-31T10:03:57.885798Z"
        },
        "outputId": "ef124589-a557-4d24-b588-548d0fe49496",
        "colab": {
          "base_uri": "https://localhost:8080/"
        }
      },
      "outputs": [
        {
          "output_type": "stream",
          "name": "stdout",
          "text": [
            "Imagine you have a really smart puppy. You teach it tricks by showing it lots of examples. You show it pictures of cats and tell it \"This is a cat!\" Over and over and over.\n",
            "\n",
            "Eventually, the puppy can see a new picture of a cat and say, \"That's a cat!\" even though it's never seen *that* exact cat before.\n",
            "\n",
            "That's kind of what AI is! It's like a super smart puppy, but instead of learning about cats, it can learn about almost anything!\n",
            "\n",
            "We give computers tons of examples and tell them what to look for.  They learn patterns and then can use those patterns to do things like:\n",
            "\n",
            "*   **Recognize your face on your phone:** You show it lots of pictures of you, and it learns what *you* look like!\n",
            "*   **Suggest videos you might like:** It watches what you like to watch and figures out what other videos are similar.\n",
            "*   **Help your parents drive their car:** It can see things like traffic lights and other cars and help them drive safely!\n",
            "\n",
            "So, AI is just a fancy way of teaching computers to learn things and do clever stuff, just like a really smart puppy!\n",
            "\n"
          ]
        }
      ],
      "execution_count": 5
    },
    {
      "cell_type": "markdown",
      "source": [
        "The response often comes back in markdown format, which you can render directly in this notebook."
      ],
      "metadata": {
        "id": "f60ed9d8ae41"
      }
    },
    {
      "cell_type": "code",
      "source": [
        "Markdown(response.text)"
      ],
      "metadata": {
        "id": "c933e5e460a5",
        "trusted": true,
        "execution": {
          "iopub.status.busy": "2025-03-31T10:03:57.888544Z",
          "iopub.execute_input": "2025-03-31T10:03:57.888876Z",
          "iopub.status.idle": "2025-03-31T10:03:57.897544Z",
          "shell.execute_reply.started": "2025-03-31T10:03:57.888845Z",
          "shell.execute_reply": "2025-03-31T10:03:57.896275Z"
        },
        "colab": {
          "base_uri": "https://localhost:8080/",
          "height": 215
        },
        "outputId": "e53169f2-faa3-4547-f5ac-5c9d16d57727"
      },
      "outputs": [
        {
          "output_type": "execute_result",
          "data": {
            "text/plain": [
              "<IPython.core.display.Markdown object>"
            ],
            "text/markdown": "Imagine you have a really smart puppy. You teach it tricks by showing it lots of examples. You show it pictures of cats and tell it \"This is a cat!\" Over and over and over.\n\nEventually, the puppy can see a new picture of a cat and say, \"That's a cat!\" even though it's never seen *that* exact cat before.\n\nThat's kind of what AI is! It's like a super smart puppy, but instead of learning about cats, it can learn about almost anything!\n\nWe give computers tons of examples and tell them what to look for.  They learn patterns and then can use those patterns to do things like:\n\n*   **Recognize your face on your phone:** You show it lots of pictures of you, and it learns what *you* look like!\n*   **Suggest videos you might like:** It watches what you like to watch and figures out what other videos are similar.\n*   **Help your parents drive their car:** It can see things like traffic lights and other cars and help them drive safely!\n\nSo, AI is just a fancy way of teaching computers to learn things and do clever stuff, just like a really smart puppy!\n"
          },
          "metadata": {},
          "execution_count": 6
        }
      ],
      "execution_count": 6
    },
    {
      "cell_type": "markdown",
      "source": [
        "### Start a chat\n",
        "\n",
        "The previous example uses a single-turn, text-in/text-out structure, but you can also set up a multi-turn chat structure too."
      ],
      "metadata": {
        "id": "byx0pT9ZMW2Q"
      }
    },
    {
      "cell_type": "code",
      "source": [
        "chat = client.chats.create(model='gemini-2.0-flash', history=[])\n",
        "response = chat.send_message('Hello! My name is Zlork.')\n",
        "print(response.text)"
      ],
      "metadata": {
        "id": "lV_S5ZL5MidD",
        "trusted": true,
        "execution": {
          "iopub.status.busy": "2025-03-31T10:03:57.898888Z",
          "iopub.execute_input": "2025-03-31T10:03:57.899193Z",
          "iopub.status.idle": "2025-03-31T10:03:58.463778Z",
          "shell.execute_reply.started": "2025-03-31T10:03:57.899163Z",
          "shell.execute_reply": "2025-03-31T10:03:58.462774Z"
        },
        "colab": {
          "base_uri": "https://localhost:8080/"
        },
        "outputId": "545a85f3-a1c5-4193-f457-d084bf3062fa"
      },
      "outputs": [
        {
          "output_type": "stream",
          "name": "stdout",
          "text": [
            "Hello Zlork! It's nice to meet you. How can I help you today?\n",
            "\n"
          ]
        }
      ],
      "execution_count": 7
    },
    {
      "cell_type": "code",
      "source": [
        "response = chat.send_message('Can you tell me something interesting about dinosaurs?')\n",
        "print(response.text)"
      ],
      "metadata": {
        "id": "7b0372c3c64a",
        "trusted": true,
        "execution": {
          "iopub.status.busy": "2025-03-31T10:03:58.465343Z",
          "iopub.execute_input": "2025-03-31T10:03:58.465802Z",
          "iopub.status.idle": "2025-03-31T10:04:00.174979Z",
          "shell.execute_reply.started": "2025-03-31T10:03:58.465753Z",
          "shell.execute_reply": "2025-03-31T10:04:00.173771Z"
        },
        "colab": {
          "base_uri": "https://localhost:8080/"
        },
        "outputId": "945a1a9d-6c8e-4e8a-f5bc-fdfefc6bdb93"
      },
      "outputs": [
        {
          "output_type": "stream",
          "name": "stdout",
          "text": [
            "Okay, here's a fascinating dinosaur fact for you:\n",
            "\n",
            "**Did you know that some dinosaurs had feathers?**\n",
            "\n",
            "While we often picture dinosaurs as scaly reptiles, evidence suggests that many theropods (the group that includes T. Rex and velociraptors) actually had feathers. These feathers weren't necessarily for flight; they could have been used for insulation, display, or even camouflage. Discoveries in China, in particular, have revealed incredibly well-preserved feathered dinosaur fossils. It's changing the way we think about what dinosaurs looked like!\n",
            "\n",
            "Pretty cool, right?\n",
            "\n"
          ]
        }
      ],
      "execution_count": 8
    },
    {
      "cell_type": "markdown",
      "source": [
        "While you have the `chat` object alive, the conversation state\n",
        "persists. Confirm that by asking if it knows the user's name."
      ],
      "metadata": {
        "id": "7owBgquu7FHN"
      }
    },
    {
      "cell_type": "code",
      "source": [
        "response = chat.send_message('Do you remember what my name is?')\n",
        "print(response.text)"
      ],
      "metadata": {
        "id": "d3f9591392a7",
        "trusted": true,
        "execution": {
          "iopub.status.busy": "2025-03-31T10:04:00.178357Z",
          "iopub.execute_input": "2025-03-31T10:04:00.178763Z",
          "iopub.status.idle": "2025-03-31T10:04:00.597558Z",
          "shell.execute_reply.started": "2025-03-31T10:04:00.178728Z",
          "shell.execute_reply": "2025-03-31T10:04:00.596167Z"
        },
        "colab": {
          "base_uri": "https://localhost:8080/"
        },
        "outputId": "b9a02894-8e00-4855-e20d-fd6ce47ca533"
      },
      "outputs": [
        {
          "output_type": "stream",
          "name": "stdout",
          "text": [
            "Yes, Zlork. I remember your name.\n",
            "\n"
          ]
        }
      ],
      "execution_count": 9
    },
    {
      "cell_type": "markdown",
      "source": [
        "**OpenAI** - test how same prompts do with OpenAI"
      ],
      "metadata": {
        "id": "soyoIk74vAXp"
      }
    },
    {
      "cell_type": "code",
      "source": [
        "openai_client = OpenAI(api_key=OPENAI_API_KEY)"
      ],
      "metadata": {
        "id": "HQu6Ev85viL8"
      },
      "execution_count": 10,
      "outputs": []
    },
    {
      "cell_type": "code",
      "source": [
        "openai_response = openai_client.responses.create(\n",
        "    model='gpt-4.1',\n",
        "    input =\"Explain AI to me like I'm a kid.\"\n",
        ")\n",
        "\n",
        "print(openai_response.output_text)"
      ],
      "metadata": {
        "colab": {
          "base_uri": "https://localhost:8080/"
        },
        "id": "WFl4CKuVyb6Z",
        "outputId": "9a362940-beec-4ee4-e155-6f786d954366"
      },
      "execution_count": 11,
      "outputs": [
        {
          "output_type": "stream",
          "name": "stdout",
          "text": [
            "Okay! Imagine you have a really smart robot friend. This friend is called **AI**, which stands for **Artificial Intelligence**. \n",
            "\n",
            "AI can't play outside or eat ice cream, but it can **learn things** and **help you with tasks**. For example, it can answer questions, help you find your favorite cartoon, or even draw pictures for you.\n",
            "\n",
            "It learns by looking at lots and lots of examples. Just like how you learn how to draw by copying pictures or how you learn words by listening to people talk, AI learns from information we give it.\n",
            "\n",
            "So, AI is like a super helpful clever robot brain that can help you with many things—just like a friendly assistant!\n"
          ]
        }
      ]
    },
    {
      "cell_type": "code",
      "source": [
        "Markdown(openai_response.output_text)"
      ],
      "metadata": {
        "colab": {
          "base_uri": "https://localhost:8080/",
          "height": 151
        },
        "id": "wIQ_QtVP9AzI",
        "outputId": "2aa307ce-e7e1-4be2-c6c1-a28d1dc59c29"
      },
      "execution_count": 12,
      "outputs": [
        {
          "output_type": "execute_result",
          "data": {
            "text/plain": [
              "<IPython.core.display.Markdown object>"
            ],
            "text/markdown": "Okay! Imagine you have a really smart robot friend. This friend is called **AI**, which stands for **Artificial Intelligence**. \n\nAI can't play outside or eat ice cream, but it can **learn things** and **help you with tasks**. For example, it can answer questions, help you find your favorite cartoon, or even draw pictures for you.\n\nIt learns by looking at lots and lots of examples. Just like how you learn how to draw by copying pictures or how you learn words by listening to people talk, AI learns from information we give it.\n\nSo, AI is like a super helpful clever robot brain that can help you with many things—just like a friendly assistant!"
          },
          "metadata": {},
          "execution_count": 12
        }
      ]
    },
    {
      "cell_type": "markdown",
      "source": [
        "Start a Chat in OpenAI"
      ],
      "metadata": {
        "id": "mJfTmo0P9k-N"
      }
    },
    {
      "cell_type": "markdown",
      "source": [
        "**Manually manage conversation state**"
      ],
      "metadata": {
        "id": "KvpcWSTaDtBs"
      }
    },
    {
      "cell_type": "code",
      "source": [
        "openai_chat_history = [\n",
        "    {\n",
        "        \"role\": \"user\",\n",
        "        \"content\": \"tell me a joke\"\n",
        "    }\n",
        "]\n",
        "\n",
        "response = openai_client.responses.create(\n",
        "    model=\"gpt-4o-mini\",\n",
        "    input=openai_chat_history,\n",
        "    store = False\n",
        ")\n",
        "\n",
        "print(response.output_text)"
      ],
      "metadata": {
        "colab": {
          "base_uri": "https://localhost:8080/"
        },
        "id": "E0ztszNB9Lkl",
        "outputId": "a7ff174c-ac43-45f0-df7d-ccd0b29c9021"
      },
      "execution_count": 13,
      "outputs": [
        {
          "output_type": "stream",
          "name": "stdout",
          "text": [
            "Why don't skeletons fight each other?\n",
            "\n",
            "They don't have the guts!\n"
          ]
        }
      ]
    },
    {
      "cell_type": "code",
      "source": [
        "# Add the response to the conversation\n",
        "openai_chat_history += [{\"role\": el.role, \"content\": el.content} for el in response.output]\n",
        "\n",
        "openai_chat_history.append({ \"role\": \"user\", \"content\": \"tell me another\" })\n",
        "\n",
        "second_response = openai_client.responses.create(\n",
        "    model=\"gpt-4o-mini\",\n",
        "    input=openai_chat_history,\n",
        "    store=False\n",
        ")\n",
        "\n",
        "print(second_response.output_text)"
      ],
      "metadata": {
        "colab": {
          "base_uri": "https://localhost:8080/"
        },
        "id": "olM7k-vxCvS3",
        "outputId": "d5425988-bf93-4567-a72e-e3ebedf1efcb"
      },
      "execution_count": 14,
      "outputs": [
        {
          "output_type": "stream",
          "name": "stdout",
          "text": [
            "Why did the scarecrow win an award?\n",
            "\n",
            "Because he was outstanding in his field!\n"
          ]
        }
      ]
    },
    {
      "cell_type": "code",
      "source": [
        "chat_response = openai_client.responses.create(\n",
        "    model='gpt-4.1',\n",
        "    input = 'Hello! My name is Zlork.'\n",
        "  )\n",
        "\n",
        "print(chat_response.output_text)"
      ],
      "metadata": {
        "colab": {
          "base_uri": "https://localhost:8080/"
        },
        "id": "bxBGTQ0iFCcv",
        "outputId": "6762fc9f-dce3-45cc-8422-d13269a9366b"
      },
      "execution_count": 15,
      "outputs": [
        {
          "output_type": "stream",
          "name": "stdout",
          "text": [
            "Hello, Zlork! It's great to meet you. How can I assist you today? 😊\n"
          ]
        }
      ]
    },
    {
      "cell_type": "code",
      "source": [
        "chat_response = openai_client.responses.create(\n",
        "   model='gpt-4.1',\n",
        "   previous_response_id=chat_response.id,\n",
        "    input = 'Can you tell me something interesting about dinosaurs?'\n",
        "  )\n",
        "print(chat_response.output_text)"
      ],
      "metadata": {
        "colab": {
          "base_uri": "https://localhost:8080/"
        },
        "id": "Wt2o_UybF5uP",
        "outputId": "280fdf7d-9def-4c82-a428-695645bc63d0"
      },
      "execution_count": 16,
      "outputs": [
        {
          "output_type": "stream",
          "name": "stdout",
          "text": [
            "Absolutely, Zlork! Dinosaurs are fascinating creatures with many interesting facts. Here’s one you might enjoy:\n",
            "\n",
            "**Some dinosaurs had feathers!**  \n",
            "While we often picture dinosaurs as giant, scaly reptiles, many species, especially among the theropod group (which includes **Velociraptor** and even **Tyrannosaurus rex** in some stages of their lives), actually had feathers. These feathers might have been used for insulation, display, or even gliding and flight in some smaller species. In fact, modern birds are considered living dinosaurs—they evolved from small, feathered theropods!\n",
            "\n",
            "If you want to know more cool facts about a specific dinosaur, just let me know which one!\n"
          ]
        }
      ]
    },
    {
      "cell_type": "code",
      "source": [
        "chat_response = openai_client.responses.create(\n",
        "   model='gpt-4.1',\n",
        "   previous_response_id=chat_response.id,\n",
        "    input = 'Do you remember what my name is?'\n",
        "  )\n",
        "print(chat_response.output_text)"
      ],
      "metadata": {
        "colab": {
          "base_uri": "https://localhost:8080/"
        },
        "id": "qof6uA-NHH9c",
        "outputId": "1daae3a0-54ab-40a9-dcf8-efd3ee84a37e"
      },
      "execution_count": 17,
      "outputs": [
        {
          "output_type": "stream",
          "name": "stdout",
          "text": [
            "Yes, your name is Zlork! If there’s anything else you’d like to talk about or if you have more questions—dinosaur-related or not—just let me know! 😊\n"
          ]
        }
      ]
    },
    {
      "cell_type": "markdown",
      "source": [
        "**OpenAI APIs for conversation state**"
      ],
      "metadata": {
        "id": "76meNrwDD_BJ"
      }
    },
    {
      "cell_type": "code",
      "source": [
        "from openai import OpenAI\n",
        "\n",
        "\n",
        "response = openai_client.responses.create(\n",
        "    model=\"gpt-4o-mini\",\n",
        "    input=\"tell me a joke\",\n",
        ")\n",
        "print(response.output_text)\n",
        "\n",
        "second_response = openai_client.responses.create(\n",
        "    model=\"gpt-4o-mini\",\n",
        "    previous_response_id=response.id,\n",
        "    input=[{\"role\": \"user\", \"content\": \"explain why this is funny.\"}],\n",
        ")\n",
        "print(second_response.output_text)"
      ],
      "metadata": {
        "colab": {
          "base_uri": "https://localhost:8080/"
        },
        "id": "bMlf3ta5EHR8",
        "outputId": "d0cd75f2-89d4-43d1-c789-47f6763f8dc3"
      },
      "execution_count": 18,
      "outputs": [
        {
          "output_type": "stream",
          "name": "stdout",
          "text": [
            "Why don't scientists trust atoms?\n",
            "\n",
            "Because they make up everything!\n",
            "The joke plays on a double meaning. \n",
            "\n",
            "1. **Literal Meaning**: Atoms are the basic building blocks of matter, meaning everything in the physical world is made up of atoms.\n",
            "  \n",
            "2. **Figurative Meaning**: The phrase \"make up\" can also mean to invent or to fabricate stories, suggesting untrustworthiness.\n",
            "\n",
            "So, the humor comes from the clever wordplay that connects these two meanings, creating an unexpected twist that’s both educational and amusing.\n"
          ]
        }
      ]
    },
    {
      "cell_type": "markdown",
      "source": [
        "### Choose a model\n",
        "\n",
        "The Gemini API provides access to a number of models from the Gemini model family. Read about the available models and their capabilities on the [model overview page](https://ai.google.dev/gemini-api/docs/models/gemini).\n",
        "\n",
        "In this step you'll use the API to list all of the available models."
      ],
      "metadata": {
        "id": "2KAjpr1200sW"
      }
    },
    {
      "cell_type": "code",
      "source": [
        "for model in client.models.list():\n",
        "  print(model.name)"
      ],
      "metadata": {
        "id": "uUUZa2uq2jDm",
        "trusted": true,
        "execution": {
          "iopub.status.busy": "2025-03-31T10:04:00.599246Z",
          "iopub.execute_input": "2025-03-31T10:04:00.599723Z",
          "iopub.status.idle": "2025-03-31T10:04:00.631963Z",
          "shell.execute_reply.started": "2025-03-31T10:04:00.599654Z",
          "shell.execute_reply": "2025-03-31T10:04:00.630701Z"
        },
        "colab": {
          "base_uri": "https://localhost:8080/"
        },
        "outputId": "33f46f18-23b7-4e0b-9d9c-d7be7e90d67a"
      },
      "outputs": [
        {
          "output_type": "stream",
          "name": "stdout",
          "text": [
            "models/chat-bison-001\n",
            "models/text-bison-001\n",
            "models/embedding-gecko-001\n",
            "models/gemini-1.0-pro-vision-latest\n",
            "models/gemini-pro-vision\n",
            "models/gemini-1.5-pro-latest\n",
            "models/gemini-1.5-pro-001\n",
            "models/gemini-1.5-pro-002\n",
            "models/gemini-1.5-pro\n",
            "models/gemini-1.5-flash-latest\n",
            "models/gemini-1.5-flash-001\n",
            "models/gemini-1.5-flash-001-tuning\n",
            "models/gemini-1.5-flash\n",
            "models/gemini-1.5-flash-002\n",
            "models/gemini-1.5-flash-8b\n",
            "models/gemini-1.5-flash-8b-001\n",
            "models/gemini-1.5-flash-8b-latest\n",
            "models/gemini-1.5-flash-8b-exp-0827\n",
            "models/gemini-1.5-flash-8b-exp-0924\n",
            "models/gemini-2.5-pro-exp-03-25\n",
            "models/gemini-2.5-pro-preview-03-25\n",
            "models/gemini-2.5-flash-preview-04-17\n",
            "models/gemini-2.5-flash-preview-04-17-thinking\n",
            "models/gemini-2.5-pro-preview-05-06\n",
            "models/gemini-2.0-flash-exp\n",
            "models/gemini-2.0-flash\n",
            "models/gemini-2.0-flash-001\n",
            "models/gemini-2.0-flash-exp-image-generation\n",
            "models/gemini-2.0-flash-lite-001\n",
            "models/gemini-2.0-flash-lite\n",
            "models/gemini-2.0-flash-preview-image-generation\n",
            "models/gemini-2.0-flash-lite-preview-02-05\n",
            "models/gemini-2.0-flash-lite-preview\n",
            "models/gemini-2.0-pro-exp\n",
            "models/gemini-2.0-pro-exp-02-05\n",
            "models/gemini-exp-1206\n",
            "models/gemini-2.0-flash-thinking-exp-01-21\n",
            "models/gemini-2.0-flash-thinking-exp\n",
            "models/gemini-2.0-flash-thinking-exp-1219\n",
            "models/learnlm-1.5-pro-experimental\n",
            "models/learnlm-2.0-flash-experimental\n",
            "models/gemma-3-1b-it\n",
            "models/gemma-3-4b-it\n",
            "models/gemma-3-12b-it\n",
            "models/gemma-3-27b-it\n",
            "models/embedding-001\n",
            "models/text-embedding-004\n",
            "models/gemini-embedding-exp-03-07\n",
            "models/gemini-embedding-exp\n",
            "models/aqa\n",
            "models/imagen-3.0-generate-002\n",
            "models/gemini-2.0-flash-live-001\n"
          ]
        }
      ],
      "execution_count": 19
    },
    {
      "cell_type": "markdown",
      "source": [
        "The [`models.list`](https://ai.google.dev/api/models#method:-models.list) response also returns additional information about the model's capabilities, like the token limits and supported parameters."
      ],
      "metadata": {
        "id": "rN49kSI54R1v"
      }
    },
    {
      "cell_type": "code",
      "source": [
        "from pprint import pprint\n",
        "\n",
        "for model in client.models.list():\n",
        "  if model.name == 'models/gemini-2.0-flash':\n",
        "    pprint(model.to_json_dict())\n",
        "    break"
      ],
      "metadata": {
        "id": "k7JJ1K6j4Rl8",
        "trusted": true,
        "execution": {
          "iopub.status.busy": "2025-03-31T10:04:00.633411Z",
          "iopub.execute_input": "2025-03-31T10:04:00.633866Z",
          "iopub.status.idle": "2025-03-31T10:04:00.665926Z",
          "shell.execute_reply.started": "2025-03-31T10:04:00.633819Z",
          "shell.execute_reply": "2025-03-31T10:04:00.664681Z"
        },
        "colab": {
          "base_uri": "https://localhost:8080/"
        },
        "outputId": "f6e4484c-8256-488b-a600-6299ed4ddbb5"
      },
      "outputs": [
        {
          "output_type": "stream",
          "name": "stdout",
          "text": [
            "{'description': 'Gemini 2.0 Flash',\n",
            " 'display_name': 'Gemini 2.0 Flash',\n",
            " 'input_token_limit': 1048576,\n",
            " 'name': 'models/gemini-2.0-flash',\n",
            " 'output_token_limit': 8192,\n",
            " 'supported_actions': ['generateContent', 'countTokens', 'createCachedContent'],\n",
            " 'tuned_model_info': {},\n",
            " 'version': '2.0'}\n"
          ]
        }
      ],
      "execution_count": 20
    },
    {
      "cell_type": "code",
      "source": [
        "#List OpenAI models\n",
        "for model in openai_client.models.list():\n",
        "  print(model.id)"
      ],
      "metadata": {
        "colab": {
          "base_uri": "https://localhost:8080/"
        },
        "id": "8tzpEzlNHHEb",
        "outputId": "5bb73880-913b-445d-e26d-a0f1a18ea33e"
      },
      "execution_count": 21,
      "outputs": [
        {
          "output_type": "stream",
          "name": "stdout",
          "text": [
            "gpt-4o-audio-preview-2024-12-17\n",
            "dall-e-3\n",
            "dall-e-2\n",
            "gpt-4o-audio-preview-2024-10-01\n",
            "gpt-4-turbo-preview\n",
            "text-embedding-3-small\n",
            "gpt-4.1-nano\n",
            "gpt-4.1-nano-2025-04-14\n",
            "gpt-4o-realtime-preview-2024-10-01\n",
            "gpt-4o-realtime-preview\n",
            "babbage-002\n",
            "o1-mini-2024-09-12\n",
            "o1-mini\n",
            "gpt-4\n",
            "text-embedding-ada-002\n",
            "chatgpt-4o-latest\n",
            "gpt-4o-mini-audio-preview\n",
            "gpt-4o-audio-preview\n",
            "o1-preview-2024-09-12\n",
            "gpt-4o-mini-realtime-preview\n",
            "gpt-4.1-mini\n",
            "gpt-4o-mini-realtime-preview-2024-12-17\n",
            "gpt-3.5-turbo-instruct-0914\n",
            "gpt-4o-mini-search-preview\n",
            "gpt-4.1-mini-2025-04-14\n",
            "o1\n",
            "gpt-3.5-turbo-16k\n",
            "o1-2024-12-17\n",
            "davinci-002\n",
            "gpt-3.5-turbo-1106\n",
            "gpt-4o-search-preview\n",
            "gpt-3.5-turbo-instruct\n",
            "gpt-3.5-turbo\n",
            "gpt-4o-mini-search-preview-2025-03-11\n",
            "gpt-4-0125-preview\n",
            "gpt-4o-2024-11-20\n",
            "whisper-1\n",
            "gpt-4o-2024-05-13\n",
            "o1-pro\n",
            "o1-pro-2025-03-19\n",
            "o1-preview\n",
            "gpt-4-1106-preview\n",
            "gpt-4-0613\n",
            "text-embedding-3-large\n",
            "gpt-4o-mini-tts\n",
            "gpt-4o-transcribe\n",
            "gpt-4.5-preview\n",
            "gpt-4.5-preview-2025-02-27\n",
            "gpt-4o-search-preview-2025-03-11\n",
            "omni-moderation-2024-09-26\n",
            "o3-mini\n",
            "o3-mini-2025-01-31\n",
            "gpt-image-1\n",
            "tts-1-hd\n",
            "gpt-4o\n",
            "tts-1-hd-1106\n",
            "gpt-4o-mini\n",
            "gpt-4o-2024-08-06\n",
            "gpt-4.1\n",
            "gpt-4.1-2025-04-14\n",
            "gpt-4o-realtime-preview-2024-12-17\n",
            "gpt-4o-mini-2024-07-18\n",
            "gpt-4o-mini-audio-preview-2024-12-17\n",
            "gpt-3.5-turbo-0125\n",
            "gpt-4-turbo\n",
            "tts-1\n",
            "gpt-4-turbo-2024-04-09\n",
            "tts-1-1106\n",
            "gpt-4o-mini-transcribe\n",
            "omni-moderation-latest\n",
            "o4-mini-2025-04-16\n",
            "o4-mini\n",
            "ft:gpt-3.5-turbo-0613:personal::8xHiNl25\n"
          ]
        }
      ]
    },
    {
      "cell_type": "markdown",
      "source": [
        "## Explore generation parameters\n",
        "\n"
      ],
      "metadata": {
        "id": "5rU_UBlZdooM"
      }
    },
    {
      "cell_type": "markdown",
      "source": [
        "### Output length\n",
        "\n",
        "When generating text with an LLM, the output length affects cost and performance. Generating more tokens increases computation, leading to higher energy consumption, latency, and cost.\n",
        "\n",
        "To stop the model from generating tokens past a limit, you can specify the `max_output_tokens` parameter when using the Gemini API. Specifying this parameter does not influence the generation of the output tokens, so the output will not become more stylistically or textually succinct, but it will stop generating tokens once the specified length is reached. Prompt engineering may be required to generate a more complete output for your given limit."
      ],
      "metadata": {
        "id": "G7NfEizeipbW"
      }
    },
    {
      "cell_type": "code",
      "source": [
        "from google.genai import types\n",
        "\n",
        "short_config = types.GenerateContentConfig(max_output_tokens=200)\n",
        "\n",
        "response = client.models.generate_content(\n",
        "    model='gemini-2.0-flash',\n",
        "    config=short_config,\n",
        "    contents='Write a 1000 word essay on the importance of olives in modern society.')\n",
        "\n",
        "print(response.text)"
      ],
      "metadata": {
        "id": "qVf23JsIi9ma",
        "trusted": true,
        "execution": {
          "iopub.status.busy": "2025-03-31T10:04:00.667458Z",
          "iopub.execute_input": "2025-03-31T10:04:00.667882Z",
          "iopub.status.idle": "2025-03-31T10:04:02.147176Z",
          "shell.execute_reply.started": "2025-03-31T10:04:00.667834Z",
          "shell.execute_reply": "2025-03-31T10:04:02.145805Z"
        },
        "colab": {
          "base_uri": "https://localhost:8080/"
        },
        "outputId": "f873b4d1-c418-47fa-ca6f-62939a8b3bf7"
      },
      "outputs": [
        {
          "output_type": "stream",
          "name": "stdout",
          "text": [
            "## The Enduring Olive: A Cornerstone of Culture, Cuisine, and Commerce in Modern Society\n",
            "\n",
            "The olive, a humble drupe cultivated for millennia, continues to be a remarkably important element of modern society. More than just a tasty snack or a source of healthy oil, the olive embodies a rich tapestry of cultural significance, culinary versatility, and economic impact, extending its influence across continents and impacting diverse aspects of contemporary life. From the sun-drenched groves of the Mediterranean to the bustling grocery stores of the West, the olive remains a powerful and enduring symbol of prosperity, peace, and palatable pleasure.\n",
            "\n",
            "Historically, the olive tree (Olea europaea) has been deeply intertwined with the development of civilization, particularly in the Mediterranean region. Its cultivation dates back to the Bronze Age, and its presence permeates the mythology, art, and religious practices of ancient Greece and Rome. The olive branch, a symbol of peace and victory, is a testament to its enduring cultural significance, echoing through history and finding\n"
          ]
        }
      ],
      "execution_count": 22
    },
    {
      "cell_type": "code",
      "source": [
        "#Controlling output length OpenAI\n",
        "response = openai_client.responses.create(\n",
        "    model='gpt-4.1',\n",
        "    max_output_tokens=100,\n",
        "    input = 'Write a 1000 word essay on the importance of olives in modern society.'\n",
        "    )\n",
        "\n",
        "print(response.output_text)"
      ],
      "metadata": {
        "colab": {
          "base_uri": "https://localhost:8080/"
        },
        "id": "01hE6OisMcuL",
        "outputId": "ed9d259c-896d-4089-aa37-f0510c915e52"
      },
      "execution_count": 23,
      "outputs": [
        {
          "output_type": "stream",
          "name": "stdout",
          "text": [
            "**The Importance of Olives in Modern Society**\n",
            "\n",
            "Olives, scientifically known as *Olea europaea*, are among the oldest cultivated trees in the world, with a history stretching back over 6,000 years. Native to the Mediterranean basin, olives and their by-products, particularly olive oil, have woven themselves into the fabric of civilizations. Today, in the 21st century, olives hold profound significance, touching diverse sectors including nutrition, health, economics, culture, and the environment. The\n"
          ]
        }
      ]
    },
    {
      "cell_type": "code",
      "source": [
        "Markdown(response.output_text)"
      ],
      "metadata": {
        "colab": {
          "base_uri": "https://localhost:8080/",
          "height": 104
        },
        "id": "BGpBH9LDN2yu",
        "outputId": "aeba82b7-47d7-422a-995b-e9957bed1738"
      },
      "execution_count": 24,
      "outputs": [
        {
          "output_type": "execute_result",
          "data": {
            "text/plain": [
              "<IPython.core.display.Markdown object>"
            ],
            "text/markdown": "**The Importance of Olives in Modern Society**\n\nOlives, scientifically known as *Olea europaea*, are among the oldest cultivated trees in the world, with a history stretching back over 6,000 years. Native to the Mediterranean basin, olives and their by-products, particularly olive oil, have woven themselves into the fabric of civilizations. Today, in the 21st century, olives hold profound significance, touching diverse sectors including nutrition, health, economics, culture, and the environment. The"
          },
          "metadata": {},
          "execution_count": 24
        }
      ]
    },
    {
      "cell_type": "code",
      "source": [
        "response = client.models.generate_content(\n",
        "    model='gemini-2.0-flash',\n",
        "    config=short_config,\n",
        "    contents='Write a short poem on the importance of olives in modern society.')\n",
        "\n",
        "print(response.text)"
      ],
      "metadata": {
        "id": "W-3kR2F5kdMR",
        "trusted": true,
        "execution": {
          "iopub.status.busy": "2025-03-31T10:04:02.148834Z",
          "iopub.execute_input": "2025-03-31T10:04:02.149272Z",
          "iopub.status.idle": "2025-03-31T10:04:02.932445Z",
          "shell.execute_reply.started": "2025-03-31T10:04:02.149225Z",
          "shell.execute_reply": "2025-03-31T10:04:02.931442Z"
        },
        "colab": {
          "base_uri": "https://localhost:8080/"
        },
        "outputId": "e2699efe-4b43-46f3-c2c0-b6b651f66c47"
      },
      "outputs": [
        {
          "output_type": "stream",
          "name": "stdout",
          "text": [
            "From ancient groves to modern plate,\n",
            "An olive's journey, a twist of fate.\n",
            "Pressed to gold, a liquid gleam,\n",
            "Enriching flavors, a foodie dream.\n",
            "\n",
            "In salads bright, a salty grace,\n",
            "Or tapenade, a vibrant space.\n",
            "A symbol of peace, a healthy bite,\n",
            "The olive's presence, pure and bright.\n",
            "\n"
          ]
        }
      ],
      "execution_count": 25
    },
    {
      "cell_type": "code",
      "source": [
        "#Controlling output length OpenAI\n",
        "response = openai_client.responses.create(\n",
        "    model='gpt-4.1',\n",
        "    max_output_tokens=200,\n",
        "    input = 'Write a short poem on the importance of olives in modern society.'\n",
        "    )\n",
        "\n",
        "print(response.output_text)"
      ],
      "metadata": {
        "colab": {
          "base_uri": "https://localhost:8080/"
        },
        "id": "sb1_PcLUOdig",
        "outputId": "e9487ed6-7342-4b0a-ad22-2f7710eab0ee"
      },
      "execution_count": 26,
      "outputs": [
        {
          "output_type": "stream",
          "name": "stdout",
          "text": [
            "In groves where ancient whispers dwell,  \n",
            "The olive’s fruit, a tale to tell—  \n",
            "Of peace it speaks, of health it brings,  \n",
            "In bowls and jars and savory things.\n",
            "\n",
            "A drop of oil, liquid gold,  \n",
            "On salads bright, or breads of old;  \n",
            "It graces tables far and near,  \n",
            "Uniting friends, reliving cheer.\n",
            "\n",
            "Not just a crop, but symbol true,  \n",
            "Of hope and bonds between the few  \n",
            "Who gather ‘round, and through the years,  \n",
            "Share laughter, stories, even tears.\n",
            "\n",
            "Oh, humble olive, green or black—  \n",
            "You bridge the past, you lead the pack;  \n",
            "In every kitchen’s heart, you stay—  \n",
            "A gift from time, here, every day.\n"
          ]
        }
      ]
    },
    {
      "cell_type": "markdown",
      "source": [
        "Explore with your own prompts. Try a prompt with a restrictive output limit and then adjust the prompt to work within that limit."
      ],
      "metadata": {
        "id": "3ZhDSLB6lqqB"
      }
    },
    {
      "cell_type": "markdown",
      "source": [
        "### Temperature\n",
        "\n",
        "Temperature controls the degree of randomness in token selection. Higher temperatures result in a higher number of candidate tokens from which the next output token is selected, and can produce more diverse results, while lower temperatures have the opposite effect, such that a temperature of 0 results in greedy decoding, selecting the most probable token at each step.\n",
        "\n",
        "Temperature doesn't provide any guarantees of randomness, but it can be used to \"nudge\" the output somewhat."
      ],
      "metadata": {
        "id": "alx-WaAvir_9"
      }
    },
    {
      "cell_type": "code",
      "source": [
        "high_temp_config = types.GenerateContentConfig(temperature=2.0)\n",
        "\n",
        "\n",
        "for _ in range(5):\n",
        "  response = client.models.generate_content(\n",
        "      model='gemini-2.0-flash',\n",
        "      config=high_temp_config,\n",
        "      contents='Pick a random colour... (respond in a single word)')\n",
        "\n",
        "  if response.text:\n",
        "    print(response.text, '-' * 25)"
      ],
      "metadata": {
        "id": "SHraGMzqnZqt",
        "trusted": true,
        "execution": {
          "iopub.status.busy": "2025-03-31T10:04:02.933814Z",
          "iopub.execute_input": "2025-03-31T10:04:02.934124Z",
          "iopub.status.idle": "2025-03-31T10:04:04.178735Z",
          "shell.execute_reply.started": "2025-03-31T10:04:02.934091Z",
          "shell.execute_reply": "2025-03-31T10:04:04.17764Z"
        },
        "colab": {
          "base_uri": "https://localhost:8080/"
        },
        "outputId": "f88fe29e-f7fa-4311-d7e3-a0460ca0ea7b"
      },
      "outputs": [
        {
          "output_type": "stream",
          "name": "stdout",
          "text": [
            "Orange\n",
            " -------------------------\n",
            "Cerulean.\n",
            " -------------------------\n",
            "Magenta\n",
            " -------------------------\n",
            "Purple\n",
            " -------------------------\n",
            "Azure\n",
            " -------------------------\n"
          ]
        }
      ],
      "execution_count": 27
    },
    {
      "cell_type": "code",
      "source": [
        "#OpenAI temperature\n",
        "for _ in range(5):\n",
        "  response = openai_client.responses.create(\n",
        "      model='gpt-4.1',\n",
        "      temperature=2.0,\n",
        "      input ='Pick a random colour... (respond in a single word)')\n",
        "\n",
        "  if response.output_text:\n",
        "    print(response.output_text, '\\n','-' * 25)"
      ],
      "metadata": {
        "colab": {
          "base_uri": "https://localhost:8080/"
        },
        "id": "igGQKLPKPfEi",
        "outputId": "53335698-df9f-4c2a-de8c-8b5b95ff7a00"
      },
      "execution_count": 28,
      "outputs": [
        {
          "output_type": "stream",
          "name": "stdout",
          "text": [
            "Azure \n",
            " -------------------------\n",
            "Turquoise \n",
            " -------------------------\n",
            "Cerulean \n",
            " -------------------------\n",
            "Turquoise \n",
            " -------------------------\n",
            "Turquoise \n",
            " -------------------------\n"
          ]
        }
      ]
    },
    {
      "cell_type": "markdown",
      "source": [
        "Now try the same prompt with temperature set to zero. Note that the output is not completely deterministic, as other parameters affect token selection, but the results will tend to be more stable."
      ],
      "metadata": {
        "id": "z3J4pCTuof7e"
      }
    },
    {
      "cell_type": "code",
      "source": [
        "low_temp_config = types.GenerateContentConfig(temperature=0.0)\n",
        "\n",
        "for _ in range(5):\n",
        "  response = client.models.generate_content(\n",
        "      model='gemini-2.0-flash',\n",
        "      config=low_temp_config,\n",
        "      contents='Pick a random colour... (respond in a single word)')\n",
        "\n",
        "  if response.text:\n",
        "    print(response.text, '-' * 25)"
      ],
      "metadata": {
        "id": "clymkWv-PfUZ",
        "trusted": true,
        "execution": {
          "iopub.status.busy": "2025-03-31T10:04:04.180253Z",
          "iopub.execute_input": "2025-03-31T10:04:04.181194Z",
          "iopub.status.idle": "2025-03-31T10:04:05.38966Z",
          "shell.execute_reply.started": "2025-03-31T10:04:04.181138Z",
          "shell.execute_reply": "2025-03-31T10:04:05.388259Z"
        },
        "colab": {
          "base_uri": "https://localhost:8080/"
        },
        "outputId": "30d3a44e-773a-46e0-a6f7-d7d9c403ca24"
      },
      "outputs": [
        {
          "output_type": "stream",
          "name": "stdout",
          "text": [
            "Azure\n",
            " -------------------------\n",
            "Azure\n",
            " -------------------------\n",
            "Azure\n",
            " -------------------------\n",
            "Azure\n",
            " -------------------------\n",
            "Azure\n",
            " -------------------------\n"
          ]
        }
      ],
      "execution_count": 29
    },
    {
      "cell_type": "code",
      "source": [
        "#OpenAI temperature\n",
        "for _ in range(5):\n",
        "  response = openai_client.responses.create(\n",
        "      model='gpt-4.1',\n",
        "      temperature=0.0,\n",
        "      input ='Pick a random colour... (respond in a single word)')\n",
        "\n",
        "  if response.output_text:\n",
        "    print(response.output_text, '\\n','-' * 25)"
      ],
      "metadata": {
        "colab": {
          "base_uri": "https://localhost:8080/"
        },
        "id": "fBf7ih5TRYw2",
        "outputId": "12a87b18-c93f-4589-a328-18455a790d89"
      },
      "execution_count": 30,
      "outputs": [
        {
          "output_type": "stream",
          "name": "stdout",
          "text": [
            "Turquoise \n",
            " -------------------------\n",
            "Turquoise \n",
            " -------------------------\n",
            "Turquoise \n",
            " -------------------------\n",
            "Turquoise \n",
            " -------------------------\n",
            "Turquoise \n",
            " -------------------------\n"
          ]
        }
      ]
    },
    {
      "cell_type": "markdown",
      "source": [
        "### Top-P\n",
        "\n",
        "Like temperature, the top-P parameter is also used to control the diversity of the model's output.\n",
        "\n",
        "Top-P defines the probability threshold that, once cumulatively exceeded, tokens stop being selected as candidates. A top-P of 0 is typically equivalent to greedy decoding, and a top-P of 1 typically selects every token in the model's vocabulary.\n",
        "\n",
        "You may also see top-K referenced in LLM literature. Top-K is not configurable in the Gemini 2.0 series of models, but can be changed in older models. Top-K is a positive integer that defines the number of most probable tokens from which to select the output token. A top-K of 1 selects a single token, performing greedy decoding.\n",
        "\n",
        "\n",
        "Run this example a number of times, change the settings and observe the change in output."
      ],
      "metadata": {
        "id": "St5nt3vzitsZ"
      }
    },
    {
      "cell_type": "code",
      "source": [
        "model_config = types.GenerateContentConfig(\n",
        "    # These are the default values for gemini-2.0-flash.\n",
        "    temperature=1.0,\n",
        "    top_p=0.95,\n",
        ")\n",
        "\n",
        "story_prompt = \"You are a creative writer. Write a short story about a cat who goes on an adventure.\"\n",
        "response = client.models.generate_content(\n",
        "    model='gemini-2.0-flash',\n",
        "    config=model_config,\n",
        "    contents=story_prompt)\n",
        "\n",
        "print(response.text)"
      ],
      "metadata": {
        "id": "lPlzpEavUV8F",
        "trusted": true,
        "execution": {
          "iopub.status.busy": "2025-03-31T10:04:05.39091Z",
          "iopub.execute_input": "2025-03-31T10:04:05.391231Z",
          "iopub.status.idle": "2025-03-31T10:04:10.684509Z",
          "shell.execute_reply.started": "2025-03-31T10:04:05.391199Z",
          "shell.execute_reply": "2025-03-31T10:04:10.683377Z"
        },
        "colab": {
          "base_uri": "https://localhost:8080/"
        },
        "outputId": "ee06f31d-e067-49b3-c559-6e96035a482a"
      },
      "outputs": [
        {
          "output_type": "stream",
          "name": "stdout",
          "text": [
            "Clementine was, by all accounts, a creature of habit. Every morning, she'd stretch languidly, demanding breakfast precisely at seven. Every afternoon, she'd nap in the sunbeam that painted a warm rectangle on the living room rug. Every evening, she'd weave through her human, Eleanor's, legs, purring a rumbling symphony. Life in Eleanor's cottage was predictable, comfortable, and utterly, gloriously, boring.\n",
            "\n",
            "One blustery Tuesday, Clementine decided she'd had enough. The wind howled, rattling the windows like impatient ghosts, and a thrill, a shiver of rebellion, shot through her ginger fur. She watched a rogue leaf, a vibrant crimson maple, pirouette past the window, beckoning. That was it. Adventure called.\n",
            "\n",
            "Slinking to the back door, Clementine waited for Eleanor to open it. A strategic leg-rub, a calculatedly innocent meow, and Eleanor, oblivious to the simmering rebellion, obliged. \"Just for a minute, Clem,\" she warned, bending to scratch behind Clementine's ears.\n",
            "\n",
            "Clementine wasted no time. Freedom tasted like damp earth and the promise of the unknown. She slipped through the gate in the picket fence and into the whispering woods.\n",
            "\n",
            "The woods were a symphony of scents and sounds. The musty aroma of decaying leaves mingled with the sharp tang of pine. Squirrels chattered secrets from the branches, and birdsong painted the air with vibrant melodies. Clementine, normally a pampered house cat, felt a primal instinct awaken within her. She was a hunter, a wanderer, a creature of the wild.\n",
            "\n",
            "She stalked a plump robin, its red breast a beacon against the drab undergrowth. She chased a mischievous butterfly with tattered wings, its erratic flight a dizzying dance. She even braved the muddy banks of a babbling brook, lapping at the cool, clear water with delicate flicks of her pink tongue.\n",
            "\n",
            "Deeper and deeper she ventured, the familiar landmarks of Eleanor's garden fading into a tapestry of towering trees and tangled undergrowth. The wind picked up, whipping through the branches, creating a mournful, almost lonely, sound.\n",
            "\n",
            "Suddenly, a rustle in the leaves. Clementine froze, her fur prickling. A pair of yellow eyes gleamed from the shadows. A fox.\n",
            "\n",
            "Fear, cold and sharp, pierced through her newfound bravado. The fox was bigger, stronger, a predator in its natural domain. She remembered Eleanor's warnings about the dangers lurking beyond the garden fence.\n",
            "\n",
            "Clementine, for the first time that day, wished she was back in her sunbeam.\n",
            "\n",
            "She flattened herself against the ground, hoping to disappear into the leaf litter. The fox took a step closer.\n",
            "\n",
            "Then, a diversion. A raucous squawk erupted from above. A blue jay, a feathered fury, dive-bombed the fox, pecking at its head. The fox, momentarily distracted, snapped at the air, giving Clementine the opportunity she needed.\n",
            "\n",
            "She bolted.\n",
            "\n",
            "Fear lent her wings. She raced through the undergrowth, dodging roots and leaping over fallen branches. The fox, momentarily disoriented, was left behind.\n",
            "\n",
            "Finally, breathless and trembling, she stumbled back into familiar territory. She recognized the twisted oak tree at the edge of Eleanor's property. Sobbing, ragged breaths escaped her as she raced back through the gate.\n",
            "\n",
            "Eleanor was frantic, calling her name. \"Clementine! Where have you been?\"\n",
            "\n",
            "Clementine rushed to her, burying her face in Eleanor's legs, purring with a desperate intensity she hadn't known she possessed. Eleanor scooped her up, holding her close.\n",
            "\n",
            "That night, curled up in her favorite armchair, Clementine dreamt of rustling leaves, gleaming eyes, and the terrifying thrill of the wild. The next morning, she demanded her breakfast precisely at seven. And the afternoon sunbeam on the living room rug felt warmer and more welcoming than ever before.\n",
            "\n",
            "Clementine had tasted adventure, and though she had survived, she decided, with a contented sigh, that home, and a good sunbeam, were adventure enough. For now, at least.\n",
            "\n"
          ]
        }
      ],
      "execution_count": null
    },
    {
      "cell_type": "code",
      "source": [
        "#OpenAI temperature\n",
        "\n",
        "response = openai_client.responses.create(\n",
        "      model='gpt-4.1',\n",
        "      temperature=1.0,\n",
        "      top_p=0.95,\n",
        "      input ='You are a creative writer. Write a short story about a cat who goes on an adventure.')\n",
        "\n",
        "print(response.output_text)\n",
        "\n"
      ],
      "metadata": {
        "colab": {
          "base_uri": "https://localhost:8080/"
        },
        "id": "RDjFGaf1SWsY",
        "outputId": "15cc2488-d3c5-46dd-9756-f5931c1a5402"
      },
      "execution_count": null,
      "outputs": [
        {
          "output_type": "stream",
          "name": "stdout",
          "text": [
            "In the sun-dappled alley behind the blue house on Maple Street lived a sleek black cat named Whiskers. He was a curious sort, with eyes like polished copper coins and a tail that twitched at the faintest flutter of a moth. Whiskers had explored every rooftop, every nook and cranny in the neighborhood—at least, he thought he had.\n",
            "\n",
            "One bright morning, as the robins chattered and the dew still glistened on the grass, Whiskers spotted something unusual near the garden fence: a tiny, golden key lying beside a dandelion. No human scent lingered on it, only a faint aroma of wildflowers and something ancient, like old parchment.\n",
            "\n",
            "Whiskers batted the key curiously, and as he did, a strange breeze ruffled his fur. With a flick of his tail, he followed the scent, squeezing through a gap he’d never noticed before. On the other side, the alley melted away, and Whiskers found himself in a sunlit meadow where the grass hummed with the sound of a thousand hidden insects.\n",
            "\n",
            "There, in the very center, stood a door, freestanding and covered in carvings of moons, stars, and fish-shaped clouds. Hanging from the doorknob was a note: \"For the most curious cat.\"\n",
            "\n",
            "Whiskers, always up for a challenge, slipped the golden key into the lock. The door creaked open, and he leaped through.\n",
            "\n",
            "Beyond was a world unlike any Whiskers had ever seen. The trees wore coats of blue and violet, rivers shimmered with sparkling fish that leapt and laughed, and mice in tiny waistcoats tipped their hats as he passed. Whiskers explored enchanted forests, helped a hedgehog find his lost spectacles, and raced dragonflies through wildflower fields.\n",
            "\n",
            "At twilight, as fireflies began to light up the twilight with glimmers of gold, Whiskers found his way back to the magical door. He looked back fondly at his new friends—promising to visit again. With one last flick of his tail, he slipped through and emerged, once more, in the familiar backyard, just in time for supper.\n",
            "\n",
            "From that day on, Whiskers was known as the most adventurous cat on Maple Street. And every so often, when the wind blew just right, he would vanish through the garden fence—off to explore a world that belonged only to the bravest, most curious cats.\n"
          ]
        }
      ]
    },
    {
      "cell_type": "markdown",
      "source": [
        "## Prompting\n",
        "\n",
        "This section contains some prompts from the chapter for you to try out directly in the API. Try changing the text here to see how each prompt performs with different instructions, more examples, or any other changes you can think of."
      ],
      "metadata": {
        "id": "rMrYs1koY6DX"
      }
    },
    {
      "cell_type": "markdown",
      "source": [
        "### Zero-shot\n",
        "\n",
        "Zero-shot prompts are prompts that describe the request for the model directly.\n",
        "\n",
        "<table align=left>\n",
        "  <td>\n",
        "    <a target=\"_blank\" href=\"https://aistudio.google.com/prompts/1gzKKgDHwkAvexG5Up0LMtl1-6jKMKe4g\"><img src=\"https://ai.google.dev/site-assets/images/marketing/home/icon-ais.png\" style=\"height: 24px\" height=24/> Open in AI Studio</a>\n",
        "  </td>\n",
        "</table>"
      ],
      "metadata": {
        "id": "hhj_tQidZJP7"
      }
    },
    {
      "cell_type": "code",
      "source": [
        "model_config = types.GenerateContentConfig(\n",
        "    temperature=0.1,\n",
        "    top_p=1,\n",
        "    max_output_tokens=5,\n",
        ")\n",
        "\n",
        "zero_shot_prompt = \"\"\"Classify movie reviews as POSITIVE, NEUTRAL or NEGATIVE.\n",
        "Review: \"Her\" is a disturbing study revealing the direction\n",
        "humanity is headed if AI is allowed to keep evolving,\n",
        "unchecked. I wish there were more movies like this masterpiece.\n",
        "Sentiment: \"\"\"\n",
        "\n",
        "response = client.models.generate_content(\n",
        "    model='gemini-2.0-flash',\n",
        "    config=model_config,\n",
        "    contents=zero_shot_prompt)\n",
        "\n",
        "print(response.text)"
      ],
      "metadata": {
        "id": "1_t-cwnDZzbH",
        "trusted": true,
        "execution": {
          "iopub.status.busy": "2025-03-31T10:04:10.685842Z",
          "iopub.execute_input": "2025-03-31T10:04:10.686115Z",
          "iopub.status.idle": "2025-03-31T10:05:18.675235Z",
          "shell.execute_reply.started": "2025-03-31T10:04:10.686088Z",
          "shell.execute_reply": "2025-03-31T10:05:18.674173Z"
        },
        "colab": {
          "base_uri": "https://localhost:8080/"
        },
        "outputId": "e96b8cf3-981a-4ac6-f6e2-ac603b405dc2"
      },
      "outputs": [
        {
          "output_type": "stream",
          "name": "stdout",
          "text": [
            "POSITIVE\n",
            "\n"
          ]
        }
      ],
      "execution_count": null
    },
    {
      "cell_type": "code",
      "source": [
        "#OpenAI zero_shot_prompt\n",
        "zero_shot_prompt = \"\"\"Classify movie reviews as POSITIVE, NEUTRAL or NEGATIVE.\n",
        "Review: \"Her\" is a disturbing study revealing the direction\n",
        "humanity is headed if AI is allowed to keep evolving,\n",
        "unchecked. I wish there were more movies like this masterpiece.\n",
        "Sentiment: \"\"\"\n",
        "\n",
        "response = openai_client.responses.create(\n",
        "    model='gpt-4.1',\n",
        "    temperature = 0.1,\n",
        "    top_p = 1,\n",
        "    input=zero_shot_prompt)\n",
        "\n",
        "print(response.output_text)"
      ],
      "metadata": {
        "colab": {
          "base_uri": "https://localhost:8080/"
        },
        "id": "GSDSEz0k1FQx",
        "outputId": "0adc4c84-d63f-4445-8b73-38aadb6d1372"
      },
      "execution_count": null,
      "outputs": [
        {
          "output_type": "stream",
          "name": "stdout",
          "text": [
            "Sentiment: POSITIVE\n"
          ]
        }
      ]
    },
    {
      "cell_type": "markdown",
      "source": [
        "#### Enum mode\n",
        "\n",
        "The models are trained to generate text, and while the Gemini 2.0 models are great at following instructions, other models can sometimes produce more text than you may wish for. In the preceding example, the model will output the label, but sometimes it can include a preceding \"Sentiment\" label, and without an output token limit, it may also add explanatory text afterwards. See [this prompt in AI Studio](https://aistudio.google.com/prompts/1gzKKgDHwkAvexG5Up0LMtl1-6jKMKe4g) for an example.\n",
        "\n",
        "The Gemini API has an [Enum mode](https://github.com/google-gemini/cookbook/blob/main/quickstarts/Enum.ipynb) feature that allows you to constrain the output to a fixed set of values."
      ],
      "metadata": {
        "id": "3b5568bdeb11"
      }
    },
    {
      "cell_type": "code",
      "source": [
        "import enum\n",
        "\n",
        "class Sentiment(enum.Enum):\n",
        "    POSITIVE = \"positive\"\n",
        "    NEUTRAL = \"neutral\"\n",
        "    NEGATIVE = \"negative\"\n",
        "\n",
        "\n",
        "response = client.models.generate_content(\n",
        "    model='gemini-2.0-flash',\n",
        "    config=types.GenerateContentConfig(\n",
        "        response_mime_type=\"text/x.enum\",\n",
        "        response_schema=Sentiment\n",
        "    ),\n",
        "    contents=zero_shot_prompt\n",
        "    )\n",
        "\n",
        "print(response.text)"
      ],
      "metadata": {
        "id": "ad118a56c598",
        "trusted": true,
        "execution": {
          "iopub.status.busy": "2025-03-31T10:05:18.67686Z",
          "iopub.execute_input": "2025-03-31T10:05:18.677294Z",
          "iopub.status.idle": "2025-03-31T10:05:19.165251Z",
          "shell.execute_reply.started": "2025-03-31T10:05:18.677246Z",
          "shell.execute_reply": "2025-03-31T10:05:19.164026Z"
        },
        "colab": {
          "base_uri": "https://localhost:8080/"
        },
        "outputId": "35136edc-9f5c-4e56-8124-bf38346a75a6"
      },
      "outputs": [
        {
          "output_type": "stream",
          "name": "stdout",
          "text": [
            "positive\n"
          ]
        }
      ],
      "execution_count": null
    },
    {
      "cell_type": "code",
      "source": [],
      "metadata": {
        "colab": {
          "base_uri": "https://localhost:8080/"
        },
        "id": "R6To83_7MogR",
        "outputId": "3a8f1028-4d92-42d6-b3b0-d21dd8959332"
      },
      "execution_count": null,
      "outputs": [
        {
          "output_type": "stream",
          "name": "stdout",
          "text": [
            "Sentiment: POSITIVE\n",
            "\n",
            "Explanation: Despite describing the film as \"disturbing,\" the reviewer calls it a \"masterpiece\" and expresses a wish for more movies like it, indicating strong approval.\n"
          ]
        }
      ]
    },
    {
      "cell_type": "markdown",
      "source": [
        "When using constrained output like an enum, the Python SDK will attempt to convert the model's text response into a Python object automatically. It's stored in the `response.parsed` field."
      ],
      "metadata": {
        "id": "3rjzTFC67FHa"
      }
    },
    {
      "cell_type": "code",
      "source": [
        "enum_response = response.parsed\n",
        "print(enum_response)\n",
        "print(type(enum_response))"
      ],
      "metadata": {
        "trusted": true,
        "execution": {
          "iopub.status.busy": "2025-03-31T10:05:19.166944Z",
          "iopub.execute_input": "2025-03-31T10:05:19.167261Z",
          "iopub.status.idle": "2025-03-31T10:05:19.173273Z",
          "shell.execute_reply.started": "2025-03-31T10:05:19.167229Z",
          "shell.execute_reply": "2025-03-31T10:05:19.171617Z"
        },
        "id": "8k8PQ2IF7FHa",
        "colab": {
          "base_uri": "https://localhost:8080/"
        },
        "outputId": "6488f866-e76b-40c6-d64f-f0344b1367b1"
      },
      "outputs": [
        {
          "output_type": "stream",
          "name": "stdout",
          "text": [
            "Sentiment.POSITIVE\n",
            "<enum 'Sentiment'>\n"
          ]
        }
      ],
      "execution_count": null
    },
    {
      "cell_type": "markdown",
      "source": [
        "### One-shot and few-shot\n",
        "\n",
        "Providing an example of the expected response is known as a \"one-shot\" prompt. When you provide multiple examples, it is a \"few-shot\" prompt.\n",
        "\n",
        "<table align=left>\n",
        "  <td>\n",
        "    <a target=\"_blank\" href=\"https://aistudio.google.com/prompts/1jjWkjUSoMXmLvMJ7IzADr_GxHPJVV2bg\"><img src=\"https://ai.google.dev/site-assets/images/marketing/home/icon-ais.png\" style=\"height: 24px\" height=24/> Open in AI Studio</a>\n",
        "  </td>\n",
        "</table>\n"
      ],
      "metadata": {
        "id": "0udiSwNbv45W"
      }
    },
    {
      "cell_type": "code",
      "source": [
        "few_shot_prompt = \"\"\"Parse a customer's pizza order into valid JSON:\n",
        "\n",
        "EXAMPLE:\n",
        "I want a small pizza with cheese, tomato sauce, and pepperoni.\n",
        "JSON Response:\n",
        "```\n",
        "{\n",
        "\"size\": \"small\",\n",
        "\"type\": \"normal\",\n",
        "\"ingredients\": [\"cheese\", \"tomato sauce\", \"pepperoni\"]\n",
        "}\n",
        "```\n",
        "\n",
        "EXAMPLE:\n",
        "Can I get a large pizza with tomato sauce, basil and mozzarella\n",
        "JSON Response:\n",
        "```\n",
        "{\n",
        "\"size\": \"large\",\n",
        "\"type\": \"normal\",\n",
        "\"ingredients\": [\"tomato sauce\", \"basil\", \"mozzarella\"]\n",
        "}\n",
        "```\n",
        "\n",
        "ORDER:\n",
        "\"\"\"\n",
        "\n",
        "customer_order = \"Give me a large with cheese & pineapple\"\n",
        "\n",
        "response = client.models.generate_content(\n",
        "    model='gemini-2.0-flash',\n",
        "    config=types.GenerateContentConfig(\n",
        "        temperature=0.1,\n",
        "        top_p=1,\n",
        "        max_output_tokens=250,\n",
        "    ),\n",
        "    contents=[few_shot_prompt, customer_order])\n",
        "\n",
        "print(response.text)"
      ],
      "metadata": {
        "id": "hd4mVUukwOKZ",
        "trusted": true,
        "execution": {
          "iopub.status.busy": "2025-03-31T10:05:19.175026Z",
          "iopub.execute_input": "2025-03-31T10:05:19.17557Z",
          "iopub.status.idle": "2025-03-31T10:05:19.707971Z",
          "shell.execute_reply.started": "2025-03-31T10:05:19.175463Z",
          "shell.execute_reply": "2025-03-31T10:05:19.706895Z"
        },
        "colab": {
          "base_uri": "https://localhost:8080/"
        },
        "outputId": "c62bc48d-7ba8-4448-88e5-420e6dbf870e"
      },
      "outputs": [
        {
          "output_type": "stream",
          "name": "stdout",
          "text": [
            "```json\n",
            "{\n",
            "\"size\": \"large\",\n",
            "\"type\": \"normal\",\n",
            "\"ingredients\": [\"cheese\", \"pineapple\"]\n",
            "}\n",
            "```\n",
            "\n"
          ]
        }
      ],
      "execution_count": 31
    },
    {
      "cell_type": "code",
      "source": [
        "\n",
        "openai_few_shot_prompt = \"\"\"\n",
        "# Identity\n",
        "\n",
        "You're a server at a resturant that helps people make order.\n",
        "\n",
        "# Instructions\n",
        "\n",
        "Parse a customer's pizza order into valid JSON:\n",
        "\n",
        "# Examples\n",
        "\n",
        "<product_review id=\"example-1\">\n",
        "I want a small pizza with cheese, tomato sauce, and pepperoni.\n",
        "JSON Response:\n",
        "```\n",
        "{\n",
        "\"size\": \"small\",\n",
        "\"type\": \"normal\",\n",
        "\"ingredients\": [\"cheese\", \"tomato sauce\", \"pepperoni\"]\n",
        "}\n",
        "```\n",
        "</product_review>\n",
        "\n",
        "<product_review id=\"example-2\">\n",
        "Can I get a large pizza with tomato sauce, basil and mozzarella\n",
        "JSON Response:\n",
        "```\n",
        "{\n",
        "\"size\": \"large\",\n",
        "\"type\": \"normal\",\n",
        "\"ingredients\": [\"tomato sauce\", \"basil\", \"mozzarella\"]\n",
        "}\n",
        "```\n",
        "</product_review>\n",
        "\n",
        "ORDER:\n",
        "\"\"\"\n",
        "\n",
        "\n",
        "response = openai_client.responses.create(\n",
        "    model='gpt-4.1',\n",
        "    temperature=0.1,\n",
        "    top_p=1,\n",
        "    max_output_tokens = 250,\n",
        "    instructions = openai_few_shot_prompt,\n",
        "    input=\"Give me a large with cheese & pineapple\"\n",
        "    )\n",
        "\n",
        "print(response.output_text)"
      ],
      "metadata": {
        "colab": {
          "base_uri": "https://localhost:8080/"
        },
        "id": "MPwIa1fdP4jx",
        "outputId": "02140de2-65b3-4db6-ff77-1eb463836797"
      },
      "execution_count": 32,
      "outputs": [
        {
          "output_type": "stream",
          "name": "stdout",
          "text": [
            "```\n",
            "{\n",
            "\"size\": \"large\",\n",
            "\"type\": \"normal\",\n",
            "\"ingredients\": [\"cheese\", \"pineapple\"]\n",
            "}\n",
            "```\n"
          ]
        }
      ]
    },
    {
      "cell_type": "markdown",
      "source": [
        "#### JSON mode\n",
        "\n",
        "To provide control over the schema, and to ensure that you only receive JSON (with no other text or markdown), you can use the Gemini API's [JSON mode](https://github.com/google-gemini/cookbook/blob/main/quickstarts/JSON_mode.ipynb). This forces the model to constrain decoding, such that token selection is guided by the supplied schema."
      ],
      "metadata": {
        "id": "021293096f08"
      }
    },
    {
      "cell_type": "code",
      "source": [
        "import typing_extensions as typing\n",
        "\n",
        "class PizzaOrder(typing.TypedDict):\n",
        "    size: str\n",
        "    ingredients: list[str]\n",
        "    type: str\n",
        "\n",
        "\n",
        "response = client.models.generate_content(\n",
        "    model='gemini-2.0-flash',\n",
        "    config=types.GenerateContentConfig(\n",
        "        temperature=0.1,\n",
        "        response_mime_type=\"application/json\",\n",
        "        response_schema=PizzaOrder,\n",
        "    ),\n",
        "    contents=\"Can I have a large dessert pizza with apple and chocolate\")\n",
        "\n",
        "print(response.text)"
      ],
      "metadata": {
        "id": "50fbf0260912",
        "trusted": true,
        "execution": {
          "iopub.status.busy": "2025-03-31T10:05:19.709202Z",
          "iopub.execute_input": "2025-03-31T10:05:19.709562Z",
          "iopub.status.idle": "2025-03-31T10:05:20.328697Z",
          "shell.execute_reply.started": "2025-03-31T10:05:19.709526Z",
          "shell.execute_reply": "2025-03-31T10:05:20.327445Z"
        },
        "colab": {
          "base_uri": "https://localhost:8080/"
        },
        "outputId": "20f7c01a-ab43-4baf-d93d-509d7a77633d"
      },
      "outputs": [
        {
          "output_type": "stream",
          "name": "stdout",
          "text": [
            "{\n",
            "  \"size\": \"large\",\n",
            "  \"ingredients\": [\"apple\", \"chocolate\"],\n",
            "  \"type\": \"dessert\"\n",
            "}\n"
          ]
        }
      ],
      "execution_count": 33
    },
    {
      "cell_type": "code",
      "source": [
        "#OpenAI JSON mode\n",
        "from pydantic import BaseModel\n",
        "class PizzaOrder(BaseModel):\n",
        "    size: str\n",
        "    ingredients: list[str]\n",
        "    type: str\n",
        "\n",
        "response = openai_client.responses.parse(\n",
        "    model='gpt-4.1',\n",
        "    temperature=0.1,\n",
        "    instructions = openai_few_shot_prompt,\n",
        "    input=\"Give me a large with cheese & pineapple\",\n",
        "    text_format=PizzaOrder\n",
        ")\n",
        "\n",
        "print(response.output_text)"
      ],
      "metadata": {
        "colab": {
          "base_uri": "https://localhost:8080/"
        },
        "id": "42JK7jceUafJ",
        "outputId": "4f0c7f31-4e06-400b-e6ea-d2777b378801"
      },
      "execution_count": 34,
      "outputs": [
        {
          "output_type": "stream",
          "name": "stdout",
          "text": [
            "{\n",
            "  \"size\": \"large\",\n",
            "  \"ingredients\": [\"cheese\", \"pineapple\"],\n",
            "  \"type\": \"normal\"\n",
            "}\n"
          ]
        }
      ]
    },
    {
      "cell_type": "code",
      "source": [
        "class Step(BaseModel):\n",
        "    explanation: str\n",
        "    output: str\n",
        "\n",
        "class MathReasoning(BaseModel):\n",
        "    steps: list[Step]\n",
        "    final_answer: str\n",
        "\n",
        "response = openai_client.responses.parse(\n",
        "    model=\"gpt-4.1\",\n",
        "    temperature=0.1,\n",
        "    input=[\n",
        "        {\n",
        "            \"role\": \"system\",\n",
        "            \"content\": \"You are a helpful math tutor. Guide the user through the solution step by step.\",\n",
        "        },\n",
        "        {\"role\": \"user\", \"content\": \"how can I solve 8x + 7 = -23\"},\n",
        "    ],\n",
        "    text_format=MathReasoning,\n",
        ")\n",
        "\n",
        "print(response.output_text)"
      ],
      "metadata": {
        "id": "AozjMVxM9PlE",
        "outputId": "c32f3f02-be96-441b-8a76-79214e4de462",
        "colab": {
          "base_uri": "https://localhost:8080/"
        }
      },
      "execution_count": 35,
      "outputs": [
        {
          "output_type": "stream",
          "name": "stdout",
          "text": [
            "{\"steps\":[{\"explanation\":\"Start with the equation: 8x + 7 = -23. The goal is to solve for x. First, subtract 7 from both sides to isolate the term with x.\",\"output\":\"8x + 7 - 7 = -23 - 7\"},{\"explanation\":\"Simplify both sides. 7 - 7 is 0, so you have 8x = -30.\",\"output\":\"8x = -30\"},{\"explanation\":\"Now, divide both sides by 8 to solve for x.\",\"output\":\"8x / 8 = -30 / 8\"},{\"explanation\":\"Simplify the right side. -30 divided by 8 is -3.75.\",\"output\":\"x = -3.75\"}],\"final_answer\":\"x = -3.75\"}\n"
          ]
        }
      ]
    },
    {
      "cell_type": "markdown",
      "source": [
        "### Chain of Thought (CoT)\n",
        "\n",
        "Direct prompting on LLMs can return answers quickly and (in terms of output token usage) efficiently, but they can be prone to hallucination. The answer may \"look\" correct (in terms of language and syntax) but is incorrect in terms of factuality and reasoning.\n",
        "\n",
        "Chain-of-Thought prompting is a technique where you instruct the model to output intermediate reasoning steps, and it typically gets better results, especially when combined with few-shot examples. It is worth noting that this technique doesn't completely eliminate hallucinations, and that it tends to cost more to run, due to the increased token count.\n",
        "\n",
        "Models like the Gemini family are trained to be \"chatty\" or \"thoughtful\" and will provide reasoning steps without prompting, so for this simple example you can ask the model to be more direct in the prompt to force a non-reasoning response. Try re-running this step if the model gets lucky and gets the answer correct on the first try."
      ],
      "metadata": {
        "id": "4a93e338e57c"
      }
    },
    {
      "cell_type": "code",
      "source": [
        "prompt = \"\"\"When I was 4 years old, my partner was 3 times my age. Now, I\n",
        "am 20 years old. How old is my partner? Return the answer directly.\"\"\"\n",
        "\n",
        "response = client.models.generate_content(\n",
        "    model='gemini-2.0-flash',\n",
        "    contents=prompt)\n",
        "\n",
        "print(response.text)"
      ],
      "metadata": {
        "id": "5715555db1c1",
        "trusted": true,
        "execution": {
          "iopub.status.busy": "2025-03-31T10:05:20.32979Z",
          "iopub.execute_input": "2025-03-31T10:05:20.330088Z",
          "iopub.status.idle": "2025-03-31T10:05:20.741339Z",
          "shell.execute_reply.started": "2025-03-31T10:05:20.330052Z",
          "shell.execute_reply": "2025-03-31T10:05:20.740335Z"
        },
        "outputId": "e46d69d8-ac07-4f64-c39e-6adbb7661d16",
        "colab": {
          "base_uri": "https://localhost:8080/"
        }
      },
      "outputs": [
        {
          "output_type": "stream",
          "name": "stdout",
          "text": [
            "48\n",
            "\n"
          ]
        }
      ],
      "execution_count": 36
    },
    {
      "cell_type": "code",
      "source": [
        "#GenAI CoT\n",
        "response = openai_client.responses.create(\n",
        "    model='gpt-4.1',\n",
        "    input = prompt\n",
        ")\n",
        "\n",
        "print(response.output_text)\n"
      ],
      "metadata": {
        "id": "6x9P2UD7krKz",
        "outputId": "96a64b0b-4509-4591-9e8e-053b6259400c",
        "colab": {
          "base_uri": "https://localhost:8080/"
        }
      },
      "execution_count": 39,
      "outputs": [
        {
          "output_type": "stream",
          "name": "stdout",
          "text": [
            "Let's solve the problem step by step:\n",
            "\n",
            "Let:\n",
            "- Your age when you were young = 4 years\n",
            "- Your partner's age at that time = 3 times your age = \\(3 \\times 4 = 12\\) years\n",
            "\n",
            "Now:\n",
            "- Your current age = 20 years\n",
            "\n",
            "**Step 1: Find the number of years that have passed since then.**\n",
            "\n",
            "Years passed = Your current age – Your age then  \n",
            "Years passed = \\(20 - 4 = 16\\) years\n",
            "\n",
            "**Step 2: Find your partner's current age.**\n",
            "\n",
            "Partner's age then = 12 years  \n",
            "Partner's current age = Partner's age then + Years passed  \n",
            "Partner's current age = \\(12 + 16 = 28\\) years\n",
            "\n",
            "---\n",
            "\n",
            "**Final Answer:**\n",
            "\n",
            "**Your partner is 28 years old now.**\n"
          ]
        }
      ]
    },
    {
      "cell_type": "markdown",
      "source": [
        "Now try the same approach, but indicate to the model that it should \"think step by step\"."
      ],
      "metadata": {
        "id": "e12b19677bfd"
      }
    },
    {
      "cell_type": "code",
      "source": [
        "prompt = \"\"\"When I was 4 years old, my partner was 3 times my age. Now,\n",
        "I am 20 years old. How old is my partner? Let's think step by step.\"\"\"\n",
        "\n",
        "response = client.models.generate_content(\n",
        "    model='gemini-2.0-flash',\n",
        "    contents=prompt)\n",
        "\n",
        "Markdown(response.text)"
      ],
      "metadata": {
        "id": "ffd7536a481f",
        "trusted": true,
        "execution": {
          "iopub.status.busy": "2025-03-31T10:05:20.742394Z",
          "iopub.execute_input": "2025-03-31T10:05:20.742706Z",
          "iopub.status.idle": "2025-03-31T10:05:21.530187Z",
          "shell.execute_reply.started": "2025-03-31T10:05:20.742677Z",
          "shell.execute_reply": "2025-03-31T10:05:21.529098Z"
        },
        "outputId": "428f7446-120b-4cd5-f267-3b4f45572e27",
        "colab": {
          "base_uri": "https://localhost:8080/",
          "height": 156
        }
      },
      "outputs": [
        {
          "output_type": "execute_result",
          "data": {
            "text/plain": [
              "<IPython.core.display.Markdown object>"
            ],
            "text/markdown": "Here's how to solve the problem step-by-step:\n\n1. **Find the age difference:** When you were 4, your partner was 3 times your age, so they were 4 * 3 = 12 years old.\n\n2. **Calculate the age difference:** The age difference between you and your partner is 12 - 4 = 8 years.\n\n3. **Determine the partner's current age:** Since the age difference remains the same, your partner is currently 20 + 8 = 28 years old.\n\n**Answer:** Your partner is currently 28 years old.\n"
          },
          "metadata": {},
          "execution_count": 37
        }
      ],
      "execution_count": 37
    },
    {
      "cell_type": "code",
      "source": [
        "#GenAI CoT requested\n",
        "response = openai_client.responses.create(\n",
        "    model='gpt-4.1',\n",
        "    input = prompt\n",
        ")\n",
        "\n",
        "Markdown(response.output_text)"
      ],
      "metadata": {
        "id": "HdbU14SglS2E",
        "outputId": "e65be0b4-c053-48df-8a81-b5f97287080f",
        "colab": {
          "base_uri": "https://localhost:8080/",
          "height": 533
        }
      },
      "execution_count": 41,
      "outputs": [
        {
          "output_type": "execute_result",
          "data": {
            "text/plain": [
              "<IPython.core.display.Markdown object>"
            ],
            "text/markdown": "Let’s break it down step by step:\n\n### Step 1: Set up the variables\n- Let:\n  - Your age when you were 4 = 4\n  - Your partner’s age at that time = \\( x \\)\n\n### Step 2: Translate the relationship\n- The problem says: \"my partner was 3 times my age\" when you were 4.\n- That means when you were 4, your partner was \\( 3 \\times 4 = 12 \\) years old.\n\n### Step 3: Find the age difference\n- When you were 4, your partner was 12.\n- Age difference = \\( 12 - 4 = 8 \\) years\n\n### Step 4: Fast forward to now\n- Now, you are 20.\n- The age difference remains the same (8 years).\n\n### Step 5: Calculate your partner’s current age\n- Partner’s current age = Your current age + age difference\n- Partner’s current age = \\( 20 + 8 = 28 \\)\n\n---\n\n## **Final Answer**\n**Your partner is currently 28 years old.**"
          },
          "metadata": {},
          "execution_count": 41
        }
      ]
    },
    {
      "cell_type": "markdown",
      "source": [
        "### ReAct: Reason and act\n",
        "\n",
        "In this example you will run a ReAct prompt directly in the Gemini API and perform the searching steps yourself. As this prompt follows a well-defined structure, there are frameworks available that wrap the prompt into easier-to-use APIs that make tool calls automatically, such as the LangChain example from the \"Prompting\" whitepaper.\n",
        "\n",
        "To try this out with the Wikipedia search engine, check out the [Searching Wikipedia with ReAct](https://github.com/google-gemini/cookbook/blob/main/examples/Search_Wikipedia_using_ReAct.ipynb) cookbook example.\n",
        "\n",
        "\n",
        "> Note: The prompt and in-context examples used here are from [https://github.com/ysymyth/ReAct](https://github.com/ysymyth/ReAct) which is published under an [MIT license](https://opensource.org/licenses/MIT), Copyright (c) 2023 Shunyu Yao.\n",
        "\n",
        "<table align=left>\n",
        "  <td>\n",
        "    <a target=\"_blank\" href=\"https://aistudio.google.com/prompts/18oo63Lwosd-bQ6Ay51uGogB3Wk3H8XMO\"><img src=\"https://ai.google.dev/site-assets/images/marketing/home/icon-ais.png\" style=\"height: 24px\" height=24/> Open in AI Studio</a>\n",
        "  </td>\n",
        "</table>\n"
      ],
      "metadata": {
        "id": "oiLgBQJj0V53"
      }
    },
    {
      "cell_type": "code",
      "source": [
        "model_instructions = \"\"\"\n",
        "Solve a question answering task with interleaving Thought, Action, Observation steps. Thought can reason about the current situation,\n",
        "Observation is understanding relevant information from an Action's output and Action can be one of three types:\n",
        " (1) <search>entity</search>, which searches the exact entity on Wikipedia and returns the first paragraph if it exists. If not, it\n",
        "     will return some similar entities to search and you can try to search the information from those topics.\n",
        " (2) <lookup>keyword</lookup>, which returns the next sentence containing keyword in the current context. This only does exact matches,\n",
        "     so keep your searches short.\n",
        " (3) <finish>answer</finish>, which returns the answer and finishes the task.\n",
        "\"\"\"\n",
        "\n",
        "example1 = \"\"\"Question\n",
        "Musician and satirist Allie Goertz wrote a song about the \"The Simpsons\" character Milhouse, who Matt Groening named after who?\n",
        "\n",
        "Thought 1\n",
        "The question simplifies to \"The Simpsons\" character Milhouse is named after who. I only need to search Milhouse and find who it is named after.\n",
        "\n",
        "Action 1\n",
        "<search>Milhouse</search>\n",
        "\n",
        "Observation 1\n",
        "Milhouse Mussolini Van Houten is a recurring character in the Fox animated television series The Simpsons voiced by Pamela Hayden and created by Matt Groening.\n",
        "\n",
        "Thought 2\n",
        "The paragraph does not tell who Milhouse is named after, maybe I can look up \"named after\".\n",
        "\n",
        "Action 2\n",
        "<lookup>named after</lookup>\n",
        "\n",
        "Observation 2\n",
        "Milhouse was named after U.S. president Richard Nixon, whose middle name was Milhous.\n",
        "\n",
        "Thought 3\n",
        "Milhouse was named after U.S. president Richard Nixon, so the answer is Richard Nixon.\n",
        "\n",
        "Action 3\n",
        "<finish>Richard Nixon</finish>\n",
        "\"\"\"\n",
        "\n",
        "example2 = \"\"\"Question\n",
        "What is the elevation range for the area that the eastern sector of the Colorado orogeny extends into?\n",
        "\n",
        "Thought 1\n",
        "I need to search Colorado orogeny, find the area that the eastern sector of the Colorado orogeny extends into, then find the elevation range of the area.\n",
        "\n",
        "Action 1\n",
        "<search>Colorado orogeny</search>\n",
        "\n",
        "Observation 1\n",
        "The Colorado orogeny was an episode of mountain building (an orogeny) in Colorado and surrounding areas.\n",
        "\n",
        "Thought 2\n",
        "It does not mention the eastern sector. So I need to look up eastern sector.\n",
        "\n",
        "Action 2\n",
        "<lookup>eastern sector</lookup>\n",
        "\n",
        "Observation 2\n",
        "The eastern sector extends into the High Plains and is called the Central Plains orogeny.\n",
        "\n",
        "Thought 3\n",
        "The eastern sector of Colorado orogeny extends into the High Plains. So I need to search High Plains and find its elevation range.\n",
        "\n",
        "Action 3\n",
        "<search>High Plains</search>\n",
        "\n",
        "Observation 3\n",
        "High Plains refers to one of two distinct land regions\n",
        "\n",
        "Thought 4\n",
        "I need to instead search High Plains (United States).\n",
        "\n",
        "Action 4\n",
        "<search>High Plains (United States)</search>\n",
        "\n",
        "Observation 4\n",
        "The High Plains are a subregion of the Great Plains. From east to west, the High Plains rise in elevation from around 1,800 to 7,000 ft (550 to 2,130m).\n",
        "\n",
        "Thought 5\n",
        "High Plains rise in elevation from around 1,800 to 7,000 ft, so the answer is 1,800 to 7,000 ft.\n",
        "\n",
        "Action 5\n",
        "<finish>1,800 to 7,000 ft</finish>\n",
        "\"\"\"\n",
        "\n",
        "# Come up with more examples yourself, or take a look through https://github.com/ysymyth/ReAct/"
      ],
      "metadata": {
        "id": "cBgyNJ5z0VSs",
        "trusted": true,
        "execution": {
          "iopub.status.busy": "2025-03-31T10:05:21.531769Z",
          "iopub.execute_input": "2025-03-31T10:05:21.532172Z",
          "iopub.status.idle": "2025-03-31T10:05:21.53963Z",
          "shell.execute_reply.started": "2025-03-31T10:05:21.532126Z",
          "shell.execute_reply": "2025-03-31T10:05:21.538374Z"
        }
      },
      "outputs": [],
      "execution_count": null
    },
    {
      "cell_type": "markdown",
      "source": [
        "To capture a single step at a time, while ignoring any hallucinated Observation steps, you will use `stop_sequences` to end the generation process. The steps are `Thought`, `Action`, `Observation`, in that order."
      ],
      "metadata": {
        "id": "C3wbfstjTgey"
      }
    },
    {
      "cell_type": "code",
      "source": [
        "question = \"\"\"Question\n",
        "Who was the youngest author listed on the transformers NLP paper?\n",
        "\"\"\"\n",
        "\n",
        "# You will perform the Action; so generate up to, but not including, the Observation.\n",
        "react_config = types.GenerateContentConfig(\n",
        "    stop_sequences=[\"\\nObservation\"],\n",
        "    system_instruction=model_instructions + example1 + example2,\n",
        ")\n",
        "\n",
        "# Create a chat that has the model instructions and examples pre-seeded.\n",
        "react_chat = client.chats.create(\n",
        "    model='gemini-2.0-flash',\n",
        "    config=react_config,\n",
        ")\n",
        "\n",
        "resp = react_chat.send_message(question)\n",
        "print(resp.text)"
      ],
      "metadata": {
        "id": "8mxrXRkRTdXm",
        "trusted": true,
        "execution": {
          "iopub.status.busy": "2025-03-31T10:05:21.541288Z",
          "iopub.execute_input": "2025-03-31T10:05:21.541697Z",
          "iopub.status.idle": "2025-03-31T10:05:22.176046Z",
          "shell.execute_reply.started": "2025-03-31T10:05:21.541663Z",
          "shell.execute_reply": "2025-03-31T10:05:22.174821Z"
        }
      },
      "outputs": [],
      "execution_count": null
    },
    {
      "cell_type": "markdown",
      "source": [
        "Now you can perform this research yourself and supply it back to the model."
      ],
      "metadata": {
        "id": "aW2PIdLbVv3l"
      }
    },
    {
      "cell_type": "code",
      "source": [
        "observation = \"\"\"Observation 1\n",
        "[1706.03762] Attention Is All You Need\n",
        "Ashish Vaswani, Noam Shazeer, Niki Parmar, Jakob Uszkoreit, Llion Jones, Aidan N. Gomez, Lukasz Kaiser, Illia Polosukhin\n",
        "We propose a new simple network architecture, the Transformer, based solely on attention mechanisms, dispensing with recurrence and convolutions entirely.\n",
        "\"\"\"\n",
        "resp = react_chat.send_message(observation)\n",
        "print(resp.text)"
      ],
      "metadata": {
        "id": "mLMc0DZaV9g2",
        "trusted": true,
        "execution": {
          "iopub.status.busy": "2025-03-31T10:05:22.177457Z",
          "iopub.execute_input": "2025-03-31T10:05:22.177839Z",
          "iopub.status.idle": "2025-03-31T10:05:22.733581Z",
          "shell.execute_reply.started": "2025-03-31T10:05:22.177792Z",
          "shell.execute_reply": "2025-03-31T10:05:22.732393Z"
        }
      },
      "outputs": [],
      "execution_count": null
    },
    {
      "cell_type": "markdown",
      "source": [
        "This process repeats until the `<finish>` action is reached. You can continue running this yourself if you like, or try the [Wikipedia example](https://github.com/google-gemini/cookbook/blob/main/examples/Search_Wikipedia_using_ReAct.ipynb) to see a fully automated ReAct system at work."
      ],
      "metadata": {
        "id": "bo0tzf4nX6dA"
      }
    },
    {
      "cell_type": "markdown",
      "source": [
        "## Thinking mode\n",
        "\n",
        "The experiemental Gemini Flash 2.0 \"Thinking\" model has been trained to generate the \"thinking process\" the model goes through as part of its response. As a result, the Flash Thinking model is capable of stronger reasoning capabilities in its responses.\n",
        "\n",
        "Using a \"thinking mode\" model can provide you with high-quality responses without needing specialised prompting like the previous approaches. One reason this technique is effective is that you induce the model to generate relevant information (\"brainstorming\", or \"thoughts\") that is then used as part of the context in which the final response is generated.\n",
        "\n",
        "Note that when you use the API, you get the final response from the model, but the thoughts are not captured. To see the intermediate thoughts, try out [the thinking mode model in AI Studio](https://aistudio.google.com/prompts/new_chat?model=gemini-2.0-flash-thinking-exp-01-21).\n",
        "\n",
        "<table align=left>\n",
        "  <td>\n",
        "    <a target=\"_blank\" href=\"https://aistudio.google.com/prompts/1Z991SV7lZZZqioOiqIUPv9a9ix-ws4zk\"><img src=\"https://ai.google.dev/site-assets/images/marketing/home/icon-ais.png\" style=\"height: 24px\" height=24/> Open in AI Studio</a>\n",
        "  </td>\n",
        "</table>"
      ],
      "metadata": {
        "id": "SCUtNibk7FHf"
      }
    },
    {
      "cell_type": "code",
      "source": [
        "import io\n",
        "from IPython.display import Markdown, clear_output\n",
        "\n",
        "\n",
        "response = client.models.generate_content_stream(\n",
        "    model='gemini-2.0-flash-thinking-exp',\n",
        "    contents='Who was the youngest author listed on the transformers NLP paper?',\n",
        ")\n",
        "\n",
        "buf = io.StringIO()\n",
        "for chunk in response:\n",
        "    buf.write(chunk.text)\n",
        "    # Display the response as it is streamed\n",
        "    print(chunk.text, end='')\n",
        "\n",
        "# And then render the finished response as formatted markdown.\n",
        "clear_output()\n",
        "Markdown(buf.getvalue())"
      ],
      "metadata": {
        "trusted": true,
        "execution": {
          "iopub.status.busy": "2025-03-31T10:05:22.738665Z",
          "iopub.execute_input": "2025-03-31T10:05:22.738995Z",
          "iopub.status.idle": "2025-03-31T10:05:29.680662Z",
          "shell.execute_reply.started": "2025-03-31T10:05:22.738962Z",
          "shell.execute_reply": "2025-03-31T10:05:29.679463Z"
        },
        "id": "TaaDNcLU7FHg"
      },
      "outputs": [],
      "execution_count": null
    },
    {
      "cell_type": "markdown",
      "source": [
        "## Code prompting"
      ],
      "metadata": {
        "id": "jPiZ_eIIaVPt"
      }
    },
    {
      "cell_type": "markdown",
      "source": [
        "### Generating code\n",
        "\n",
        "The Gemini family of models can be used to generate code, configuration and scripts. Generating code can be helpful when learning to code, learning a new language or for rapidly generating a first draft.\n",
        "\n",
        "It's important to be aware that since LLMs can make mistakes, and can repeat training data, it's essential to read and test your code first, and comply with any relevant licenses.\n",
        "\n",
        "<table align=left>\n",
        "  <td>\n",
        "    <a target=\"_blank\" href=\"https://aistudio.google.com/prompts/1YX71JGtzDjXQkgdes8bP6i3oH5lCRKxv\"><img src=\"https://ai.google.dev/site-assets/images/marketing/home/icon-ais.png\" style=\"height: 24px\" height=24/> Open in AI Studio</a>\n",
        "  </td>\n",
        "</table>"
      ],
      "metadata": {
        "id": "ZinKamwXeR6C"
      }
    },
    {
      "cell_type": "code",
      "source": [
        "# The Gemini models love to talk, so it helps to specify they stick to the code if that\n",
        "# is all that you want.\n",
        "code_prompt = \"\"\"\n",
        "Write a Python function to calculate the factorial of a number. No explanation, provide only the code.\n",
        "\"\"\"\n",
        "\n",
        "response = client.models.generate_content(\n",
        "    model='gemini-2.0-flash',\n",
        "    config=types.GenerateContentConfig(\n",
        "        temperature=1,\n",
        "        top_p=1,\n",
        "        max_output_tokens=1024,\n",
        "    ),\n",
        "    contents=code_prompt)\n",
        "\n",
        "Markdown(response.text)"
      ],
      "metadata": {
        "id": "fOQP9pqmeUO1",
        "trusted": true,
        "execution": {
          "iopub.status.busy": "2025-03-31T10:05:29.682131Z",
          "iopub.execute_input": "2025-03-31T10:05:29.682517Z",
          "iopub.status.idle": "2025-03-31T10:05:30.209135Z",
          "shell.execute_reply.started": "2025-03-31T10:05:29.682479Z",
          "shell.execute_reply": "2025-03-31T10:05:30.207926Z"
        }
      },
      "outputs": [],
      "execution_count": null
    },
    {
      "cell_type": "markdown",
      "source": [
        "### Code execution\n",
        "\n",
        "The Gemini API can automatically run generated code too, and will return the output.\n",
        "\n",
        "<table align=left>\n",
        "  <td>\n",
        "    <a target=\"_blank\" href=\"https://aistudio.google.com/prompts/11veFr_VYEwBWcLkhNLr-maCG0G8sS_7Z\"><img src=\"https://ai.google.dev/site-assets/images/marketing/home/icon-ais.png\" style=\"height: 24px\" height=24/> Open in AI Studio</a>\n",
        "  </td>\n",
        "</table>"
      ],
      "metadata": {
        "id": "wlBMWSFhgVRQ"
      }
    },
    {
      "cell_type": "code",
      "source": [
        "from pprint import pprint\n",
        "\n",
        "config = types.GenerateContentConfig(\n",
        "    tools=[types.Tool(code_execution=types.ToolCodeExecution())],\n",
        ")\n",
        "\n",
        "code_exec_prompt = \"\"\"\n",
        "Generate the first 14 odd prime numbers, then calculate their sum.\n",
        "\"\"\"\n",
        "\n",
        "response = client.models.generate_content(\n",
        "    model='gemini-2.0-flash',\n",
        "    config=config,\n",
        "    contents=code_exec_prompt)\n",
        "\n",
        "for part in response.candidates[0].content.parts:\n",
        "  pprint(part.to_json_dict())\n",
        "  print(\"-----\")"
      ],
      "metadata": {
        "id": "jT3OfWYfhjRL",
        "trusted": true,
        "execution": {
          "iopub.status.busy": "2025-03-31T10:05:30.210623Z",
          "iopub.execute_input": "2025-03-31T10:05:30.211033Z",
          "iopub.status.idle": "2025-03-31T10:05:32.46561Z",
          "shell.execute_reply.started": "2025-03-31T10:05:30.210989Z",
          "shell.execute_reply": "2025-03-31T10:05:32.464035Z"
        }
      },
      "outputs": [],
      "execution_count": null
    },
    {
      "cell_type": "markdown",
      "source": [
        "This response contains multiple parts, including an opening and closing text part that represent regular responses, an `executable_code` part that represents generated code and a `code_execution_result` part that represents the results from running the generated code.\n",
        "\n",
        "You can explore them individually."
      ],
      "metadata": {
        "id": "ZspT1GSkjG6d"
      }
    },
    {
      "cell_type": "code",
      "source": [
        "for part in response.candidates[0].content.parts:\n",
        "    if part.text:\n",
        "        display(Markdown(part.text))\n",
        "    elif part.executable_code:\n",
        "        display(Markdown(f'```python\\n{part.executable_code.code}\\n```'))\n",
        "    elif part.code_execution_result:\n",
        "        if part.code_execution_result.outcome != 'OUTCOME_OK':\n",
        "            display(Markdown(f'## Status {part.code_execution_result.outcome}'))\n",
        "\n",
        "        display(Markdown(f'```\\n{part.code_execution_result.output}\\n```'))"
      ],
      "metadata": {
        "trusted": true,
        "execution": {
          "iopub.status.busy": "2025-03-31T10:05:32.467378Z",
          "iopub.execute_input": "2025-03-31T10:05:32.467952Z",
          "iopub.status.idle": "2025-03-31T10:05:32.484683Z",
          "shell.execute_reply.started": "2025-03-31T10:05:32.467898Z",
          "shell.execute_reply": "2025-03-31T10:05:32.483654Z"
        },
        "id": "AqmXKPLd7FHj"
      },
      "outputs": [],
      "execution_count": null
    },
    {
      "cell_type": "markdown",
      "source": [
        "### Explaining code\n",
        "\n",
        "The Gemini family of models can explain code to you too. In this example, you pass a [bash script](https://github.com/magicmonty/bash-git-prompt) and ask some questions.\n",
        "\n",
        "<table align=left>\n",
        "  <td>\n",
        "    <a target=\"_blank\" href=\"https://aistudio.google.com/prompts/1N7LGzWzCYieyOf_7bAG4plrmkpDNmUyb\"><img src=\"https://ai.google.dev/site-assets/images/marketing/home/icon-ais.png\" style=\"height: 24px\" height=24/> Open in AI Studio</a>\n",
        "  </td>\n",
        "</table>"
      ],
      "metadata": {
        "id": "1gUX8QzCj4d5"
      }
    },
    {
      "cell_type": "code",
      "source": [
        "file_contents = !curl https://raw.githubusercontent.com/magicmonty/bash-git-prompt/refs/heads/master/gitprompt.sh\n",
        "\n",
        "explain_prompt = f\"\"\"\n",
        "Please explain what this file does at a very high level. What is it, and why would I use it?\n",
        "\n",
        "```\n",
        "{file_contents}\n",
        "```\n",
        "\"\"\"\n",
        "\n",
        "response = client.models.generate_content(\n",
        "    model='gemini-2.0-flash',\n",
        "    contents=explain_prompt)\n",
        "\n",
        "Markdown(response.text)"
      ],
      "metadata": {
        "id": "7_jPMMoxkIEb",
        "trusted": true,
        "execution": {
          "iopub.status.busy": "2025-03-31T10:05:32.485947Z",
          "iopub.execute_input": "2025-03-31T10:05:32.486266Z",
          "iopub.status.idle": "2025-03-31T10:05:34.472037Z",
          "shell.execute_reply.started": "2025-03-31T10:05:32.486236Z",
          "shell.execute_reply": "2025-03-31T10:05:34.471006Z"
        }
      },
      "outputs": [],
      "execution_count": null
    },
    {
      "cell_type": "markdown",
      "source": [
        "## Learn more\n",
        "\n",
        "To learn more about prompting in depth:\n",
        "\n",
        "* Check out the whitepaper issued with today's content,\n",
        "* Try out the apps listed at the top of this notebook ([TextFX](https://textfx.withgoogle.com/), [SQL Talk](https://sql-talk-r5gdynozbq-uc.a.run.app/) and [NotebookLM](https://notebooklm.google/)),\n",
        "* Read the [Introduction to Prompting](https://ai.google.dev/gemini-api/docs/prompting-intro) from the Gemini API docs,\n",
        "* Explore the Gemini API's [prompt gallery](https://ai.google.dev/gemini-api/prompts) and try them out in AI Studio,\n",
        "* Check out the Gemini API cookbook for [inspirational examples](https://github.com/google-gemini/cookbook/blob/main/examples/) and [educational quickstarts](https://github.com/google-gemini/cookbook/blob/main/quickstarts/).\n",
        "\n",
        "Be sure to check out the codelabs on day 3 too, where you will explore some more advanced prompting with code execution.\n",
        "\n",
        "And please share anything exciting you have tried in the Discord!\n",
        "\n",
        "*- [Mark McD](https://linktr.ee/markmcd)*"
      ],
      "metadata": {
        "id": "2a8266d97ce5"
      }
    }
  ]
}